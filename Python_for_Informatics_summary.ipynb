{
 "metadata": {
  "name": "",
  "signature": "sha256:e84b99e856376fca1cedada0dcf21dd9b70589878d227a7b1eaa4638bd4af984"
 },
 "nbformat": 3,
 "nbformat_minor": 0,
 "worksheets": [
  {
   "cells": [
    {
     "cell_type": "markdown",
     "metadata": {},
     "source": [
      "# Python for Informatics: Exploring Information\n",
      "\n",
      "## \uc6d0\ubcf8 \uc790\ub8cc\n",
      "\n",
      "- [PythonLearn - Exploring Data](http://www.pythonlearn.com/book.php)\n",
      "- [statkclee/py4inf-kor \u00b7 GitHub](https://github.com/statkclee/py4inf-kor)\n",
      "\n",
      "## \uc774 \ucc45\uc744 \uc120\ud0dd\ud55c \uc774\uc720\n",
      "\n",
      "- \ub2e4\ub978 \ucc45\ub4e4\uc5d0\uc11c\ub294 \uc758\ubbf8\uc5c6\ub294 \ud30c\uc774\uc36c\uc744 \uc704\ud55c \uc608\uc81c\ub4e4\ub9cc \ub2e4\ub918\ub294\ub370 \uc774 \ucc45\uc5d0\uc11c\ub294 200 \ud398\uc774\uc9c0 \uac00\ub7c9 \uc2e4\uc6a9\uc801\uc778 \uc608\uc81c\ub4e4\uc744 \ub2e4\ub8e8\uc5b4 \ud55c \ubc88\ucbe4 \uc9da\uace0 \ub118\uc5b4\uac08 \ud544\uc694\uac00 \uc788\uc5b4 \ud558\uac8c \ub410\ub2e4.\n",
      "- \uc815\uc815: **\ud6c4\ubc18\ubd80\ub9cc \uc2e4\uc6a9**\uc801\uc778 \uc608\uc81c\n",
      "- **\uc7ac\ubbf8\uc788\ub294 \uc5f0\uc2b5 \ubb38\uc81c**\ub4e4\uc740 **\uc9c1\uc811 \ud480\uc5b4\ubcf8 \uac83**\ub4e4\ub3c4 \uc788\uc73c\ub2c8 \ud65c\uc6a9\ud558\uba74 \uc88b\uaca0\ub2e4.\n",
      "\n",
      "## \ud55c\uad6d\uc5b4\ud310 \uc11c\uba74\n",
      "\n",
      "- Theoretical Thinking\n",
      "- Experimental Thinking\n",
      "- Computational Thinking\n",
      "- \uc815\ubcf4\uc801 \uc0ac\uace0\ub97c \ubc30\uc6b4 \uc0ac\ub78c\uacfc \uc18c\ud504\ud2b8\uc6e8\uc5b4\ub97c \uc774\ud574\ud558\uace0 \ud65c\uc6a9\ud558\ub294 \uc0ac\ub78c\uacfc \uadf8\ub807\uc9c0 \ubabb\ud55c \uc0ac\ub78c\uacfc\uc758 \ucc28\uc774\ub294 \uc0b0\uc5c5\uacbd\uc81c\uc758 \ube48\ubd80\uaca9\ucc28\ubcf4\ub2e4 \ub354 \ud070 \ub514\uc9c0\ud138 \uacbd\uc81c\uc758 \uc815\ubcf4 \ubd88\ud3c9\ub4f1(Digital Divide)\ub97c \uc57c\uae30\ud560 \uac83\uc73c\ub85c \uc608\uce21\uce21\n",
      "\n",
      "## \uc11c\uba74\n",
      "\n",
      "### \uc815\ubcf4\uad50\uc721\uc744 \uc704\ud55c \ud30c\uc774\uc36c: \uacf5\uac1c\ub41c \ucc45 \ub9ac\ubbf9\uc2f1\n",
      "- \uac00\ub2a5\ud55c \ube60\ub974\uac8c \ub370\uc774\ud130 \ubd84\uc11d \ubb38\uc81c\ub97c \ub2e4\ub8e8\uace0, \ucc98\uc74c\ubd80\ud130 \ub370\uc774\ud130\ubd84\uc11d\uc5d0 \uad00\ud55c \uc2e4\uc804 \uc608\uc81c\uc640 \uc5f0\uc2b5\ubb38\uc81c\ub85c \ubc14\uafb8\uc5c8\ub2e4.\n",
      "- \uc774 \ubaa8\ub4e0 \ubcc0\ud654\uc758 \uad81\uadf9\uc801\uc778 \ubaa9\uc801\uc740 \ucef4\ud4e8\ud130 \uacfc\ud559\uc5d0\uc11c informatics\ub85c \uc804\ud658\uc774\uace0 \uc124\uc0ac \uc804\ubb38\uc801\uc778 \ud504\ub85c\uadf8\ub798\uba38\uac00 \ub418\uc9c0 \uc54a\uc744\uc9c0\ub77c\ub3c4 \uc720\uc6a9\ud55c \uccab \uae30\uc220 \uacfc\ubaa9\uc548\uc73c\ub85c \uc758\uc81c\ub97c \ud3ec\uad04\ud558\ub294 \uac83"
     ]
    },
    {
     "cell_type": "markdown",
     "metadata": {},
     "source": [
      "# Chapter1 \uc65c \ud504\ub85c\uadf8\ub798\ubc0d\uc744 \ubc30\uc6cc\uc57c \ud558\ub294\uac00?\n",
      "\n",
      "- \uc138 \ubb38\ub2e8\uc744 \ubcf4\uace0 \uac00\uc7a5 \ub9ce\uc774 \ub098\uc624\ub294 \ubb38\ub2e8\uc758 \ub2e8\uc5b4\ub97c \ucc3e\uc544\ubcf4\uace0 \uc5bc\ub9c8\ub098 \ub098\uc624\ub294\uc9c0\ub97c \uc54c\ub824\uc8fc\uc138\uc694.\n",
      "- \uc0ac\ub78c\uc774 \uba87\ucd08\ub9cc\uc5d0 \uc77d\uace0 \uc774\ud574\ud560 \uc218\ub294 \uc788\uc9c0\ub9cc, \uadf8 \ub2e8\uc5b4\uac00 \uba87 \ubc88 \ub098\uc624\ub294\uc9c0\ub97c \uc138\ub294 \uac83\uc740 \ub9e4\uc6b0 \uace0\uc0dd\uc2a4\ub7ec\uc6b4 \uacfc\uc815\n",
      "- \uc0ac\ub78c\uc740 \uc9c0\ub8e8\ud558\uace0 \ubc18\ubcf5\ub418\ub294 \uc77c\uc758 \ubb38\uc81c\ub97c \ud574\uacb0\ud558\ub294\ub370 \uc801\ud569\ud558\uc9c0 \uc54a\uae30 \ub54c\ubb38\n",
      "- \ucef4\ud4e8\ud130\ub294 \ub17c\ubb38\uc774\ub098 \ucc45\uc5d0\uc11c \ud14d\uc2a4\ud2b8\ub97c \uc77c\uace0 \uc774\ud574\ud558\ub294 \uac83\uc740 \uc5b4\ub835\uc9c0\ub9cc \ub2e8\uc5b4\ub97c \uc138\uace0 \uac00\uc7a5 \ub9ce\uc774 \uc0ac\uc6a9\ub418\ub294 \ub2e8\uc5b4\ub97c \ub9d0\ud574\uc8fc\ub294 \uac83\uc740 \ucef4\ud4e8\ud130\uc5d0\uac8c\ub294 \ubb34\ucc99\uc774\ub098 \uc27d\ub2e4."
     ]
    },
    {
     "cell_type": "code",
     "collapsed": false,
     "input": [
      "!cat code/words.txt"
     ],
     "language": "python",
     "metadata": {},
     "outputs": [
      {
       "output_type": "stream",
       "stream": "stdout",
       "text": [
        "Writing programs or programming is a very creative\r\n",
        "and rewarding activity  You can write programs for\r\n",
        "many reasons ranging from making your living to solving\r\n",
        "a difficult data analysis problem to having fun to helping\r\n",
        "someone else solve a problem  This book assumes that\r\n",
        "{\\em everyone} needs to know how to program and that once\r\n",
        "you know how to program, you will figure out what you want\r\n",
        "to do with your newfound skills\r\n",
        "\r\n",
        "We are surrounded in our daily lives with computers ranging\r\n",
        "from laptops to cell phones  We can think of these computers\r\n",
        "as our personal assistants who can take care of many things\r\n",
        "on our behalf  The hardware in our current-day computers\r\n",
        "is essentially built to continuously as us the question\r\n",
        "What would you like me to do next\r\n",
        "\r\n",
        "Our computers are fast and have vasts amounts of memory and \r\n",
        "could be very helpful to us if we only knew the language to \r\n",
        "speak to explain to the computer what we would like it to \r\n",
        "do next If we knew this language we could tell the \r\n",
        "computer to do tasks on our behalf that were reptitive  \r\n",
        "Interestingly, the kinds of things computers can do best\r\n",
        "are often the kinds of things that we humans find boring\r\n",
        "and mind-numbing\r\n"
       ]
      }
     ],
     "prompt_number": 11
    },
    {
     "cell_type": "code",
     "collapsed": false,
     "input": [
      "%run code/words.py"
     ],
     "language": "python",
     "metadata": {},
     "outputs": [
      {
       "name": "stdout",
       "output_type": "stream",
       "stream": "stdout",
       "text": [
        "Enter file:code/words.txt\n"
       ]
      },
      {
       "output_type": "stream",
       "stream": "stdout",
       "text": [
        "to 16\n"
       ]
      }
     ],
     "prompt_number": 12
    },
    {
     "cell_type": "code",
     "collapsed": false,
     "input": [
      "!cat code/words.py"
     ],
     "language": "python",
     "metadata": {},
     "outputs": [
      {
       "output_type": "stream",
       "stream": "stdout",
       "text": [
        "name = raw_input('Enter file:')\r\n",
        "handle = open(name, 'r')\r\n",
        "text = handle.read()\r\n",
        "words = text.split()\r\n",
        "counts = dict()\r\n",
        "for word in words: \r\n",
        "   counts[word] = counts.get(word,0) + 1\r\n",
        "\r\n",
        "bigcount = None\r\n",
        "bigword = None\r\n",
        "for word,count in counts.items():\r\n",
        "    if bigcount == None or count > bigcount:\r\n",
        "        bigword = word \r\n",
        "        bigcount = count \r\n",
        "\r\n",
        "print bigword, bigcount\r\n"
       ]
      }
     ],
     "prompt_number": 13
    },
    {
     "cell_type": "markdown",
     "metadata": {},
     "source": [
      "- \uc0ac\ub78c\uc774 \uc798\ud558\uc9c0 \ubabb\ud558\ub294 \uc810\uc744 \ucef4\ud4e8\ud130\uac00 \uc798\ud560 \uc218 \uc788\ub2e4\ub294 \uc0ac\uc2e4\uc744 \uc774\ud574\ud558\uba74 \uc65c \ucef4\ud4e8\ud130 \uc5b8\uc5b4\ub85c \ucef4\ud4e8\ud130\uc640 \ub300\ud654\ud574\uc57c \ud558\ub294\uc9c0\ub97c \uc54c \uc218 \uc788\ub2e4.\n",
      "- \ucef4\ud4e8\ud130\uc640 \ub300\ud654\ud560 \uc218 \uc788\ub294 \uc5b8\uc5b4\ub97c \ubc30\uc6b0\uac8c \ub418\uba74 \uc9c0\ub8e8\ud558\uace0 \ubc18\ubcf5\ub418\ub294 \uc77c\uc744 \ucef4\ud4e8\ud130\uac00 \ucc98\ub9ac\ud558\uac8c \ud558\uba74 \ub354 \ub9ce\uc740 \uc2dc\uac04\uc744 \ucc3d\uc758\uc801\uc774\uace0, \uc9c1\uad00\uc801\uc774\uba70, \ucc3d\uc870\uc801\uc778 \uc2dc\uac04\uc744 \ucef4\ud4e8\ud130\uc640 \ud568\uaed8 \ud560 \uc218 \uc788\uc74c"
     ]
    },
    {
     "cell_type": "markdown",
     "metadata": {},
     "source": [
      "## \ucc3d\uc758\uc131\uacfc \ub3d9\uae30\n",
      "\n",
      "- \uc0ac\uc6a9\uc790\uac00 \uc18c\ud504\ud2b8\uc6e8\uc5b4\ub97c \uace0\ub974\uac8c \ub420 \ub54c \uace0\uac1d\uc758 \uc120\ud0dd\uc5d0 \ub300\ud574\uc11c \ud504\ub85c\uadf8\ub798\uba38\ub294 \uc9c1\uc811\uc801\uc73c\ub85c \ubcf4\uc0c1\uc744 \ubc1b\uac8c \ub428\n",
      "- \ub3d9\uae30: \uc77c\uc0c1\uc0dd\ud65c\uc5d0\uc11c \ub9de\ub531\ub728\ub9ac\ub294 \uc790\ub8cc\uc640 \uc815\ubcf4\ub97c \uc798 \ub2e4\ub904 \uc880 \ub354 \uc0dd\uc0b0\uc801\uc73c\ub85c \uc6b0\ub9ac\uc758 \uc0b6\uc744 \ub9cc\ub4dc\ub294\ub370 \ucd08\uc810\uc744 \uc7a1\uc544\ubcf4\uc790\n",
      "\n",
      "## 1.2 \ucef4\ud4e8\ud130 \ud558\ub4dc\uc6e8\uc5b4 \uc544\ud0a4\ud14d\ucc98\n",
      "\n",
      "- CPU\n",
      "- Memory\n",
      "- Input Output Devices\n",
      "- Network\n",
      "\n",
      "## 1.3 \ud504\ub85c\uadf8\ub798\ubc0d \uc774\ud574\ud558\uae30\n",
      "\n",
      "### \ud504\ub85c\uadf8\ub798\uba38\uac00 \ub418\uae30 \uc704\ud574\uc11c \ud544\uc694\ud55c 2\uac00\uc9c0\n",
      "\n",
      "1. \ud30c\uc774\uc36c\uac19\uc740 \ud504\ub85c\uadf8\ub798\ubc0d \uc5b8\uc5b4\n",
      "2. Story\ub97c \ub9d0\ud560 \uc218 \uc788\uc5b4\uc57c \ud55c\ub2e4: \uc2a4\ud1a0\ub9ac\ub97c \ub9cc\ub4e4\ub54c, \ub3c5\uc790\uc5d0\uac8c \uc6b0\ub9ac\uc758 \uc544\uc774\ub514\uc5b4\ub97c \uc804\ub2ec\ud558\uae30 \uc704\ud574\uc11c \ub2e8\uc5b4\uc640 \ubb38\uc7a5\uc744 \uc870\ud569\ud569\ub2c8\ub2e4. \uc6b0\ub9ac\uac00 \ub9cc\ub4e0 \ud504\ub85c\uadf8\ub7a8\uc740 \uc2a4\ud1a0\ub9ac\uc774\uace0, \ud480\ub824\uace0 \ud558\ub294 \ubb38\uc81c\ub294 \uc544\uc774\ub514\uc5b4\uc5d0 \ud574\ub2f9\ud569\ub2c8\ub2e4.\n",
      "\n",
      "## 1.4 \ub2e8\uc5b4\uc640 \ubb38\uc7a5\n",
      "\n",
      "- \uc608\uc57d\uc5b4(reserved words): \ubcc0\uc218\uc5d0\ub294 \uc0ac\uc6a9\ud558\uc9c0 \ub9c8\ub77c\ub77c\n",
      "\n",
      "\n",
      "\n",
      "### <font color=\"red\">\uc544\ub294 \ub0b4\uc6a9\uc774 \ub9ce\uc544\uc11c \uc7ac\ubbf8\uc5c6\ub2e4. \ubaa8\ub450 \uc2a4\ud0b5. \uc911\uc694\ud55c \ub0b4\uc6a9\ub9cc \uc120\ubcc4\ud574 \uc801\ub294\ub2e4.</font>\n",
      "\n",
      "## 1.9 \ud504\ub85c\uadf8\ub7a8 \uad6c\uc131\uc694\uc131\n",
      "\n",
      "- \uc785\ub825: \ucef4\ud4e8\ud130 \ubc14\uae65\uc138\uacc4\uc5d0\uc11c \ub370\uc774\ud130\ub97c \uac00\uc838\uc628\ub2e4. \ud30c\uc77c\ub85c\ubd80\ud130 \ub370\uc774\ud130\ub97c \uc77d\uc744 \uc218\ub3c4 \uc788\uace0, \ub9c8\uc774\ud06c\ub098 GPS \uac19\uc740 \uc13c\uc11c\uc5d0\uc11c \ub370\uc774\ud130\ub97c \uc785\ub825\ubc1b\uc744 \uc218\ub3c4 \uc788\ub2e4. \uc704 \ud504\ub85c\uadf8\ub7a8\uc5d0\uc11c \uc0ac\uc6a9\uc790\uc758 \ud0a4\ubcf4\ub4dc\ub85c \ub370\uc774\ud130\ub97c \uc785\ub825\ubc1b\uc544 \uc785\ub825\uac12\uc73c\ub85c \uc0ac\uc6a9\ub41c \uc0ac\ub840\uc774\ub2e4.\n",
      "- \ucd9c\ub825: \ud654\uba74\uc5d0 \ud504\ub85c\uadf8\ub7a8\uc758 \uacb0\uacfc\uac12\uc744 \ubcf4\uc5ec\uc8fc\uac70\ub098 \ud30c\uc77c\uc5d0 \uc800\uc7a5\ud55c\ub2e4. \ud639\uc740 \uc74c\uc545\uc744 \uc5f0\uc8fc\ud558\uac70\ub098 \ud14d\uc2a4\ud2b8\ub97c \uc77d\ub3c4\ub85d \uc2a4\ud53c\ucee4 \uac19\uc740 \uc7a5\uce58\uc5d0 \ub370\uc774\ud130\ub97c \ubcf4\ub0b8\ub2e4.\n",
      "- \uc21c\ucc28 \uc2e4\ud589: \uc2a4\ud06c\ub9bd\ud2b8\uc5d0 \uc791\uc131\ub41c \uc21c\uc11c\uc5d0 \ub9de\ucd94\uc5b4 \ud55c\uc904 \ud55c\uc904 \uc2e4\ud589\ub41c\ub2e4.\n",
      "- \uc870\uac74 \uc2e4\ud589: \uc870\uac74\uc744 \ud655\uc778\ud558\uace0 \uba85\ub839\ubb38\uc744 \uc2e4\ud589\ud558\uac70\ub098 \uac74\ub108\ub6f4\ub2e4.\n",
      "- \ubc18\ubcf5 \uc2e4\ud589: \ubc18\ubcf5\uc801\uc73c\ub85c \uba85\ub839\ubb38\uc744 \uc2e4\ud589\ud55c\ub2e4. \ub300\uccb4\ub85c \ubc18\ubcf5 \uc2e4\ud589\uc2dc \ubcc0\ud654\ub97c \uc218\ubc18\ud558\ub09f.\n",
      "- \uc7ac\uc0ac\uc6a9: \uba85\ub839\uc5b4\ub97c \ud55c \ubc88 \uc791\uc131\ud558\uace0 \uc774\ub984\uc744 \uc8fc\uc5b4 \uc800\uc7a5\ud558\uace0 \ud504\ub85c\uadf8\ub7a8\uc758 \ud544\uc694\uc5d0 \ub530\ub77c \uc774\ub984\uc744 \ubd88\ub7ec \uba87\ucc28\ub840 \ub2e4\uc2dc \uc0ac\uc6a9\ud55c\ub2e4.\n",
      "- '\ud504\ub85c\uadf8\ub7a8\uc744 \uc9dc\ub294 \uc608\uc220\uc740 \uc774\ub7ec\ud55c \uae30\ubcf8 \uc694\uc18c\ub97c \uc870\ud569\ud558\uace0 \uc5ee\uc5b4 \uc0ac\uc6a9\uc790\uc5d0\uac8c \uc720\uc6a9\ud55c \ubb34\uc5b8\uac00\ub97c \ub9cc\ub4dc\ub294 \uac83\uac83\n",
      "\n",
      "## 1.10 \ud504\ub85c\uadf8\ub7a8\uc774 \uc798\ubabb\ub418\uba74?\n",
      "\n",
      "- Syntax Error\n",
      "- Logic Error\n",
      "- Semantic Error: \uad6c\ubb38\ub860\uc801\uc73c\ub85c \uc644\ubcbd\ud558\uace0 \uc62c\ubc14\ub978 \uc21c\uc11c\ub85c \ud504\ub85c\uadf8\ub7a8\uc758 \uba85\ub839\ubb38\uc774 \uc791\uc131\ub418\uc5c8\uc9c0\ub9cc \ud504\ub85c\uadf8\ub7a8\uc5d0 \uc624\ub958\uac00 \uc228\uc5b4\uc788\ub2e4. \n",
      "\n",
      "## 3.8 \ub17c\ub9ac \uc5f0\uc0b0\uc2dd\uc758 Short circuit \ud3c9\uac00\n",
      "\n",
      "- Guardian pattern\uc73c\ub85c \uc5f0\uacb0 \ub428"
     ]
    },
    {
     "cell_type": "code",
     "collapsed": false,
     "input": [
      "x = 1\n",
      "y = 0\n",
      "# x >= 2\uc5d0\uc11c \uba48\ucda4\n",
      "x >= 2 and y != 0 and (x/y) > 2"
     ],
     "language": "python",
     "metadata": {},
     "outputs": [
      {
       "metadata": {},
       "output_type": "pyout",
       "prompt_number": 14,
       "text": [
        "False"
       ]
      }
     ],
     "prompt_number": 14
    },
    {
     "cell_type": "code",
     "collapsed": false,
     "input": [
      "x = 6\n",
      "y = 0\n",
      "# y != 0\uc5d0\uc11c \uba48\ucda4\n",
      "x >= 2 and y != 0 and (x/y) > 2"
     ],
     "language": "python",
     "metadata": {},
     "outputs": [
      {
       "metadata": {},
       "output_type": "pyout",
       "prompt_number": 15,
       "text": [
        "False"
       ]
      }
     ],
     "prompt_number": 15
    },
    {
     "cell_type": "code",
     "collapsed": false,
     "input": [
      "# 3\ubc88\uc9f8\uc778 y != 0\uc5d0\uc11c \uba48\ucda4\n",
      "x >= 2 and (x/y) > 2 and y != 0"
     ],
     "language": "python",
     "metadata": {},
     "outputs": [
      {
       "ename": "ZeroDivisionError",
       "evalue": "integer division or modulo by zero",
       "output_type": "pyerr",
       "traceback": [
        "\u001b[0;31m---------------------------------------------------------------------------\u001b[0m\n\u001b[0;31mZeroDivisionError\u001b[0m                         Traceback (most recent call last)",
        "\u001b[0;32m<ipython-input-16-bb2aeda52228>\u001b[0m in \u001b[0;36m<module>\u001b[0;34m()\u001b[0m\n\u001b[0;32m----> 1\u001b[0;31m \u001b[0mx\u001b[0m \u001b[0;34m>=\u001b[0m \u001b[0;36m2\u001b[0m \u001b[0;32mand\u001b[0m \u001b[0;34m(\u001b[0m\u001b[0mx\u001b[0m\u001b[0;34m/\u001b[0m\u001b[0my\u001b[0m\u001b[0;34m)\u001b[0m \u001b[0;34m>\u001b[0m \u001b[0;36m2\u001b[0m \u001b[0;32mand\u001b[0m \u001b[0my\u001b[0m \u001b[0;34m!=\u001b[0m \u001b[0;36m0\u001b[0m\u001b[0;34m\u001b[0m\u001b[0m\n\u001b[0m",
        "\u001b[0;31mZeroDivisionError\u001b[0m: integer division or modulo by zero"
       ]
      }
     ],
     "prompt_number": 16
    },
    {
     "cell_type": "markdown",
     "metadata": {},
     "source": [
      "- 2\ubc88\uc9f8 \uc608\uc81c\uc5d0\uc11c \ubcf4\uba74 y != 0\uc774 '0'\uc774 \uc544\ub2c8\uc5b4\ub9cc (x/y) \uc774 \uc2e4\ud589\ub420 \uc218 \uc788\ub3c4\ub85d \uc218\ud638\uc790 \uc5ed\ud560\uc744 \uc218\ud589\ud55c\ub2e4\uace0 \ud560 \uc218 \uc788\uc74c"
     ]
    },
    {
     "cell_type": "markdown",
     "metadata": {},
     "source": [
      "## 3.9 \ub514\ubc84\uae45\n",
      "\n",
      "- \uc2e0\ud638 \ub300\ube44 \uc7a1\uc74c\ube44 \uacc4\uc0b0"
     ]
    },
    {
     "cell_type": "code",
     "collapsed": false,
     "input": [
      "import math\n",
      "signal_power = 9\n",
      "noise_power = 10\n",
      "ratio = signal_power / noise_power\n",
      "print ratio\n",
      "decibels = 10 * math.log10(ratio)\n",
      "print decibels"
     ],
     "language": "python",
     "metadata": {},
     "outputs": [
      {
       "output_type": "stream",
       "stream": "stdout",
       "text": [
        "0\n"
       ]
      },
      {
       "ename": "ValueError",
       "evalue": "math domain error",
       "output_type": "pyerr",
       "traceback": [
        "\u001b[0;31m---------------------------------------------------------------------------\u001b[0m\n\u001b[0;31mValueError\u001b[0m                                Traceback (most recent call last)",
        "\u001b[0;32m<ipython-input-405-7dc8a80e8f5a>\u001b[0m in \u001b[0;36m<module>\u001b[0;34m()\u001b[0m\n\u001b[1;32m      4\u001b[0m \u001b[0mratio\u001b[0m \u001b[0;34m=\u001b[0m \u001b[0msignal_power\u001b[0m \u001b[0;34m/\u001b[0m \u001b[0mnoise_power\u001b[0m\u001b[0;34m\u001b[0m\u001b[0m\n\u001b[1;32m      5\u001b[0m \u001b[0;32mprint\u001b[0m \u001b[0mratio\u001b[0m\u001b[0;34m\u001b[0m\u001b[0m\n\u001b[0;32m----> 6\u001b[0;31m \u001b[0mdecibels\u001b[0m \u001b[0;34m=\u001b[0m \u001b[0;36m10\u001b[0m \u001b[0;34m*\u001b[0m \u001b[0mmath\u001b[0m\u001b[0;34m.\u001b[0m\u001b[0mlog10\u001b[0m\u001b[0;34m(\u001b[0m\u001b[0mratio\u001b[0m\u001b[0;34m)\u001b[0m\u001b[0;34m\u001b[0m\u001b[0m\n\u001b[0m\u001b[1;32m      7\u001b[0m \u001b[0;32mprint\u001b[0m \u001b[0mdecibels\u001b[0m\u001b[0;34m\u001b[0m\u001b[0m\n",
        "\u001b[0;31mValueError\u001b[0m: math domain error"
       ]
      }
     ],
     "prompt_number": 405
    },
    {
     "cell_type": "code",
     "collapsed": false,
     "input": [
      "import math\n",
      "signal_power = 9\n",
      "noise_power = 10\n",
      "# divide operations need float\n",
      "ratio = float(signal_power) / noise_power\n",
      "print ratio\n",
      "decibels = 10 * math.log10(ratio)\n",
      "print decibels"
     ],
     "language": "python",
     "metadata": {},
     "outputs": [
      {
       "output_type": "stream",
       "stream": "stdout",
       "text": [
        "0.9\n",
        "-0.457574905607\n"
       ]
      }
     ],
     "prompt_number": 22
    },
    {
     "cell_type": "code",
     "collapsed": false,
     "input": [
      "type(str)"
     ],
     "language": "python",
     "metadata": {},
     "outputs": [
      {
       "metadata": {},
       "output_type": "pyout",
       "prompt_number": 23,
       "text": [
        "type"
       ]
      }
     ],
     "prompt_number": 23
    },
    {
     "cell_type": "code",
     "collapsed": false,
     "input": [
      "type(int)"
     ],
     "language": "python",
     "metadata": {},
     "outputs": [
      {
       "metadata": {},
       "output_type": "pyout",
       "prompt_number": 24,
       "text": [
        "type"
       ]
      }
     ],
     "prompt_number": 24
    },
    {
     "cell_type": "markdown",
     "metadata": {},
     "source": [
      "## 4.6 \uc2e0\uaddc \ud568\uc218 \ucd94\uac00\n",
      "\n",
      "- print_lyrics\uc758 \uac12\uc740 'function' \ud615\uc744 \uac00\uc9c0\ub294 \ud568\uc218 \uac1c\uccb4(function object)"
     ]
    },
    {
     "cell_type": "code",
     "collapsed": false,
     "input": [
      "def print_lyrics():\n",
      "    print \"I'm a numberjack, and I'm okay.\"\n",
      "    print \"I sleep all night and I work all day.\""
     ],
     "language": "python",
     "metadata": {},
     "outputs": [],
     "prompt_number": 26
    },
    {
     "cell_type": "code",
     "collapsed": false,
     "input": [
      "print_lyrics"
     ],
     "language": "python",
     "metadata": {},
     "outputs": [
      {
       "metadata": {},
       "output_type": "pyout",
       "prompt_number": 27,
       "text": [
        "<function __main__.print_lyrics>"
       ]
      }
     ],
     "prompt_number": 27
    },
    {
     "cell_type": "code",
     "collapsed": false,
     "input": [
      "print_lyrics()"
     ],
     "language": "python",
     "metadata": {},
     "outputs": [
      {
       "output_type": "stream",
       "stream": "stdout",
       "text": [
        "I'm a numberjack, and I'm okay.\n",
        "I sleep all night and I work all day.\n"
       ]
      }
     ],
     "prompt_number": 28
    },
    {
     "cell_type": "code",
     "collapsed": false,
     "input": [
      "help(dir)"
     ],
     "language": "python",
     "metadata": {},
     "outputs": [
      {
       "output_type": "stream",
       "stream": "stdout",
       "text": [
        "Help on built-in function dir in module __builtin__:\n",
        "\n",
        "dir(...)\n",
        "    dir([object]) -> list of strings\n",
        "    \n",
        "    If called without an argument, return the names in the current scope.\n",
        "    Else, return an alphabetized list of names comprising (some of) the attributes\n",
        "    of the given object, and of attributes reachable from it.\n",
        "    If the object supplies a method named __dir__, it will be used; otherwise\n",
        "    the default dir() logic is used and returns:\n",
        "      for a module object: the module's attributes.\n",
        "      for a class object:  its attributes, and recursively the attributes\n",
        "        of its bases.\n",
        "      for any other object: its attributes, its class's attributes, and\n",
        "        recursively the attributes of its class's base classes.\n",
        "\n"
       ]
      }
     ],
     "prompt_number": 29
    },
    {
     "cell_type": "markdown",
     "metadata": {},
     "source": [
      "## 6.12 \ub514\ubc84\uae45"
     ]
    },
    {
     "cell_type": "code",
     "collapsed": false,
     "input": [
      "while True:\n",
      "    line = raw_input('> ')\n",
      "    if line[0] == '#':\n",
      "        continue\n",
      "    if line == 'done':\n",
      "        break\n",
      "    print line\n",
      "    \n",
      "print 'Done!'"
     ],
     "language": "python",
     "metadata": {},
     "outputs": [
      {
       "name": "stdout",
       "output_type": "stream",
       "stream": "stdout",
       "text": [
        ">  \n"
       ]
      },
      {
       "output_type": "stream",
       "stream": "stdout",
       "text": [
        " \n"
       ]
      },
      {
       "name": "stdout",
       "output_type": "stream",
       "stream": "stdout",
       "text": [
        "> \n"
       ]
      },
      {
       "ename": "IndexError",
       "evalue": "string index out of range",
       "output_type": "pyerr",
       "traceback": [
        "\u001b[0;31m---------------------------------------------------------------------------\u001b[0m\n\u001b[0;31mIndexError\u001b[0m                                Traceback (most recent call last)",
        "\u001b[0;32m<ipython-input-33-5120503602de>\u001b[0m in \u001b[0;36m<module>\u001b[0;34m()\u001b[0m\n\u001b[1;32m      1\u001b[0m \u001b[0;32mwhile\u001b[0m \u001b[0mTrue\u001b[0m\u001b[0;34m:\u001b[0m\u001b[0;34m\u001b[0m\u001b[0m\n\u001b[1;32m      2\u001b[0m     \u001b[0mline\u001b[0m \u001b[0;34m=\u001b[0m \u001b[0mraw_input\u001b[0m\u001b[0;34m(\u001b[0m\u001b[0;34m'> '\u001b[0m\u001b[0;34m)\u001b[0m\u001b[0;34m\u001b[0m\u001b[0m\n\u001b[0;32m----> 3\u001b[0;31m     \u001b[0;32mif\u001b[0m \u001b[0mline\u001b[0m\u001b[0;34m[\u001b[0m\u001b[0;36m0\u001b[0m\u001b[0;34m]\u001b[0m \u001b[0;34m==\u001b[0m \u001b[0;34m'#'\u001b[0m\u001b[0;34m:\u001b[0m\u001b[0;34m\u001b[0m\u001b[0m\n\u001b[0m\u001b[1;32m      4\u001b[0m         \u001b[0;32mcontinue\u001b[0m\u001b[0;34m\u001b[0m\u001b[0m\n\u001b[1;32m      5\u001b[0m     \u001b[0;32mif\u001b[0m \u001b[0mline\u001b[0m \u001b[0;34m==\u001b[0m \u001b[0;34m'done'\u001b[0m\u001b[0;34m:\u001b[0m\u001b[0;34m\u001b[0m\u001b[0m\n",
        "\u001b[0;31mIndexError\u001b[0m: string index out of range"
       ]
      }
     ],
     "prompt_number": 33
    },
    {
     "cell_type": "markdown",
     "metadata": {},
     "source": [
      "- startwith \uba54\uc18c\ub4dc \uc0ac\uc6a9\n",
      "- guardian pattern\uc744 \uc0ac\uc6a9\ud574\uc11c line\uc774 \ucd5c\uc18c 1\uac1c\uc758 \ubb38\uc790\ub77c\ub3c4 \uc788\uc5b4\uc57c 2\ubc88\uc9f8 \ubb38\uc7a5\uc774 \ud3c9\uac00\ub418\ub294 \ubc29\uc2dd"
     ]
    },
    {
     "cell_type": "code",
     "collapsed": false,
     "input": [
      "# if line.startswith('#'):"
     ],
     "language": "python",
     "metadata": {},
     "outputs": [],
     "prompt_number": 34
    },
    {
     "cell_type": "code",
     "collapsed": false,
     "input": [
      "# if len(line) > 0 and line[0] == '#':"
     ],
     "language": "python",
     "metadata": {},
     "outputs": [],
     "prompt_number": 35
    },
    {
     "cell_type": "markdown",
     "metadata": {},
     "source": [
      "## 7.2 \ud30c\uc77c \uc5f4\uae30\n",
      "\n",
      "- open\uc774 \uc131\uacf5\ud558\uba74, \uc6b4\uc601\uccb4\uc81c\ub294 file handle\uc744 \ubc18\ud658\n",
      "- \ud30c\uc77c \ud578\ub4e4\ub7ec\ub294 \ud30c\uc77c\uc5d0 \ub2f4\uaca8\uc788\ub294 \uc2e4\uc81c \ub370\uc774\ud130\uac00 \uc544\ub2c8\uace0, \ub300\uc2e0\uc5d0 \ub370\uc774\ud130\ub97c \uc77d\uc744 \uc218 \uc788\ub3c4\ub85d \ud578\ub4e4\uc744 \uc0ac\uc6a9\ud560 \uc218 \uc788\ub3c4\ub85d \ud55c\ub2e4.\n",
      "- \uc694\uccad\ud55c \ud30c\uc77c\uc774 \uc874\uc7ac\ud558\uace0, \ud30c\uc77c\uc744 \uc77d\uc744 \uc218 \uc788\ub294 \uc801\uc808\ud55c \uad8c\ud55c\uc774 \uc788\ub2e4\uba74 \uc774\uc81c \ud578\ub4e4\uc774 \uc5ec\ub7ec\ubd84\uc5d0\uac8c \uc8fc\uc5b4\uc9d0\n",
      "- \ud30c\uc77c\uc774 \uc874\uc7ac\ud558\uc9c0 \uc54a\ub294\ub2e4\uba74, open\uc740 traceback \uc624\ub958\ub85c \ud30c\uc77c \uc5f4\uae30\ub97c \uc2e4\ud328\ud558\uace0, \ud30c\uc77c\uc5d0 \uc874\uc7ac\ud558\ub294 \ud578\ub4e4\ub3c4 \uc5bb\uc9c0 \ubabb\ud568"
     ]
    },
    {
     "cell_type": "code",
     "collapsed": false,
     "input": [
      "fhand = open('mbox.txt', 'w')"
     ],
     "language": "python",
     "metadata": {},
     "outputs": [],
     "prompt_number": 37
    },
    {
     "cell_type": "code",
     "collapsed": false,
     "input": [
      "print fhand"
     ],
     "language": "python",
     "metadata": {},
     "outputs": [
      {
       "output_type": "stream",
       "stream": "stdout",
       "text": [
        "<open file 'mbox.txt', mode 'w' at 0x10d020030>\n"
       ]
      }
     ],
     "prompt_number": 38
    },
    {
     "cell_type": "code",
     "collapsed": false,
     "input": [
      "fhand.close()"
     ],
     "language": "python",
     "metadata": {},
     "outputs": [],
     "prompt_number": 39
    },
    {
     "cell_type": "code",
     "collapsed": false,
     "input": [
      "!ls"
     ],
     "language": "python",
     "metadata": {},
     "outputs": [
      {
       "output_type": "stream",
       "stream": "stdout",
       "text": [
        "ch01_why_we_are_learning_programming.ipynb \u001b[1m\u001b[34mcode\u001b[m\u001b[m                                       mbox.txt\r\n"
       ]
      }
     ],
     "prompt_number": 40
    },
    {
     "cell_type": "markdown",
     "metadata": {},
     "source": [
      "## Gardian pattern\n",
      "\n",
      "    if len(words) == 0:\n",
      "        continue\n",
      "        \n",
      "- \uc774\ub7f0 guardian pattern\uc744 \ub9ce\uc774 \ud65c\uc6a9\ud558\uc790.\n",
      "- \ud568\uc218\ub97c \uc2dc\uc791\ud558\uba74 \ub09c \ubc18\ub4dc\uc2dc input\uac12\uc774 \uc81c\ub300\ub85c \uc815\uc758\ub410\ub294\uc9c0 \uba3c\uc800 \uc791\uc131\ud55c\ub2e4(by junki kim)\n",
      "- \uc5ec\uae30\uc5d0 \ub354\ud574 return \uac12\ub3c4 \ud568\uc218\uc5d0\uc11c \ube60\uc838\ub098\uc624\uae30 \uc804\uc5d0 \uac80\uc0ac\ud558\uba74 \uc88b\uaca0\ub2e4.\n",
      "- \uc774\ub807\uac8c input, output \uac12\uc744 \ub0b4\uac00 \uc6d0\ud558\ub294\ub300\ub85c \uc81c\uc5b4\ud558\uac8c \ub418\uba74 \uc5c9\ub6b1\ud55c \uc624\ub958\uc5d0 \ube60\uc9c0\uc9c0 \uc54a\uc744\ud14c\ub2c8 debugging \uc2dc\uac04\uc744 \uc904\uc77c \uc218 \uc788\uaca0\uc9c0"
     ]
    },
    {
     "cell_type": "code",
     "collapsed": false,
     "input": [
      "fhand = open('mbox-short.txt')\n",
      "count = 0\n",
      "for line in fhand:\n",
      "    words = line.split()\n",
      "    # words\uac00 0\uac1c\ub77c\uba74 continue \uac19\uc740 guardian pattern\n",
      "    if len(words) == 0:\n",
      "        continue\n",
      "    if words[0] != 'From':\n",
      "        continue\n",
      "    print words[2]"
     ],
     "language": "python",
     "metadata": {},
     "outputs": [
      {
       "ename": "IOError",
       "evalue": "[Errno 2] No such file or directory: 'mbox-short.txt'",
       "output_type": "pyerr",
       "traceback": [
        "\u001b[0;31m---------------------------------------------------------------------------\u001b[0m\n\u001b[0;31mIOError\u001b[0m                                   Traceback (most recent call last)",
        "\u001b[0;32m<ipython-input-41-f3af05073b83>\u001b[0m in \u001b[0;36m<module>\u001b[0;34m()\u001b[0m\n\u001b[0;32m----> 1\u001b[0;31m \u001b[0mfhand\u001b[0m \u001b[0;34m=\u001b[0m \u001b[0mopen\u001b[0m\u001b[0;34m(\u001b[0m\u001b[0;34m'mbox-short.txt'\u001b[0m\u001b[0;34m)\u001b[0m\u001b[0;34m\u001b[0m\u001b[0m\n\u001b[0m\u001b[1;32m      2\u001b[0m \u001b[0mcount\u001b[0m \u001b[0;34m=\u001b[0m \u001b[0;36m0\u001b[0m\u001b[0;34m\u001b[0m\u001b[0m\n\u001b[1;32m      3\u001b[0m \u001b[0;32mfor\u001b[0m \u001b[0mline\u001b[0m \u001b[0;32min\u001b[0m \u001b[0mfhand\u001b[0m\u001b[0;34m:\u001b[0m\u001b[0;34m\u001b[0m\u001b[0m\n\u001b[1;32m      4\u001b[0m     \u001b[0mwords\u001b[0m \u001b[0;34m=\u001b[0m \u001b[0mline\u001b[0m\u001b[0;34m.\u001b[0m\u001b[0msplit\u001b[0m\u001b[0;34m(\u001b[0m\u001b[0;34m)\u001b[0m\u001b[0;34m\u001b[0m\u001b[0m\n\u001b[1;32m      5\u001b[0m     \u001b[0;32mif\u001b[0m \u001b[0mlen\u001b[0m\u001b[0;34m(\u001b[0m\u001b[0mwords\u001b[0m\u001b[0;34m)\u001b[0m \u001b[0;34m==\u001b[0m \u001b[0;36m0\u001b[0m\u001b[0;34m:\u001b[0m\u001b[0;34m\u001b[0m\u001b[0m\n",
        "\u001b[0;31mIOError\u001b[0m: [Errno 2] No such file or directory: 'mbox-short.txt'"
       ]
      }
     ],
     "prompt_number": 41
    },
    {
     "cell_type": "code",
     "collapsed": false,
     "input": [
      "fhand = open('mbox-short.txt')\n",
      "count = 0\n",
      "for line in fhand:\n",
      "    words = line.split()\n",
      "    if len(words) == 0 and words[0] != 'From':\n",
      "        continue\n",
      "    print words[2]"
     ],
     "language": "python",
     "metadata": {},
     "outputs": [
      {
       "ename": "IOError",
       "evalue": "[Errno 2] No such file or directory: 'mbox-short.txt'",
       "output_type": "pyerr",
       "traceback": [
        "\u001b[0;31m---------------------------------------------------------------------------\u001b[0m\n\u001b[0;31mIOError\u001b[0m                                   Traceback (most recent call last)",
        "\u001b[0;32m<ipython-input-409-f89798878757>\u001b[0m in \u001b[0;36m<module>\u001b[0;34m()\u001b[0m\n\u001b[0;32m----> 1\u001b[0;31m \u001b[0mfhand\u001b[0m \u001b[0;34m=\u001b[0m \u001b[0mopen\u001b[0m\u001b[0;34m(\u001b[0m\u001b[0;34m'mbox-short.txt'\u001b[0m\u001b[0;34m)\u001b[0m\u001b[0;34m\u001b[0m\u001b[0m\n\u001b[0m\u001b[1;32m      2\u001b[0m \u001b[0mcount\u001b[0m \u001b[0;34m=\u001b[0m \u001b[0;36m0\u001b[0m\u001b[0;34m\u001b[0m\u001b[0m\n\u001b[1;32m      3\u001b[0m \u001b[0;32mfor\u001b[0m \u001b[0mline\u001b[0m \u001b[0;32min\u001b[0m \u001b[0mfhand\u001b[0m\u001b[0;34m:\u001b[0m\u001b[0;34m\u001b[0m\u001b[0m\n\u001b[1;32m      4\u001b[0m     \u001b[0mwords\u001b[0m \u001b[0;34m=\u001b[0m \u001b[0mline\u001b[0m\u001b[0;34m.\u001b[0m\u001b[0msplit\u001b[0m\u001b[0;34m(\u001b[0m\u001b[0;34m)\u001b[0m\u001b[0;34m\u001b[0m\u001b[0m\n\u001b[1;32m      5\u001b[0m     \u001b[0;32mif\u001b[0m \u001b[0mlen\u001b[0m\u001b[0;34m(\u001b[0m\u001b[0mwords\u001b[0m\u001b[0;34m)\u001b[0m \u001b[0;34m==\u001b[0m \u001b[0;36m0\u001b[0m \u001b[0;32mand\u001b[0m \u001b[0mwords\u001b[0m\u001b[0;34m[\u001b[0m\u001b[0;36m0\u001b[0m\u001b[0;34m]\u001b[0m \u001b[0;34m!=\u001b[0m \u001b[0;34m'From'\u001b[0m\u001b[0;34m:\u001b[0m\u001b[0;34m\u001b[0m\u001b[0m\n",
        "\u001b[0;31mIOError\u001b[0m: [Errno 2] No such file or directory: 'mbox-short.txt'"
       ]
      }
     ],
     "prompt_number": 409
    },
    {
     "cell_type": "code",
     "collapsed": false,
     "input": [
      "fhand = open('mbox-short.txt')\n",
      "count = 0\n",
      "for line in fhand:\n",
      "    words = line.split()\n",
      "    if not words.startswith('From'):\n",
      "        continue\n",
      "    print words[2]"
     ],
     "language": "python",
     "metadata": {},
     "outputs": []
    },
    {
     "cell_type": "markdown",
     "metadata": {},
     "source": [
      "- \ub2e8\uc5b4\ub4e4\uc758 \uae38\uc774\uac00 0\uc778\uc9c0 \ud655\uc778(\ube48\uc904\uc77c \uacbd\uc6b0)\ud558\uc5ec \ucc38\uc774\uba74 continue\n",
      "- From\uc774 \uc5c6\ub294 \ub2e8\uc5b4\ub3c4 continue\n",
      "- startwith\ub97c \uc0ac\uc6a9\ud558\uba74 \uc800\ub7f0 \uc0c1\ud669\uc774 \uc5c6\uc9c0 \uc54a\uc744\uae4c? \uc774\uac83\ub3c4 \ube48\uc904\uc744 \ud53c\ud560 \uc218 \uc5c6\uaca0\uad70.."
     ]
    },
    {
     "cell_type": "markdown",
     "metadata": {},
     "source": [
      "## 9.1 \uce74\uc6b4\ud130 \uc9d1\ud569\uc73c\ub85c\uc11c\uc758 \ub515\uc154\ub108\ub9ac"
     ]
    },
    {
     "cell_type": "code",
     "collapsed": false,
     "input": [
      "word = 'brontosaurus'\n",
      "d = dict()\n",
      "for c in word:\n",
      "    if c not in d:\n",
      "        d[c] = 1\n",
      "    else:\n",
      "        d[c] = d[c] + 1\n",
      "print d"
     ],
     "language": "python",
     "metadata": {},
     "outputs": [
      {
       "output_type": "stream",
       "stream": "stdout",
       "text": [
        "{'a': 1, 'b': 1, 'o': 2, 'n': 1, 's': 2, 'r': 2, 'u': 2, 't': 1}\n"
       ]
      }
     ],
     "prompt_number": 44
    },
    {
     "cell_type": "code",
     "collapsed": false,
     "input": [
      "word = 'brontosaurus'\n",
      "d = dict()\n",
      "for c in word:\n",
      "    d[c] = d.get(c, 0) + 1\n",
      "print d"
     ],
     "language": "python",
     "metadata": {},
     "outputs": [
      {
       "output_type": "stream",
       "stream": "stdout",
       "text": [
        "{'a': 1, 'b': 1, 'o': 2, 'n': 1, 's': 2, 'r': 2, 'u': 2, 't': 1}\n"
       ]
      }
     ],
     "prompt_number": 46
    },
    {
     "cell_type": "markdown",
     "metadata": {},
     "source": [
      "## 9.3 \ubc18\ubcf5\uacfc \ub515\uc154\ub108\ub9ac"
     ]
    },
    {
     "cell_type": "code",
     "collapsed": false,
     "input": [
      "counts = {'chuck':1, 'annie':42, 'jan':100}"
     ],
     "language": "python",
     "metadata": {},
     "outputs": [],
     "prompt_number": 50
    },
    {
     "cell_type": "code",
     "collapsed": false,
     "input": [
      "for key in counts:\n",
      "    print key, counts[key]"
     ],
     "language": "python",
     "metadata": {},
     "outputs": [
      {
       "output_type": "stream",
       "stream": "stdout",
       "text": [
        "jan 100\n",
        "chuck 1\n",
        "annie 42\n"
       ]
      }
     ],
     "prompt_number": 52
    },
    {
     "cell_type": "markdown",
     "metadata": {},
     "source": [
      "## 9.4 \uace0\uae09 \ud14d\uc2a4\ud2b8 \ud30c\uc2f1\n",
      "\n",
      "- lower, punctuation, translate \ubb38\uc790\uc5f4 \uba54\uc18c\ub4dc \uc0ac\uc6a9"
     ]
    },
    {
     "cell_type": "code",
     "collapsed": false,
     "input": [
      "import string"
     ],
     "language": "python",
     "metadata": {},
     "outputs": [],
     "prompt_number": 54
    },
    {
     "cell_type": "code",
     "collapsed": false,
     "input": [
      "string.punctuation"
     ],
     "language": "python",
     "metadata": {},
     "outputs": [
      {
       "metadata": {},
       "output_type": "pyout",
       "prompt_number": 55,
       "text": [
        "'!\"#$%&\\'()*+,-./:;<=>?@[\\\\]^_`{|}~'"
       ]
      }
     ],
     "prompt_number": 55
    },
    {
     "cell_type": "code",
     "collapsed": false,
     "input": [
      "%%writefile example/parsing.py\n",
      "But, soft! what light through yonder window breaks?\n",
      "It is the east, and Juliet is the sun.\n",
      "Arise, fair sun, and kill the envious moon,\n",
      "Who is already sick and pale with grief,"
     ],
     "language": "python",
     "metadata": {},
     "outputs": [
      {
       "output_type": "stream",
       "stream": "stdout",
       "text": [
        "Writing example/parsing.py\n"
       ]
      }
     ],
     "prompt_number": 58
    },
    {
     "cell_type": "code",
     "collapsed": false,
     "input": [
      "import string\n",
      "fname = raw_input('Enter the file name: ')\n",
      "try:\n",
      "    fhand = open(fname)\n",
      "except:\n",
      "    print 'File cannot be opened:', fname\n",
      "    \n",
      "counts = dict()\n",
      "for line in fhand:\n",
      "    line = line.translate(None, string.punctuation)\n",
      "    line = line.lower()\n",
      "    words = line.split()\n",
      "    for word in words:\n",
      "        counts[word] = counts.get(word, 0) + 1\n",
      "print counts"
     ],
     "language": "python",
     "metadata": {},
     "outputs": [
      {
       "name": "stdout",
       "output_type": "stream",
       "stream": "stdout",
       "text": [
        "Enter the file name: example/parsing.py\n"
       ]
      },
      {
       "output_type": "stream",
       "stream": "stdout",
       "text": [
        "{'and': 3, 'envious': 1, 'already': 1, 'fair': 1, 'is': 3, 'it': 1, 'through': 1, 'arise': 1, 'pale': 1, 'yonder': 1, 'juliet': 1, 'what': 1, 'sun': 2, 'moon': 1, 'window': 1, 'sick': 1, 'east': 1, 'breaks': 1, 'who': 1, 'but': 1, 'grief': 1, 'with': 1, 'light': 1, 'kill': 1, 'the': 3, 'soft': 1}\n"
       ]
      }
     ],
     "prompt_number": 59
    },
    {
     "cell_type": "code",
     "collapsed": false,
     "input": [
      "s = '''But, soft! what light through yonder window breaks?\n",
      "It is the east, and Juliet is the sun.\n",
      "Arise, fair sun, and kill the envious moon,\n",
      "Who is already sick and pale with grief,'''"
     ],
     "language": "python",
     "metadata": {},
     "outputs": [],
     "prompt_number": 60
    },
    {
     "cell_type": "code",
     "collapsed": false,
     "input": [
      "print s"
     ],
     "language": "python",
     "metadata": {},
     "outputs": [
      {
       "output_type": "stream",
       "stream": "stdout",
       "text": [
        "But, soft! what light through yonder window breaks?\n",
        "It is the east, and Juliet is the sun.\n",
        "Arise, fair sun, and kill the envious moon,\n",
        "Who is already sick and pale with grief,\n"
       ]
      }
     ],
     "prompt_number": 63
    },
    {
     "cell_type": "code",
     "collapsed": false,
     "input": [
      "print s.translate(None, string.punctuation)"
     ],
     "language": "python",
     "metadata": {},
     "outputs": [
      {
       "output_type": "stream",
       "stream": "stdout",
       "text": [
        "But soft what light through yonder window breaks\n",
        "It is the east and Juliet is the sun\n",
        "Arise fair sun and kill the envious moon\n",
        "Who is already sick and pale with grief\n"
       ]
      }
     ],
     "prompt_number": 62
    },
    {
     "cell_type": "markdown",
     "metadata": {},
     "source": [
      "### [Python String translate() Method](http://www.tutorialspoint.com/python/string_translate.htm)\n",
      "\n",
      "- [The Python Challenge](http://www.pythonchallenge.com/): \uc5ec\uae30\uc5d0\uc11c \uc528\uc800 \uc554\ud638 \ud480\ub54c \ub098\uc654\uc5c8\ub2e4."
     ]
    },
    {
     "cell_type": "code",
     "collapsed": false,
     "input": [
      "from string import maketrans"
     ],
     "language": "python",
     "metadata": {},
     "outputs": [],
     "prompt_number": 66
    },
    {
     "cell_type": "code",
     "collapsed": false,
     "input": [
      "intab = 'aeiou'\n",
      "outtab = '12345'\n",
      "transtab = maketrans(intab, outtab)"
     ],
     "language": "python",
     "metadata": {},
     "outputs": [],
     "prompt_number": 67
    },
    {
     "cell_type": "code",
     "collapsed": false,
     "input": [
      "s2 = 'this is string example....wow!!!'"
     ],
     "language": "python",
     "metadata": {},
     "outputs": [],
     "prompt_number": 68
    },
    {
     "cell_type": "code",
     "collapsed": false,
     "input": [
      "print s2.translate(transtab)"
     ],
     "language": "python",
     "metadata": {},
     "outputs": [
      {
       "output_type": "stream",
       "stream": "stdout",
       "text": [
        "th3s 3s str3ng 2x1mpl2....w4w!!!\n"
       ]
      }
     ],
     "prompt_number": 69
    },
    {
     "cell_type": "code",
     "collapsed": false,
     "input": [
      "print s2.translate(transtab, 'th')"
     ],
     "language": "python",
     "metadata": {},
     "outputs": [
      {
       "output_type": "stream",
       "stream": "stdout",
       "text": [
        "3s 3s sr3ng 2x1mpl2....w4w!!!\n"
       ]
      }
     ],
     "prompt_number": 72
    },
    {
     "cell_type": "markdown",
     "metadata": {},
     "source": [
      "## 9.5 \ub514\ubc84\uae45\n",
      "\n",
      "- \uc810\uc810 \ub354 \ud070 \ub370\uc774\ud130\ub85c \uc791\uc5c5\ud568\uc5d0 \ub530\ub77c, \uc218\uc791\uc5c5\uc73c\ub85c \ub370\uc774\ud130\ub97c \ud655\uc778\ud558\uac70\ub098 \ucd9c\ub825\uc744 \ud1b5\ud574\uc11c \ub514\ubc84\uae45\uc744 \ud558\ub294 \uac83\uc774 \uc5b4\ub824\uc6b8 \uc218 \uc788\uc74c\n",
      "\n",
      "### \uc785\ub825\uac12\uc744 \uc904\uc5ec\ub77c(Scale down the input)\n",
      "\n",
      "- \uac00\ub2a5\ud558\uba74, \ub370\uc774\ud130 \ud06c\uae30\ub97c \uc904\uc5ec\ub77c\n",
      "\n",
      "\n",
      "- line_num\uc5d0 \uae30\ubcf8\uac12\uc744 \uc548\uc8fc\uba74 \ubaa8\ub450 \uc77d\uac8c \ud558\uac8c \ub9cc\ub4e4\uace0 \uc2f6\ub2e4.\n",
      "- line_num\uc5d0 2\ub97c \ub123\uc73c\uba74 2\uc904\uc744 \uc77d\uac8c \ud558\uace0 \uc2f6\ub2e4.(3\uc904 \uc544\ub2d8)\n",
      "- \uacb0\ub860: head, tail \uac1c\ub150\uc744 \ucd94\uac00\ud574\uc11c \uadf8 \ud568\uc218\ub97c \ubd80\ub974\uba74 \ub428, \uad1c\ud788 \ud558\ub098\uc758 \ud30c\uc77c\uc5d0\uc11c \uc77d\uac8c \ud558\ub824\uace0 \uba38\ub9ac \uc544\ud504\uac8c \uace0\ubbfc\ud558\uc9c0 \ub9d0\uc790."
     ]
    },
    {
     "cell_type": "code",
     "collapsed": false,
     "input": [
      "# line_num\uc774 \ubb34\uc870\uac74 \ub4e4\uc5b4\uac00\uc57c \ub41c\ub2e4.\n",
      "def open_file(path, line_num):\n",
      "    '''read the file with line number'''\n",
      "    cnt = 0\n",
      "    with open(path, 'r') as f:\n",
      "        for line in f:\n",
      "            if cnt > line_num - 1:\n",
      "                break\n",
      "            print line.strip()\n",
      "            cnt += 1"
     ],
     "language": "python",
     "metadata": {},
     "outputs": [],
     "prompt_number": 126
    },
    {
     "cell_type": "code",
     "collapsed": false,
     "input": [
      "open_file('example/parsing.py', 2)"
     ],
     "language": "python",
     "metadata": {},
     "outputs": [
      {
       "output_type": "stream",
       "stream": "stdout",
       "text": [
        "But, soft! what light through yonder window breaks?\n",
        "It is the east, and Juliet is the sun.\n"
       ]
      }
     ],
     "prompt_number": 128
    },
    {
     "cell_type": "code",
     "collapsed": false,
     "input": [
      "# \ub418\uae34 \ub410\ub294\ub370 \uc774\uac74 \ud30c\uc77c\uc744 2\ubc88\uc774\ub098 \uc77d\ub294 \uac70\uc796\uc544\n",
      "\n",
      "import my_func\n",
      "def open_file(path, line_num=None):\n",
      "    '''read the file with line number'''\n",
      "    cnt = 0\n",
      "    f = open(path, 'r')\n",
      "    \n",
      "    if line_num == None:\n",
      "        line_num = len(f.read().split('\\n'))\n",
      "    \n",
      "    f = open(path, 'r')\n",
      "    for line in f:\n",
      "        if cnt > line_num - 1:\n",
      "            break\n",
      "        print line.strip()\n",
      "        cnt += 1"
     ],
     "language": "python",
     "metadata": {},
     "outputs": [],
     "prompt_number": 144
    },
    {
     "cell_type": "code",
     "collapsed": false,
     "input": [
      "open_file('example/parsing.py')"
     ],
     "language": "python",
     "metadata": {},
     "outputs": [
      {
       "output_type": "stream",
       "stream": "stdout",
       "text": [
        "But, soft! what light through yonder window breaks?\n",
        "It is the east, and Juliet is the sun.\n",
        "Arise, fair sun, and kill the envious moon,\n",
        "Who is already sick and pale with grief,\n"
       ]
      }
     ],
     "prompt_number": 149
    },
    {
     "cell_type": "code",
     "collapsed": false,
     "input": [
      "open_file('example/parsing.py', 3)"
     ],
     "language": "python",
     "metadata": {},
     "outputs": [
      {
       "output_type": "stream",
       "stream": "stdout",
       "text": [
        "But, soft! what light through yonder window breaks?\n",
        "It is the east, and Juliet is the sun.\n",
        "Arise, fair sun, and kill the envious moon,\n"
       ]
      }
     ],
     "prompt_number": 150
    },
    {
     "cell_type": "code",
     "collapsed": false,
     "input": [
      "# \ub418\uae34 \ub410\ub294\ub370 \uc774\uac74 \ud30c\uc77c\uc744 2\ubc88\uc774\ub098 \uc77d\ub294 \uac70\uc796\uc544\n",
      "\n",
      "import my_func\n",
      "def open_file(path, line_num=None):\n",
      "    '''read the file with line number'''\n",
      "    cnt = 0\n",
      "    f = open(path, 'r')\n",
      "    f.seek(0, 2)\n",
      "    \n",
      "    if line_num == None:\n",
      "        line_num = len(f.read().split('\\n'))\n",
      "    \n",
      "    f = open(path, 'r')\n",
      "    for line in f:\n",
      "        if cnt > line_num - 1:\n",
      "            break\n",
      "        print line.strip()\n",
      "        cnt += 1"
     ],
     "language": "python",
     "metadata": {},
     "outputs": []
    },
    {
     "cell_type": "code",
     "collapsed": false,
     "input": [
      "f = open('example/parsing.py')"
     ],
     "language": "python",
     "metadata": {},
     "outputs": [],
     "prompt_number": 137
    },
    {
     "cell_type": "markdown",
     "metadata": {},
     "source": [
      "### [python head, tail and backward read by lines of a text file - Stack Overflow](http://stackoverflow.com/questions/5896079/python-head-tail-and-backward-read-by-lines-of-a-text-file): \n",
      "\n",
      "- \uc798 \uc801\ud600\uc838 \uc788\ub2e4. \n",
      "- \ud55c \uc904\uc529 \ub514\ubc84\uae45 \ud574\uac00\uba74\uc11c, \uac01 \ud568\uc218\uac00 \ubb34\uc5c7\uc744 \ud558\ub294\uc9c0 \ud655\uc778\ud574\ubcf4\ub294 \uac83\ub3c4 \uc7ac\ubc0c\uc74c\n",
      "- \ud30c\uc77c\uc744 \uc5b4\ub5bb\uac8c \uc77d\ub294\uc9c0 \ubc11\uc758 \ub2e8\uae4c\uc9c0 \ubcf4\uc5ec\uc90c"
     ]
    },
    {
     "cell_type": "code",
     "collapsed": false,
     "input": [
      "from pprint import pprint\n",
      "\n",
      "\n",
      "class File(file):\n",
      "    \"\"\" An helper class for file reading  \"\"\"\n",
      "\n",
      "    def __init__(self, *args, **kwargs):\n",
      "        super(File, self).__init__(*args, **kwargs)\n",
      "        self.BLOCKSIZE = 4096\n",
      "        path = './test01.py'\n",
      "        self.f2 = open(path, 'r')\n",
      "\n",
      "    def head(self, lines_2find=1):\n",
      "        self.seek(0)                            #Rewind file\n",
      "        return [super(File, self).next() for x in xrange(lines_2find)]\n",
      "\n",
      "    def tail(self, lines_2find=1):  \n",
      "        self.seek(0, 2)                         #Go to end of file\n",
      "        bytes_in_file = self.tell()\n",
      "        lines_found, total_bytes_scanned = 0, 0\n",
      "        while (lines_2find + 1 > lines_found and\n",
      "               bytes_in_file > total_bytes_scanned): \n",
      "            byte_block = min(\n",
      "                self.BLOCKSIZE,\n",
      "                bytes_in_file - total_bytes_scanned)\n",
      "            self.seek( -(byte_block + total_bytes_scanned), 2)\n",
      "            total_bytes_scanned += byte_block\n",
      "            lines_found += self.read(self.BLOCKSIZE).count('\\n')\n",
      "        self.seek(-total_bytes_scanned, 2)\n",
      "        line_list = list(self.readlines())\n",
      "        return line_list[-lines_2find:]\n",
      "\n",
      "    def backward(self):\n",
      "        self.seek(0, 2)                         #Go to end of file\n",
      "        blocksize = self.BLOCKSIZE\n",
      "        last_row = ''\n",
      "        while self.tell() != 0:\n",
      "            try:\n",
      "                self.seek(-blocksize, 1)\n",
      "            except IOError:\n",
      "                blocksize = self.tell()\n",
      "                self.seek(-blocksize, 1)\n",
      "            block = self.read(blocksize)\n",
      "            self.seek(-blocksize, 1)\n",
      "            rows = block.split('\\n')\n",
      "            rows[-1] = rows[-1] + last_row\n",
      "            while rows:\n",
      "                last_row = rows.pop(-1)\n",
      "                if rows and last_row:\n",
      "                    yield last_row\n",
      "        yield last_row\n",
      "\n",
      "path = './test01.py'\n",
      "\n",
      "with File(path) as f:\n",
      "    print f.head(5)\n",
      "    print f.tail(5)\n",
      "    for row in f.backward():\n",
      "        print row"
     ],
     "language": "python",
     "metadata": {},
     "outputs": []
    },
    {
     "cell_type": "markdown",
     "metadata": {},
     "source": [
      "### Simple version"
     ]
    },
    {
     "cell_type": "code",
     "collapsed": false,
     "input": [
      "from itertools import islice\n",
      "\n",
      "def head(path, n):\n",
      "    with open(path) as f:\n",
      "        for line in islice(f, n):\n",
      "            print line.rstrip()\n",
      "\n",
      "path = 'example/nose_average.py'\n",
      "n = 20\n",
      "\n",
      "def tail(path, n):\n",
      "    from collections import deque\n",
      "    with open(path) as f:\n",
      "        for line in deque(f, maxlen=n):\n",
      "            print line.rstrip()\n",
      "\n",
      "\n",
      "head(path, n)\n",
      "print '-' * 20\n",
      "tail(path, n)"
     ],
     "language": "python",
     "metadata": {},
     "outputs": [
      {
       "output_type": "stream",
       "stream": "stdout",
       "text": [
        "import nose\n",
        "\n",
        "def average(lst):\n",
        "    return sum(lst) / float(len(lst))\n",
        "\n",
        "def test_average():\n",
        "    l = range(10)\n",
        "    assert average(l) == 4.5\n",
        "    assert 0 < average(l) < 9\n",
        "\n",
        "if __name__ == '__main__':\n",
        "    nose.runmodule()\n",
        "--------------------\n",
        "import nose\n",
        "\n",
        "def average(lst):\n",
        "    return sum(lst) / float(len(lst))\n",
        "\n",
        "def test_average():\n",
        "    l = range(10)\n",
        "    assert average(l) == 4.5\n",
        "    assert 0 < average(l) < 9\n",
        "\n",
        "if __name__ == '__main__':\n",
        "    nose.runmodule()\n"
       ]
      }
     ],
     "prompt_number": 411
    },
    {
     "cell_type": "code",
     "collapsed": false,
     "input": [
      "f3.seek?"
     ],
     "language": "python",
     "metadata": {},
     "outputs": [],
     "prompt_number": 154
    },
    {
     "cell_type": "markdown",
     "metadata": {},
     "source": [
      "### \uc694\uc57d\uac12\uacfc \ud615\uc744 \ud655\uc778\ud558\ub77c(Check summaries and types)\n",
      "\n",
      "- \uc804\uccb4 \ub370\uc774\ud130\ub97c \ucd9c\ub825\ud558\uace0 \uac80\uc99d\ud558\ub294 \ub300\uc2e0\uc5d0 \ub370\uc774\ud130\ub97c \uc694\uc57d\ud558\uc5ec \ucd9c\ub825\ud558\ub294 \uac83\uc744 \uc0dd\uac01\ud558\ub77c.\n",
      "- \ub515\uc154\ub108\ub9ac\uc758 \ud56d\ubaa9\uc758 \uc22b\uc790 \ud639\uc740 \ub9ac\uc2a4\ud2b8 \uc22b\uc790\uc758 \ucd1d\uacc4\n",
      "- \uc2e4\ud589\uc624\ub958\uc758 \uc77c\ubc18\uc801\uc778 \uc6d0\uc778\uc740 \uc62c\ubc14\ub978 \ud615\uc774 \uc544\ub2c8\uae30 \ub54c\ubb38\n",
      "- \uc774\ub7f0 \uc885\ub958\uc758 \uc624\ub958\ub97c \ub514\ubc84\uae45\ud558\uae30 \uc704\ud574\uc11c, \uac12\uc758 \ud615\uc744 \ucd9c\ub825\ud558\ub294 \uac83\uc73c\ub85c \uc885\uc885 \ucda9\ubd84\n",
      "- [What's the canonical way to check for type in python? - Stack Overflow](http://stackoverflow.com/questions/152580/whats-the-canonical-way-to-check-for-type-in-python)\n",
      "- [Differences between isinstance() and type() in python - Stack Overflow](http://stackoverflow.com/questions/1549801/differences-between-isinstance-and-type-in-python)\n",
      "- [Type Checking in Python](http://coreapython.hosting.paran.com/tiphack/Type%20Checking%20in%20Python.htm): isinstance\uac00 \ud0b9\uc655\uc9f1!\n",
      "- [8.15. types \u00e2\u0080\u0094 Names for built-in types \u2014 Python 2.7.8 documentation](https://docs.python.org/2/library/types.html)"
     ]
    },
    {
     "cell_type": "code",
     "collapsed": false,
     "input": [
      "o = 'this is string'"
     ],
     "language": "python",
     "metadata": {},
     "outputs": [],
     "prompt_number": 182
    },
    {
     "cell_type": "code",
     "collapsed": false,
     "input": [
      "type(o) is str"
     ],
     "language": "python",
     "metadata": {},
     "outputs": [
      {
       "metadata": {},
       "output_type": "pyout",
       "prompt_number": 183,
       "text": [
        "True"
       ]
      }
     ],
     "prompt_number": 183
    },
    {
     "cell_type": "code",
     "collapsed": false,
     "input": [
      "isinstance(o, str)"
     ],
     "language": "python",
     "metadata": {},
     "outputs": [
      {
       "metadata": {},
       "output_type": "pyout",
       "prompt_number": 184,
       "text": [
        "True"
       ]
      }
     ],
     "prompt_number": 184
    },
    {
     "cell_type": "code",
     "collapsed": false,
     "input": [
      "issubclass(type(o), str)"
     ],
     "language": "python",
     "metadata": {},
     "outputs": [
      {
       "metadata": {},
       "output_type": "pyout",
       "prompt_number": 185,
       "text": [
        "True"
       ]
      }
     ],
     "prompt_number": 185
    },
    {
     "cell_type": "code",
     "collapsed": false,
     "input": [
      "type(o) in ([str] + str.__subclasses__())"
     ],
     "language": "python",
     "metadata": {},
     "outputs": [
      {
       "metadata": {},
       "output_type": "pyout",
       "prompt_number": 186,
       "text": [
        "True"
       ]
      }
     ],
     "prompt_number": 186
    },
    {
     "cell_type": "code",
     "collapsed": false,
     "input": [
      "type(o)"
     ],
     "language": "python",
     "metadata": {},
     "outputs": [
      {
       "metadata": {},
       "output_type": "pyout",
       "prompt_number": 190,
       "text": [
        "str"
       ]
      }
     ],
     "prompt_number": 190
    },
    {
     "cell_type": "code",
     "collapsed": false,
     "input": [
      "[str] + str.__subclasses__()"
     ],
     "language": "python",
     "metadata": {},
     "outputs": [
      {
       "metadata": {},
       "output_type": "pyout",
       "prompt_number": 189,
       "text": [
        "[str,\n",
        " IPython.utils.text.LSString,\n",
        " multiprocessing.process.AuthenticationString,\n",
        " numpy.string_]"
       ]
      }
     ],
     "prompt_number": 189
    },
    {
     "cell_type": "code",
     "collapsed": false,
     "input": [
      "isinstance(o, basestring)"
     ],
     "language": "python",
     "metadata": {},
     "outputs": [
      {
       "metadata": {},
       "output_type": "pyout",
       "prompt_number": 191,
       "text": [
        "True"
       ]
      }
     ],
     "prompt_number": 191
    },
    {
     "cell_type": "code",
     "collapsed": false,
     "input": [
      "isinstance(o, (str, unicode))"
     ],
     "language": "python",
     "metadata": {},
     "outputs": [
      {
       "metadata": {},
       "output_type": "pyout",
       "prompt_number": 192,
       "text": [
        "True"
       ]
      }
     ],
     "prompt_number": 192
    },
    {
     "cell_type": "code",
     "collapsed": false,
     "input": [
      "from types import *\n",
      "class NewClass(object):\n",
      "    pass\n",
      "\n",
      "new_class_instance = NewClass()\n",
      "\n",
      "def function():\n",
      "    pass\n",
      "\n",
      "string = 'This is a string!'\n",
      "\n",
      "class OldClass:\n",
      "    pass\n",
      "\n",
      "old_class_instance = OldClass()"
     ],
     "language": "python",
     "metadata": {},
     "outputs": [],
     "prompt_number": 193
    },
    {
     "cell_type": "code",
     "collapsed": false,
     "input": [
      "print type(new_class_instance)\n",
      "print new_class_instance.__class__"
     ],
     "language": "python",
     "metadata": {},
     "outputs": [
      {
       "output_type": "stream",
       "stream": "stdout",
       "text": [
        "<class '__main__.NewClass'>\n",
        "<class '__main__.NewClass'>\n"
       ]
      }
     ],
     "prompt_number": 196
    },
    {
     "cell_type": "code",
     "collapsed": false,
     "input": [
      "print type(function)\n",
      "print function.__class__"
     ],
     "language": "python",
     "metadata": {},
     "outputs": [
      {
       "output_type": "stream",
       "stream": "stdout",
       "text": [
        "<type 'function'>\n",
        "<type 'function'>\n"
       ]
      }
     ],
     "prompt_number": 197
    },
    {
     "cell_type": "code",
     "collapsed": false,
     "input": [
      "print type(string)\n",
      "print string.__class__"
     ],
     "language": "python",
     "metadata": {},
     "outputs": [
      {
       "output_type": "stream",
       "stream": "stdout",
       "text": [
        "<type 'str'>\n",
        "<type 'str'>\n"
       ]
      }
     ],
     "prompt_number": 198
    },
    {
     "cell_type": "code",
     "collapsed": false,
     "input": [
      "print type(old_class_instance) # \uc81c\ub300\ub85c \uc791\ub3d9\ud558\uc9c0 \uc54a\ub294\uac83\ucc98\ub7fc \ubcf4\uc784\n",
      "print old_class_instance.__class__"
     ],
     "language": "python",
     "metadata": {},
     "outputs": [
      {
       "output_type": "stream",
       "stream": "stdout",
       "text": [
        "<type 'instance'>\n",
        "__main__.OldClass\n"
       ]
      }
     ],
     "prompt_number": 203
    },
    {
     "cell_type": "markdown",
     "metadata": {},
     "source": [
      "#### class\ub098 type\uc744 \uc810\uac80\ud574 \ubcf4\uc790."
     ]
    },
    {
     "cell_type": "code",
     "collapsed": false,
     "input": [
      "NewClass"
     ],
     "language": "python",
     "metadata": {},
     "outputs": [
      {
       "metadata": {},
       "output_type": "pyout",
       "prompt_number": 206,
       "text": [
        "__main__.NewClass"
       ]
      }
     ],
     "prompt_number": 206
    },
    {
     "cell_type": "code",
     "collapsed": false,
     "input": [
      "print type(new_class_instance) == NewClass\n",
      "print isinstance(new_class_instance, NewClass)\n",
      "print new_class_instance.__class__ == NewClass"
     ],
     "language": "python",
     "metadata": {},
     "outputs": [
      {
       "output_type": "stream",
       "stream": "stdout",
       "text": [
        "True\n",
        "True\n",
        "True\n"
       ]
      }
     ],
     "prompt_number": 209
    },
    {
     "cell_type": "code",
     "collapsed": false,
     "input": [
      "print type(function) == FunctionType\n",
      "print isinstance(function, FunctionType)\n",
      "print function.__class__ == FunctionType"
     ],
     "language": "python",
     "metadata": {},
     "outputs": [
      {
       "output_type": "stream",
       "stream": "stdout",
       "text": [
        "True\n",
        "True\n",
        "True\n"
       ]
      }
     ],
     "prompt_number": 210
    },
    {
     "cell_type": "code",
     "collapsed": false,
     "input": [
      "print type(string) == str\n",
      "print isinstance(string, str)\n",
      "print string.__class__ == str"
     ],
     "language": "python",
     "metadata": {},
     "outputs": [
      {
       "output_type": "stream",
       "stream": "stdout",
       "text": [
        "True\n",
        "True\n",
        "True\n"
       ]
      }
     ],
     "prompt_number": 212
    },
    {
     "cell_type": "code",
     "collapsed": false,
     "input": [
      "print type(old_class_instance) == OldClass"
     ],
     "language": "python",
     "metadata": {},
     "outputs": [
      {
       "output_type": "stream",
       "stream": "stdout",
       "text": [
        "False\n"
       ]
      }
     ],
     "prompt_number": 213
    },
    {
     "cell_type": "code",
     "collapsed": false,
     "input": [
      "print isinstance(old_class_instance, OldClass)\n",
      "print old_class_instance.__class__ == OldClass"
     ],
     "language": "python",
     "metadata": {},
     "outputs": [
      {
       "output_type": "stream",
       "stream": "stdout",
       "text": [
        "True\n",
        "True\n"
       ]
      }
     ],
     "prompt_number": 215
    },
    {
     "cell_type": "markdown",
     "metadata": {},
     "source": [
      "### \uc790\uac00 \uc9c4\ub2e8 \uc791\uc131(Write self-checks)\n",
      "\n",
      "- \uc624\ub958\ub97c \uc790\ub3d9\uc801\uc73c\ub85c \uac80\ucd9c\ud558\ub294 \ucf54\ub4dc \uc791\uc131\n",
      "- \ub9ac\uc2a4\ud2b8 \uc22b\uc790\uc758 \ud3c9\uade0\uc744 \uacc4\uc0b0\ud55c\ub2e4\uba74, \uacb0\uacfc\uac12\uc740 \ub9ac\uc2a4\ud2b8\uc758 \uac00\uc7a5 \ud070 \uac12\ubcf4\ub2e4 \ud074 \uc218 \uc5c6\uace0, \uac00\uc7a5 \uc791\uc740 \uac12\ubcf4\ub2e4 \uc791\uc744 \uc218 \uc5c6\ub2e4\ub294 \uac83\uc744 \ud655\uc778\ud560 \uc218 \uc788\ub2e4."
     ]
    },
    {
     "cell_type": "code",
     "collapsed": false,
     "input": [
      "l = range(10)"
     ],
     "language": "python",
     "metadata": {},
     "outputs": [],
     "prompt_number": 155
    },
    {
     "cell_type": "code",
     "collapsed": false,
     "input": [
      "def average(lst):\n",
      "    return sum(lst) / float(len(lst))"
     ],
     "language": "python",
     "metadata": {},
     "outputs": [],
     "prompt_number": 159
    },
    {
     "cell_type": "code",
     "collapsed": false,
     "input": [
      "average(l)"
     ],
     "language": "python",
     "metadata": {},
     "outputs": [
      {
       "metadata": {},
       "output_type": "pyout",
       "prompt_number": 160,
       "text": [
        "4.5"
       ]
      }
     ],
     "prompt_number": 160
    },
    {
     "cell_type": "code",
     "collapsed": false,
     "input": [
      "%%writefile example/nose_average.py\n",
      "import nose\n",
      "\n",
      "def average(lst):\n",
      "    return sum(lst) / float(len(lst))\n",
      "\n",
      "def test_average():\n",
      "    l = range(10)\n",
      "    assert average(l) == 4.5\n",
      "    assert 0 < average(l) < 9\n",
      "\n",
      "if __name__ == '__main__':\n",
      "    nose.runmodule()"
     ],
     "language": "python",
     "metadata": {},
     "outputs": [
      {
       "output_type": "stream",
       "stream": "stdout",
       "text": [
        "Writing example/nose_average.py\n"
       ]
      }
     ],
     "prompt_number": 177
    },
    {
     "cell_type": "code",
     "collapsed": false,
     "input": [
      "%run example/nose_average.py"
     ],
     "language": "python",
     "metadata": {},
     "outputs": [
      {
       "output_type": "stream",
       "stream": "stderr",
       "text": [
        "."
       ]
      },
      {
       "output_type": "stream",
       "stream": "stderr",
       "text": [
        "\n",
        "----------------------------------------------------------------------\n",
        "Ran 1 test in 0.001s\n",
        "\n",
        "OK\n"
       ]
      }
     ],
     "prompt_number": 178
    },
    {
     "cell_type": "code",
     "collapsed": false,
     "input": [
      "# -*- coding: utf-8 -*-\n",
      "\n",
      "def largest_below_threshold(values, threshold):\n",
      "    '''\uc9c0\uc815\ud55c \uc784\uacc4\uce58 \uc544\ub798\uc758 \uac00\uc7a5 \ud070 \uac12\uc744 \ucc3e\ub294\ub2e4. \uc544\ubb34\ub7f0 \uac12\ub3c4 \ucc3e\uc744 \uc218 \uc5c6\uc73c\uba74\n",
      "    None\uc744 \ubc18\ud658\ud55c\ub2e4.'''\n",
      "    \n",
      "    result = None\n",
      "    for v in values:\n",
      "        if v < threshold:\n",
      "            result = v\n",
      "            break\n",
      "    if result is None:\n",
      "        return None\n",
      "    \n",
      "    for v in values:\n",
      "        if result < v < threshold:\n",
      "            result = v\n",
      "    return result\n",
      "\n",
      "\n",
      "l = range(10)\n",
      "print largest_below_threshold(l, 15)\n",
      "print largest_below_threshold(l, 8)\n",
      "print largest_below_threshold(l, 0)\n",
      "print largest_below_threshold(l, -2)"
     ],
     "language": "python",
     "metadata": {},
     "outputs": [
      {
       "output_type": "stream",
       "stream": "stdout",
       "text": [
        "9\n",
        "7\n",
        "None\n",
        "None\n"
       ]
      }
     ],
     "prompt_number": 181
    },
    {
     "cell_type": "markdown",
     "metadata": {},
     "source": [
      "### \uace0\uae09 \ucd9c\ub825(Pretty print the output)\n",
      "\n",
      "- \ub514\ubc84\uae45 \ucd9c\ub825\uc744 \uc11c\uc2dd\ud654\ud558\ub294 \uac83\uc740 \uc624\ub958\ub97c \ubc1c\uacac\ud558\ub294 \uac83\uc744 \uc6a9\uc774\ud558\uac8c \ud568\n",
      "- \ub2e4\uc2dc \ud55c \ubc88, \ubc1c\ud310(scaffolding)\uc744 \ub9cc\ub4dc\ub294\ub370 \ub4e4\uc778 \uc2dc\uac04\uc740 \ub514\ubc84\uae45\uc5d0 \uc18c\ube44\ud558\ub294 \uc2dc\uac04\uc744 \uc904\uc77c \uc218 \uc788\uc74c\n",
      "- [  \ud30c\uc774\uc36c \ub85c\uae45\ubaa8\ub4c8\uc5d0 \ub300\ud574\uc11c \u00bb \uaddc\uc774\uc758 \ubcf4\uc870\uae30\uc5b5\uc7a5\uce58](http://gyus.me/?p=418#_jmp0_): \uc798 \uc815\ub9ac\ub418\uc5b4 \uc788\uc74c\n",
      "- [Logging Cookbook \u2014 Python 3.4.2rc1 documentation](https://docs.python.org/3/howto/logging-cookbook.html#logging-cookbook): \ud30c\uc774\uc36c \ub85c\uae45\ubaa8\ub4c8\uc5d0 \ub300\ud574\uc11c\uc758 \uc0c1\uc138 \ubc84\uc804"
     ]
    },
    {
     "cell_type": "markdown",
     "metadata": {},
     "source": [
      "## 10.2 \ud29c\ud50c \ube44\uad50\ud558\uae30"
     ]
    },
    {
     "cell_type": "code",
     "collapsed": false,
     "input": [
      "# \ub2e8\uc5b4 \uae38\uc774\uac00 \uae34 \uc21c\uc11c\ub300\ub85c \uc815\ub82c\n",
      "txt = 'but soft what light in yonder window breaks'\n",
      "words = txt.split()\n",
      "t = list()\n",
      "for word in words:\n",
      "    t.append((len(word), word))\n",
      "\n",
      "t.sort(reverse=True)\n",
      "print t\n",
      "\n",
      "res = list()\n",
      "for length, word in t:\n",
      "    res.append(word)\n",
      "    \n",
      "print res"
     ],
     "language": "python",
     "metadata": {},
     "outputs": [
      {
       "output_type": "stream",
       "stream": "stdout",
       "text": [
        "[(6, 'yonder'), (6, 'window'), (6, 'breaks'), (5, 'light'), (4, 'what'), (4, 'soft'), (3, 'but'), (2, 'in')]\n",
        "['yonder', 'window', 'breaks', 'light', 'what', 'soft', 'but', 'in']\n"
       ]
      }
     ],
     "prompt_number": 218
    },
    {
     "cell_type": "markdown",
     "metadata": {},
     "source": [
      "## 10.3 \ud29c\ud50c \ud560\ub2f9"
     ]
    },
    {
     "cell_type": "code",
     "collapsed": false,
     "input": [
      "a = 5\n",
      "b = 10\n",
      "a, b = b, a\n",
      "print a\n",
      "print b"
     ],
     "language": "python",
     "metadata": {},
     "outputs": [
      {
       "output_type": "stream",
       "stream": "stdout",
       "text": [
        "10\n",
        "5\n"
       ]
      }
     ],
     "prompt_number": 219
    },
    {
     "cell_type": "code",
     "collapsed": false,
     "input": [
      "addr = 'monty@python.org'\n",
      "uname, domain = addr.split('@')\n",
      "print uname\n",
      "print domain"
     ],
     "language": "python",
     "metadata": {},
     "outputs": [
      {
       "output_type": "stream",
       "stream": "stdout",
       "text": [
        "monty\n",
        "python.org\n"
       ]
      }
     ],
     "prompt_number": 221
    },
    {
     "cell_type": "markdown",
     "metadata": {},
     "source": [
      "## 10.5 \ub515\uc154\ub108\ub9ac\ub85c \ub2e4\uc911 \ud560\ub2f9\n",
      "\n"
     ]
    },
    {
     "cell_type": "code",
     "collapsed": false,
     "input": [
      "d = {'a': 10, 'b': 1, 'c': 22}"
     ],
     "language": "python",
     "metadata": {},
     "outputs": [],
     "prompt_number": 222
    },
    {
     "cell_type": "code",
     "collapsed": false,
     "input": [
      "l = list()"
     ],
     "language": "python",
     "metadata": {},
     "outputs": [],
     "prompt_number": 223
    },
    {
     "cell_type": "code",
     "collapsed": false,
     "input": [
      "for key, val in d.items():\n",
      "    l.append((val, key))"
     ],
     "language": "python",
     "metadata": {},
     "outputs": [],
     "prompt_number": 224
    },
    {
     "cell_type": "code",
     "collapsed": false,
     "input": [
      "l"
     ],
     "language": "python",
     "metadata": {},
     "outputs": [
      {
       "metadata": {},
       "output_type": "pyout",
       "prompt_number": 225,
       "text": [
        "[(10, 'a'), (22, 'c'), (1, 'b')]"
       ]
      }
     ],
     "prompt_number": 225
    },
    {
     "cell_type": "code",
     "collapsed": false,
     "input": [
      "l2 = l[:]"
     ],
     "language": "python",
     "metadata": {},
     "outputs": [],
     "prompt_number": 226
    },
    {
     "cell_type": "code",
     "collapsed": false,
     "input": [
      "l2.sort(reverse=True)\n",
      "l2"
     ],
     "language": "python",
     "metadata": {},
     "outputs": [
      {
       "metadata": {},
       "output_type": "pyout",
       "prompt_number": 227,
       "text": [
        "[(22, 'c'), (10, 'a'), (1, 'b')]"
       ]
      }
     ],
     "prompt_number": 227
    },
    {
     "cell_type": "code",
     "collapsed": false,
     "input": [
      "l2.sort()\n",
      "l2"
     ],
     "language": "python",
     "metadata": {},
     "outputs": [
      {
       "metadata": {},
       "output_type": "pyout",
       "prompt_number": 229,
       "text": [
        "[(1, 'b'), (10, 'a'), (22, 'c')]"
       ]
      }
     ],
     "prompt_number": 229
    },
    {
     "cell_type": "code",
     "collapsed": false,
     "input": [
      "import string\n",
      "fhand = open('code/romeo-full.txt')\n",
      "counts = dict()\n",
      "for line in fhand:\n",
      "    line = line.translate(None, string.punctuation)\n",
      "    line = line.lower()\n",
      "    words = line.split()\n",
      "    for word in words:\n",
      "        counts[word] = counts.get(word, 0) + 1\n",
      "\n",
      "# Sort the dictionary by value\n",
      "lst = list()\n",
      "for key, val in counts.items():\n",
      "    lst.append((val, key))\n",
      "    \n",
      "lst.sort(reverse=True)\n",
      "\n",
      "for key, val in lst[:10]:\n",
      "    print key, val"
     ],
     "language": "python",
     "metadata": {},
     "outputs": [
      {
       "output_type": "stream",
       "stream": "stdout",
       "text": [
        "61 i\n",
        "42 and\n",
        "40 romeo\n",
        "34 to\n",
        "34 the\n",
        "32 thou\n",
        "32 juliet\n",
        "30 that\n",
        "29 my\n",
        "24 thee\n"
       ]
      }
     ],
     "prompt_number": 230
    },
    {
     "cell_type": "code",
     "collapsed": false,
     "input": [
      "last = 'Jo'\n",
      "first = 'geun young'\n",
      "number = '010-0000-0000'"
     ],
     "language": "python",
     "metadata": {},
     "outputs": [],
     "prompt_number": 238
    },
    {
     "cell_type": "code",
     "collapsed": false,
     "input": [
      "directory = dict()\n",
      "directory[last, first] = number\n",
      "directory"
     ],
     "language": "python",
     "metadata": {},
     "outputs": [
      {
       "metadata": {},
       "output_type": "pyout",
       "prompt_number": 239,
       "text": [
        "{('Jo', 'geun young'): '010-0000-0000'}"
       ]
      }
     ],
     "prompt_number": 239
    },
    {
     "cell_type": "code",
     "collapsed": false,
     "input": [
      "# need ()\n",
      "directory = dict()\n",
      "directory[(last, first)] = number\n",
      "directory"
     ],
     "language": "python",
     "metadata": {},
     "outputs": [
      {
       "metadata": {},
       "output_type": "pyout",
       "prompt_number": 240,
       "text": [
        "{('Jo', 'geun young'): '010-0000-0000'}"
       ]
      }
     ],
     "prompt_number": 240
    },
    {
     "cell_type": "code",
     "collapsed": false,
     "input": [
      "for last, first in directory:\n",
      "    print first, last, directory[last, first]"
     ],
     "language": "python",
     "metadata": {},
     "outputs": [
      {
       "output_type": "stream",
       "stream": "stdout",
       "text": [
        "geun young Jo 010-0000-0000\n"
       ]
      }
     ],
     "prompt_number": 241
    },
    {
     "cell_type": "markdown",
     "metadata": {},
     "source": [
      "## 10.8 \uc5f4: \ubb38\uc790\uc5f4, \ub9ac\uc2a4\ud2b8, \ud29c\ud50c\n",
      "\n",
      "- \ub300\ubd80\ubd84\uc758 \ud30c\uc774\uc36c \ubb38\uc7a5\uc5d0\uc11c \ub2e4\ub978 \uc885\ub958\uc758 sequence(string, list, tuple)\uc740 \uc0c1\ud638\ud638\ud658\ud574\uc11c \uc0ac\uc6a9\ud560 \uc218 \uc788\ub2e4. \uc65c \ub2e4\ub978\uac83\ubcf4\ub2e4 \uc774\uac83\uc744 \uc120\ud0dd\ud574\uc57c \ud558\ub294\uac00?\n",
      "- \ubb38\uc790\uc5f4: immutable, \uc694\uc18c\uac00 \ubb38\uc790\n",
      "- list: mutable, \ubb38\uc790\uc5f4\uc744 \ubcc0\uacbd\ud558\uace0\uc790 \ud55c\ub2e4\uba74\n",
      "- tuple: immutable\n",
      "\n",
      "### tuple\uc774 list\ubcf4\ub2e4 \ub354 \ub098\uc740 \uc774\uc720\n",
      "\n",
      "1. \uc5b4\ub5a4 \ub9e5\ub77d\uc5d0\uc11c return\ubb38\ucc98\ub7fc, list\ubcf4\ub2e4 tuple\uc744 \uc0dd\uc131\ud558\ub294 \uac83\uc774 **\uad6c\ubb38\ub860\uc801\uc73c\ub85c \uac04\ub7b5**, \ub2e4\ub978 \ub9e5\ub77d\uc5d0\uc11c\ub294 list\uac00 \ub354 \uc120\ud638\ub420 \uc218 \uc788\uc74c\n",
      "2. **dictionary key**\ub85c\uc11c sequence\ub97c \uc0ac\uc6a9\ud558\ub824\uba74, tuple \uc774\ub098 string \uac19\uc740 **immutable** type\uc744 \uc0ac\uc6a9\ud574\uc57c \ud568\n",
      "3. **\ud568\uc218\uc5d0 \uc778\uc790**\ub85c sequence\ub97c \uc804\ub2ec\ud558\ub824\uba74, tuple\uc744 \uc0ac\uc6a9\ud558\ub294 \uac83\uc774 **aliasing \uc73c\ub85c \uc0dd\uae30\ub294 \uc608\uae30\uce58 \ubabb\ud55c \ud589\ub3d9\uc5d0 \ub300\ud55c \uac00\ub2a5\uc131\uc744 \uc904\uc784**"
     ]
    },
    {
     "cell_type": "code",
     "collapsed": false,
     "input": [
      "# dictionary\uc758 key\uac12\uc740 immutable \uac12\ub9cc \uc640\uc57c \ub41c\ub2e4.\n",
      "# \ub098\uc911\uc5d0 \uc218\uc815\ub418\uba74 \uc548\ub418\ub2c8\uae4c\n",
      "d = {}\n",
      "t = (1,)\n",
      "l = [2]\n",
      "d[t] = 'good'\n",
      "# d[l] = 'bad'\n",
      "print d"
     ],
     "language": "python",
     "metadata": {},
     "outputs": [
      {
       "output_type": "stream",
       "stream": "stdout",
       "text": [
        "{(1,): 'good'}\n"
       ]
      }
     ],
     "prompt_number": 415
    },
    {
     "cell_type": "markdown",
     "metadata": {},
     "source": [
      "## 10.9 \ub514\ubc84\uae45\n",
      "\n",
      "- data structure: list, dictionary, tuple\n",
      "- shape error: \uc790\ub8cc \uad6c\uc870\uac00 \uc798\ubabb\ub41c type, \ud06c\uae30, \uad6c\uc131\uc77c \uacbd\uc6b0 \uc624\ub958 \ubc1c\uc0dd, \ud639\uc740 \ucf54\ub4dc\ub97c \uc791\uc131\ud558\uace0 \uc790\ub8cc\uc758 \ubaa8\uc591\uc744 \uc78a\uac8c \ub418\uba74 \uc624\ub958\uac00 \ubc1c\uc0dd\n",
      "- \uc608\ub97c \ub4e4\uc5b4, \uc815\uc218 \ud558\ub098\uc778 \ub9ac\uc2a4\ud2b8\ub97c \uae30\ub300\ud558\uace0, \ub9ac\uc2a4\ud2b8\uac00 \uc544\ub2cc \uc77c\ubc18 \uc815\uc218\ub97c \uc900\ub2e4\uba74, \uc791\ub3d9\ud558\uc9c0 \uc54a\uc744 \uac83\n",
      "\n",
      "\n",
      "1. reading\n",
      "  - \uba74\ubc00\ud788 \uc870\uc0ac\n",
      "  - \ubc18\ubcf5\uc801 \uc77d\uae30\n",
      "  - \uc758\ub3c4\ud55c\ub300\ub85c \ud504\ub85c\uadf8\ub7a8\uc774 \uc791\uc131\ub418\uc5c8\ub294\uc9c0 \ud655\uc778\n",
      "2. running\n",
      "  - \ubcc0\uacbd\ud558\uace0\n",
      "  - \ub2e4\ub978 \ubc84\uc804\uc744 \uc2e4\ud589\ud574\uc11c \uc2e4\ud5d8\n",
      "  - \ud504\ub85c\uadf8\ub7a8\uc758 \uc801\uc808\ud55c \uc7a5\uc18c\uc5d0 \uc801\uc808\ud55c \uac83\uc744 \ubc30\uce58\n",
      "  - scaffolding\uc744 \ub9cc\ub4e4\uae30 \uc704\ud574\uc11c \ub9ce\uc740 \uc2dc\uac04\uc744 \uc4f0\uae30\ub3c4 \ud568\n",
      "3. ruminating\n",
      "  - \uc0dd\uac01\uc758 \uc2dc\uac04 \ud544\uc694\n",
      "  - \uc5b4\ub5a4 \uc885\ub958\uc758 \uc624\ub958\uc778\uac00? \uad6c\ubb38, \uc2e4\ud589, \uc2dc\ub9e8\ud2f1\n",
      "  - \uc624\ub958 \uba54\uc2dc\uc9c0\ub85c\ubd80\ud130 \ud639\uc740 \ud504\ub85c\uadf8\ub7a8 \ucd9c\ub825\uc73c\ub85c\ubd80\ud130 \ubb34\uc2a8 \uc815\ubcf4\ub97c \uc5bb\uc744 \uc218 \uc788\ub294\uac00?\n",
      "  - \uc5b4\ub5a4 \uc885\ub958\uc758 \uc624\ub958\uac00 \uc9c0\uae08 \ubcf4\uace0\uc788\ub294 \ubb38\uc81c\ub97c \ub9cc\ub4e4\uc5c8\uc744\uae4c?\n",
      "  - \ubb38\uc81c\uac00 \ub098\ud0c0\ub098\uae30 \uc804\uc5d0 \ub9c8\uc9c0\ub9c9\uc73c\ub85c \ubc14\uafbc \uac83\uc740 \ubb34\uc5c7\uc778\uac00?\n",
      "4. retreating\n",
      "  - \uc5b4\ub290 \uc2dc\uc810\uc5d0\uc120\uac00, \ucd5c\uc120\uc740 \ubb3c\ub7ec\uc11c\uc11c, \ucd5c\uadfc\uc758 \ubcc0\uacbd\uc73c\ub85c \ub3cc\uc544\uac00\ub294 \uac83\uc774\ub2e4.\n",
      "  - \ub3d9\uc791\ud558\ub294 \ud504\ub85c\uadf8\ub7a8\uc73c\ub85c \ub3cc\uc544\uac00\uc11c \ub2e4\uc2dc \uc2dc\uc791\ud558\uc790!\n",
      "  \n",
      "  \n",
      "- \ub514\ubc84\uae45\uc740 \uc2e4\ud5d8 \uacfc\ud559 \uac19\uc740 \uac83\uc774\ub2e4. \ubb38\uc81c\uac00 \ubb34\uc5c7\uc778\uc9c0\uc5d0 \ub300\ud55c \ucd5c\uc18c\ud55c \ud55c\uac00\uc9c0 \uac00\uc124\uc744 \uac00\uc838\uc57c \ud55c\ub2e4. \ub9cc\uc57d 2\uac1c \ud639\uc740 \uadf8 \uc774\uc0c1\uc758 \uac00\ub2a5\uc131\uc774 \uc788\ub2e4\uba74, \uc774\ub7ec\ud55c \uac00\ub2a5\uc131 \uc911\uc5d0\uc11c \ud558\ub098\ub77c\ub3c4 \uc904\uc77c \uc218 \uc788\ub294 \ud14c\uc2a4\ud2b8\ub97c \uc0dd\uac01\ud574\uc57c \ud568\n",
      "- \ud734\uc2dd \uc2dc\uac04"
     ]
    },
    {
     "cell_type": "markdown",
     "metadata": {},
     "source": [
      "## 11.7 \ub514\ubc84\uae45\n",
      "\n",
      "- help()\ub97c \uc0ac\uc6a9\ud558\uc5ec interactive \ub3c4\uc6c0"
     ]
    },
    {
     "cell_type": "code",
     "collapsed": false,
     "input": [
      "import re\n",
      "dir(re)"
     ],
     "language": "python",
     "metadata": {},
     "outputs": [
      {
       "metadata": {},
       "output_type": "pyout",
       "prompt_number": 243,
       "text": [
        "['DEBUG',\n",
        " 'DOTALL',\n",
        " 'I',\n",
        " 'IGNORECASE',\n",
        " 'L',\n",
        " 'LOCALE',\n",
        " 'M',\n",
        " 'MULTILINE',\n",
        " 'S',\n",
        " 'Scanner',\n",
        " 'T',\n",
        " 'TEMPLATE',\n",
        " 'U',\n",
        " 'UNICODE',\n",
        " 'VERBOSE',\n",
        " 'X',\n",
        " '_MAXCACHE',\n",
        " '__all__',\n",
        " '__builtins__',\n",
        " '__doc__',\n",
        " '__file__',\n",
        " '__name__',\n",
        " '__package__',\n",
        " '__version__',\n",
        " '_alphanum',\n",
        " '_cache',\n",
        " '_cache_repl',\n",
        " '_compile',\n",
        " '_compile_repl',\n",
        " '_expand',\n",
        " '_pattern_type',\n",
        " '_pickle',\n",
        " '_subx',\n",
        " 'compile',\n",
        " 'copy_reg',\n",
        " 'error',\n",
        " 'escape',\n",
        " 'findall',\n",
        " 'finditer',\n",
        " 'match',\n",
        " 'purge',\n",
        " 'search',\n",
        " 'split',\n",
        " 'sre_compile',\n",
        " 'sre_parse',\n",
        " 'sub',\n",
        " 'subn',\n",
        " 'sys',\n",
        " 'template']"
       ]
      }
     ],
     "prompt_number": 243
    },
    {
     "cell_type": "code",
     "collapsed": false,
     "input": [
      "help(re.search)"
     ],
     "language": "python",
     "metadata": {},
     "outputs": [
      {
       "output_type": "stream",
       "stream": "stdout",
       "text": [
        "Help on function search in module re:\n",
        "\n",
        "search(pattern, string, flags=0)\n",
        "    Scan through string looking for a match to the pattern, returning\n",
        "    a match object, or None if no match was found.\n",
        "\n"
       ]
      }
     ],
     "prompt_number": 244
    },
    {
     "cell_type": "markdown",
     "metadata": {},
     "source": [
      "# Chapter 12 \ub124\ud2b8\uc6cc\ud06c \ud504\ub85c\uadf8\ub7a8\n",
      "\n",
      "## 12.1 HyperText Transport Protocol - HTTP)\n",
      "\n",
      "- socket: \ub2e8\uc77c \uc18c\ucf13\uc744 \uac00\uc9c4 2 \ud504\ub85c\uadf8\ub7a8 \uc0ac\uc774\uc5d0 \uc591\ubc29\ud5a5 \uc5f0\uacc4\ub97c \uc81c\uacf5\ud55c\ub2e4\ub294 \uc810\uc744 \uc81c\uc678\ud558\uace0 \ud30c\uc77c\uacfc \ub9e4\uc6b0 \uc720\uc0ac\n",
      "- \ub3d9\uc77c\ud55c \uc18c\ucf13\uc5d0 \uc77d\uac70\ub098 \uc4f8 \uc218 \uc788\uc74c\n",
      "- \uc18c\ucf13\uc5d0 \ubb34\uc5b8\uac00\ub97c \uc4f0\uac8c \ub418\uba74, \uc18c\ucf13\uc758 \ub2e4\ub978 \ub05d\uc758 \uc751\uc6a9\ud504\ub85c\uadf8\ub7a8\uc5d0 \uc804\uc1a1 \ub428\n",
      "- \uc18c\ucf13\uc73c\ub85c\ubd80\ud130 \uc77d\uac8c \ub418\uba74, \ub2e4\ub978 \uc751\uc6a9 \ud504\ub85c\uadf8\ub7a8\uc774 \uc804\uc1a1\ud55c \ub370\uc774\ud130\ub97c \ubc1b\uac8c \ub428\n",
      "- \uc778\ud130\ub137\uc744 \ud1b5\ud55c \ud1b5\uc2e0\ud558\ub294 \ud504\ub85c\uadf8\ub7a8\uc758 \uc911\uc694\ud55c \ubd80\ubd84\uc740 **\uc5b4\ub5a4 \uc885\ub958\uc758 \ud504\ub85c\ud1a0\ucf5c\uc744 \uacf5\uc720\ud558\ub294 \uac83**\n",
      "- \ud504\ub85c\ud1a0\ucf5c\uc740 \uc815\uad50\ud55c \uaddc\uce59\uc758 \uc9d1\ud569\uc73c\ub85c \ub204\uac00 \uba54\uc2dc\uc9c0\ub97c \uba3c\uc800 \ubcf4\ub0b4\uace0, \uba54\uc2dc\uc9c0\ub85c \ubb34\uc5c7\uc744 \ud558\uba70, \uba54\uc2dc\uc9c0\uc5d0 \ub300\ud55c \uc751\ub2f5\uc740 \ubb34\uc5c7\uc774\uace0, \ub2e4\uc74c\uc5d0 \ub204\uac00 \uba54\uc2dc\uc9c0\ub97c \ubcf4\ub0b4\uace0 \ub4f1\ub4f1\uc744 \ud3ec\ud568\ud568\n",
      "- [rfc2616](http://www.w3.org/Protocols/rfc2616/rfc2616.txt)\n",
      "- GET http://www.py4inf.com/code/remeo.txt HTTP/1.0\n",
      "\n",
      "## 12.2 \uc138\uc0c1\uc5d0\uc11c \uac00\uc7a5 \uac04\ub2e8\ud55c \uc6f9 \ube0c\ub77c\uc6b0\uc800(Web Browser)\n",
      "\n",
      "- HTTP \ud504\ub85c\ud1a0\ucf5c \uaddc\uce59\uc5d0 \ub530\ub77c \ubb38\uc11c\ub97c \uc694\uccad\ud558\uace0 \uc11c\ubc84\uac00 \ub2e4\uc2dc \ubcf4\ub0b4\uc8fc\ub294 \uacb0\uacfc\ub97c \ubcf4\uc5ec\uc8fc\ub294 \uac83"
     ]
    },
    {
     "cell_type": "code",
     "collapsed": false,
     "input": [
      "import socket\n",
      "\n",
      "mysock = socket.socket(socket.AF_INET, socket.SOCK_STREAM)\n",
      "mysock.connect(('www.py4inf.com', 80))\n",
      "mysock.send('GET http://www.py4inf.com/code/remeo.txt HTTP/1.0\\n\\n')\n",
      "\n",
      "while True:\n",
      "    data = mysock.recv(512)\n",
      "    if(len(data) < 1):\n",
      "        break\n",
      "    print data\n",
      "    \n",
      "mysock.close()"
     ],
     "language": "python",
     "metadata": {},
     "outputs": [
      {
       "output_type": "stream",
       "stream": "stdout",
       "text": [
        "HTTP/1.1 301 Moved Permanently\r\n",
        "Date: Tue, 23 Sep 2014 03:25:07 GMT\r\n",
        "Server: Apache\r\n",
        "Location: http://www.py4inf.com/code/romeo.txt\r\n",
        "Content-Length: 244\r\n",
        "Connection: close\r\n",
        "Content-Type: text/html; charset=iso-8859-1\r\n",
        "\r\n",
        "<!DOCTYPE HTML PUBLIC \"-//IETF//DTD HTML 2.0//EN\">\n",
        "<html><head>\n",
        "<title>301 Moved Permanently</title>\n",
        "</head><body>\n",
        "<h1>Moved Permanently</h1>\n",
        "<p>The document has moved <a href=\"http://www.py4inf.com/code/romeo.txt\">here</a>.</p>\n",
        "</body></html>\n",
        "\n"
       ]
      }
     ],
     "prompt_number": 245
    },
    {
     "cell_type": "markdown",
     "metadata": {},
     "source": [
      "- \uc6f9\uc11c\ubc84\uac00 \ubb38\uc11c\ub97c \uc11c\uc220\ud558\uae30 \uc704\ud574\uc11c \ubcf4\ub0b4\ub294 header\ub85c \uc2dc\uc791\n",
      "- \uc18c\ucf13\uc744 \ud1b5\ud574\uc11c low-level \ub124\ud2b8\uc6cc\ud06c \uc5f0\uacb0\uc744 \uc5b4\ub5bb\uac8c \ud558\ub294\uc9c0 \ud655\uc778\ud560 \uc218 \uc788\uc74c\n",
      "- \uc18c\ucf13\uc744 \uc0ac\uc6a9\ud574\uc11c \uc6f9\uc11c\ubc84, \uba54\uc77c \uc11c\ubc84 \ud639\uc740 \ub2e4\ub978 \uc885\ub958\uc758 \uc11c\ubc84\uc640 \ud1b5\uc2e0\ud560 \uc218 \uc788\uc74c\n",
      "- \ud544\uc694\ud55c \uac83\uc740 \ud504\ub85c\ud1a0\ucf5c\uc744 \uae30\uc220\ud558\ub294 \ubb38\uc11c\ub97c \ucc3e\uace0 \ud504\ub85c\ud1a0\ucf5c\uc5d0 \ub530\ub77c \ub370\uc774\ud130\ub97c \uc8fc\uace0\ubc1b\ub294 \ucf54\ub4dc\ub97c \uc791\uc131\ud558\ub294 \uac83\n",
      "- \uac00\uc7a5 \ud754\ud788 \uc0ac\uc6a9\ud558\ub294 \ud504\ub85c\ud1a0\ucf5c\uc740 HTTP \ud504\ub85c\ud1a0\ucf5c\uc774\uae30 \ub54c\ubb38\uc5d0, \ud30c\uc774\uc36c\uc740 \uc6f9\uc0c1\uc5d0\uc11c \ub370\uc774\ud130\ub098 \ubb38\uc11c\ub97c \uac80\uc0c9\ud558\uae30 \uc704\ud574\uc11c HTTP \ud504\ub85c\ud1a0\ucf5c\uc744 \uc9c0\uc6d0\ud558\uae30 \uc704\ud574\uc11c \ud2b9\ubcc4\ud788 \uc124\uacc4\ub41c \ub77c\uc774\ube0c\ub7ec\ub9ac\uac00 \uc788\ub2e4."
     ]
    },
    {
     "cell_type": "markdown",
     "metadata": {},
     "source": [
      "## 12.3 HTTP\ub97c \ud1b5\ud574\uc11c \uc774\ubbf8\uc9c0 \uac00\uc838\uc624\uae30\n",
      "\n",
      "- \ud504\ub85c\uadf8\ub7a8 \uc2e4\ud589\uc2dc\uc5d0 \ud654\uba74\uc5d0 \ub370\uc774\ud130\ub97c \ubcf5\uc0ac\ud558\ub294 \ub300\uc2e0\uc5d0, \ubb38\uc790\uc5f4\ub85c \ub370\uc774\ud130\ub97c \uc313\uace0, \ub2e4\uc74c\uacfc \uac19\uc774 \ud5e4\ub354\ub97c \uc798\ub77c\ub0b4\uace0 \ub098\uc11c \ud30c\uc77c\uc5d0 \uc774\ubbf8\uc9c0 \ub370\uc774\ud130\ub97c \uc800\uc7a5\ud55c\ub2e4."
     ]
    },
    {
     "cell_type": "code",
     "collapsed": false,
     "input": [
      "import socket\n",
      "import time\n",
      "\n",
      "mysock = socket.socket(socket.AF_INET, socket.SOCK_STREAM)\n",
      "mysock.connect(('www.py4inf.com', 80))\n",
      "mysock.send('GET http://www.py4inf.com/cover.jpg HTTP/1.0\\n\\n')\n",
      "\n",
      "count = 0\n",
      "picture = ''\n",
      "\n",
      "while True:\n",
      "    data = mysock.recv(5120)\n",
      "    # 1 is bigger mean: nothing more received the data\n",
      "    if(len(data) < 1):\n",
      "        break\n",
      "    count = count + len(data)\n",
      "    print len(data), count\n",
      "    picture = picture + data\n",
      "    \n",
      "mysock.close()\n",
      "\n",
      "# Look for the end of the header (2 CRLF)\n",
      "pos = picture.find('\\r\\n\\r\\n')\n",
      "print 'Header length', pos\n",
      "print picture[:pos]\n",
      "\n",
      "# Skip past the header and save the picture data\n",
      "picture = picture[pos+4:]\n",
      "fhand = open('stuff.jpg', 'wb')\n",
      "fhand.write(picture)\n",
      "fhand.close()"
     ],
     "language": "python",
     "metadata": {},
     "outputs": [
      {
       "output_type": "stream",
       "stream": "stdout",
       "text": [
        "1413 1413\n",
        "1413 2826\n",
        "2826 5652\n",
        "1413 7065\n",
        "1413 8478\n",
        "2826 11304\n",
        "1413 12717\n",
        "1413 14130\n",
        "2826"
       ]
      },
      {
       "output_type": "stream",
       "stream": "stdout",
       "text": [
        " 16956\n",
        "5120 22076\n",
        "3358 25434\n",
        "1413 26847\n",
        "1413 28260\n",
        "1413 29673\n",
        "1413 31086\n",
        "5120"
       ]
      },
      {
       "output_type": "stream",
       "stream": "stdout",
       "text": [
        " 36206\n",
        "5120 41326\n",
        "5120 46446\n",
        "5120 51566\n",
        "5120 56686\n",
        "1247 57933\n",
        "1413"
       ]
      },
      {
       "output_type": "stream",
       "stream": "stdout",
       "text": [
        " 59346\n",
        "1413 60759\n",
        "1413 62172\n",
        "1413 63585\n",
        "1413 64998\n",
        "1413"
       ]
      },
      {
       "output_type": "stream",
       "stream": "stdout",
       "text": [
        " 66411\n",
        "1413 67824\n",
        "1413 69237\n",
        "1064 70301\n",
        "Header length 240\n",
        "HTTP/1.1 200 OK\r\n",
        "Date: Tue, 23 Sep 2014 03:35:54 GMT\r\n",
        "Server: Apache\r\n",
        "Last-Modified: Sat, 02 Nov 2013 02:01:26 GMT\r\n",
        "ETag: \"19c141-111a9-4ea280f8354b8\"\r\n",
        "Accept-Ranges: bytes\r\n",
        "Content-Length: 70057\r\n",
        "Connection: close\r\n",
        "Content-Type: image/jpeg\n"
       ]
      }
     ],
     "prompt_number": 247
    },
    {
     "cell_type": "code",
     "collapsed": false,
     "input": [
      "!open stuff.jpg"
     ],
     "language": "python",
     "metadata": {},
     "outputs": [],
     "prompt_number": 248
    },
    {
     "cell_type": "code",
     "collapsed": false,
     "input": [
      "import socket\n",
      "import time\n",
      "\n",
      "mysock = socket.socket(socket.AF_INET, socket.SOCK_STREAM)\n",
      "mysock.connect(('www.py4inf.com', 80))\n",
      "mysock.send('GET http://www.py4inf.com/cover.jpg HTTP/1.0\\n\\n')\n",
      "\n",
      "count = 0\n",
      "picture = ''\n",
      "\n",
      "while True:\n",
      "    data = mysock.recv(5120)\n",
      "    # 1 is bigger mean: nothing more received the data\n",
      "    if(len(data) < 1):\n",
      "        break\n",
      "    time.sleep(0.25)\n",
      "    count = count + len(data)\n",
      "    print len(data), count\n",
      "    picture = picture + data\n",
      "    \n",
      "mysock.close()\n",
      "\n",
      "# Look for the end of the header (2 CRLF)\n",
      "pos = picture.find('\\r\\n\\r\\n')\n",
      "print 'Header length', pos\n",
      "print picture[:pos]\n",
      "\n",
      "# Skip past the header and save the picture data\n",
      "picture = picture[pos+4:]\n",
      "fhand = open('stuff.jpg', 'wb')\n",
      "fhand.write(picture)\n",
      "fhand.close()"
     ],
     "language": "python",
     "metadata": {},
     "outputs": [
      {
       "output_type": "stream",
       "stream": "stdout",
       "text": [
        "1413 1413\n",
        "5120"
       ]
      },
      {
       "output_type": "stream",
       "stream": "stdout",
       "text": [
        " 6533\n",
        "5120"
       ]
      },
      {
       "output_type": "stream",
       "stream": "stdout",
       "text": [
        " 11653\n",
        "5120"
       ]
      },
      {
       "output_type": "stream",
       "stream": "stdout",
       "text": [
        " 16773\n",
        "5120"
       ]
      },
      {
       "output_type": "stream",
       "stream": "stdout",
       "text": [
        " 21893\n",
        "5120"
       ]
      },
      {
       "output_type": "stream",
       "stream": "stdout",
       "text": [
        " 27013\n",
        "5120"
       ]
      },
      {
       "output_type": "stream",
       "stream": "stdout",
       "text": [
        " 32133\n",
        "5120"
       ]
      },
      {
       "output_type": "stream",
       "stream": "stdout",
       "text": [
        " 37253\n",
        "5120"
       ]
      },
      {
       "output_type": "stream",
       "stream": "stdout",
       "text": [
        " 42373\n",
        "5120"
       ]
      },
      {
       "output_type": "stream",
       "stream": "stdout",
       "text": [
        " 47493\n",
        "5120"
       ]
      },
      {
       "output_type": "stream",
       "stream": "stdout",
       "text": [
        " 52613\n",
        "5120"
       ]
      },
      {
       "output_type": "stream",
       "stream": "stdout",
       "text": [
        " 57733\n",
        "5120"
       ]
      },
      {
       "output_type": "stream",
       "stream": "stdout",
       "text": [
        " 62853\n",
        "5120"
       ]
      },
      {
       "output_type": "stream",
       "stream": "stdout",
       "text": [
        " 67973\n",
        "2328"
       ]
      },
      {
       "output_type": "stream",
       "stream": "stdout",
       "text": [
        " 70301\n",
        "Header length 240\n",
        "HTTP/1.1 200 OK\r\n",
        "Date: Tue, 23 Sep 2014 03:39:59 GMT\r\n",
        "Server: Apache\r\n",
        "Last-Modified: Sat, 02 Nov 2013 02:01:26 GMT\r\n",
        "ETag: \"19c141-111a9-4ea280f8354b8\"\r\n",
        "Accept-Ranges: bytes\r\n",
        "Content-Length: 70057\r\n",
        "Connection: close\r\n",
        "Content-Type: image/jpeg\n"
       ]
      }
     ],
     "prompt_number": 249
    },
    {
     "cell_type": "markdown",
     "metadata": {},
     "source": [
      "- recv() \ud638\ucd9c\uc5d0 \ucc98\uc74c\uacfc \ub9c8\uc9c0\ub9c9\uc744 \uc81c\uc678\ud558\uace0, \ub9e4\ubc88 \uc0c8\ub85c\uc6b4 \ub370\uc774\ud130\ub97c \uc694\uccad\ud560 \ub54c\ub9c8\ub2e4 \uc774\uc81c\ub294 5120 \ubb38\uc790\ub97c \uc5bb\ub294\ub2e4.\n",
      "- \uc11c\ubc84 send() \uc694\uccad\uacfc \uc751\uc6a9\ud504\ub85c\uadf8\ub7a8 recv() \uc694\uccad \uc0ac\uc774\uc5d0 \ubc84\ud37c\uac00 \uc874\uc7ac\n",
      "- \ud504\ub85c\uadf8\ub7a8\uc5d0 \uc9c0\uc5f0\uc744 \ub123\uc5b4 \uc2e4\ud589\ud558\uac8c \ub420 \ub54c, \uc5b4\ub290 \uc9c0\uc810\uc5d0\uc120\uac00 \uc11c\ubc84\uac00 \uc18c\ucf13\uc758 \ubc84\ud37c\ub97c \ucc44\uc6b0\uace0 \uc751\uc6a9\ud504\ub85c\uadf8\ub7a8\uc774 \ubc84\ud37c\ub97c \ube44\uc6b8\ub54c\uae4c\uc9c0 \uc7a0\uc2dc \uba48\ucdb0\uc57c \ub41c\ub2e4. \n",
      "- \ubcf4\ub0b4\ub294 \uc751\uc6a9 \ud504\ub85c\uadf8\ub7a8 \ud639\uc740 \ubc1b\ub294 \uc751\uc6a9\ud504\ub85c\uadf8\ub7a8\uc744 \uba48\ucd94\ub294 \ud589\uc704\ub97c flow control \uc774\ub77c\uace0 \ud55c\ub2e4."
     ]
    },
    {
     "cell_type": "markdown",
     "metadata": {},
     "source": [
      "## 12.7 BeautifulSoup \uc0ac\uc6a9\ud55c HTML \ud30c\uc2f1"
     ]
    },
    {
     "cell_type": "code",
     "collapsed": false,
     "input": [
      "import urllib\n",
      "from bs4 import BeautifulSoup\n",
      "\n",
      "url = 'http://www.dr-chuck.com/page1.htm'\n",
      "html = urllib.urlopen(url).read()\n",
      "soup = BeautifulSoup(html)\n",
      "\n",
      "# Retrieve all of the anchor tags\n",
      "\n",
      "tags = soup('a')\n",
      "for tag in tags:\n",
      "    # Look at the parts of a tag\n",
      "    print 'TAG:', tag\n",
      "    print 'URL:', tag.get('href', None)\n",
      "    print 'Content:', tag.contents[0]\n",
      "    print 'Attrs:', tag.attrs"
     ],
     "language": "python",
     "metadata": {},
     "outputs": [
      {
       "output_type": "stream",
       "stream": "stdout",
       "text": [
        "TAG: <a href=\"http://www.dr-chuck.com/page2.htm\">\n",
        "Second Page</a>\n",
        "URL: http://www.dr-chuck.com/page2.htm\n",
        "Content: \n",
        "Second Page\n",
        "Attrs: {u'href': u'http://www.dr-chuck.com/page2.htm'}\n"
       ]
      }
     ],
     "prompt_number": 250
    },
    {
     "cell_type": "markdown",
     "metadata": {},
     "source": [
      "## 12.8 urllib\uc744 \uc0ac\uc6a9\ud558\uc5ec \ubc14\uc774\ub108\ub9ac \ud30c\uc77c \uc77d\uae30\n",
      "\n",
      "- [text - Python file IO 'w' vs 'wb' - Stack Overflow](http://stackoverflow.com/questions/15750660/python-file-io-w-vs-wb): \uc124\uba85 \uc798 \ub418\uc5b4 \uc788\ub124. \n",
      "  - Only in Windows, in the latter case, .write('\\n') writes one byte with a value of 10. In the former case, it writes two bytes, with the values 13 and 10.\n",
      "  - You can prove this to yourself by looking at the resulting file size, and examining the files in a hex editor.\n",
      "  - In POSIX-related operating systems (UNIX, SunOS, MacOS, Linux, etc.), there is no difference beetween 'w' and 'wb'.\n",
      "\n",
      "### w, wb \uc5d0\ud53c\uc18c\ub4dc\n",
      "\n",
      "- \uc774\uac83 \ub54c\ubb38\uc5d0 \uc5bc\ub9c8\ub098 \uace0\uc0dd\uc744 \ud588\ub294\uc9c0.. \n",
      "- windows\uc5d0\uc11c binary\ub97c 'w' \ubaa8\ub4dc\ub85c \uc4f0\ub294 \ucc38\uc0ac\ub85c \uc778\ud574 \\n\uc774 \\r\\n \uc73c\ub85c \uc4f0\uc5ec\uc84c\ub2e4. \n",
      "- \ub2f9\uc5f0\ud788 \uc774 \uc545\uc131\ucf54\ub4dc\ub4e4\uc740 \ud328\ud134\uc774 \ub2ec\ub77c\uc84c\uae30 \ub54c\ubb38\uc5d0 \ubc31\uc2e0\uc5d0\uc11c \ud0d0\uc9c0\ub97c \ud558\uc9c0 \ubabb\ud560\ubfd0 \uc544\ub2c8\ub77c \uc2e4\ud589\uc870\ucc28 \uc548\ub418\uc5c8\ub2e4. \n",
      "- \ub098\uc911\uc5d0 \uc2a4\ud06c\ub9bd\ud2b8\ub85c \\r\\n\uc744 \\n\uc73c\ub85c \ubc14\uafd4\uc8fc\ub2c8 \uc815\uc0c1\uc801\uc778 md5\uac12\uc774 \ub098\uc654\ub2e4.\n",
      "- \ub0b4\uac00 \uc2e4\ud5d8\ud560 \ub54c\ub294 \ub9e5\uc73c\ub85c \ud558\uace0 \uc9c1\uc811 \ub3cc\ub9ac\ub294\uac74 windows\uc5d0\uc11c \ud588\uae30 \ub54c\ubb38\uc5d0 \uc774\ub7f0 \ucc38\uc0ac\uac00 \ubc1c\uc0dd\n",
      "- \uba54\ubaa8\ub9ac\uc5d0 \uc800\uc7a5\ub418\uc5b4 \uc788\uc744\ub54c md5\uac12\uc740 \uc815\ud655\ud588\uc9c0\ub9cc, \ud30c\uc77c\ub85c \ub5a8\uad70 \ub2e4\uc74c\uc758 md5\uac12\uc774 \uc774\uc0c1\ud574\uc11c \ud55c\ucc38 \uace0\uc0dd\n",
      "- \uacb0\uad6d\uc740 w, wb \ubaa8\ub4dc \ucc28\uc774\uc600\ub2e4.\n",
      "- \uaf2d binary \ud30c\uc77c\uc740 'wb'\ub85c \uc368\uc8fc\uc790. \uc5b8\uc81c \uc708\ub3c4\uc6b0\ub97c \uc4f8\uc9c0 \ubaa8\ub974\ub2c8, \ud638\ud658\uc131\uc744 \uc704\ud574 \ub9de\ucd94\uc5b4 \uc8fc\uc790\ub294 \uc774\uc57c\uae30\ub2e4."
     ]
    },
    {
     "cell_type": "code",
     "collapsed": false,
     "input": [
      "img = urllib.urlopen('http://www.py4inf.com/cover.jpg').read()"
     ],
     "language": "python",
     "metadata": {},
     "outputs": [],
     "prompt_number": 251
    },
    {
     "cell_type": "code",
     "collapsed": false,
     "input": [
      "fhand = open('cover.jpg', 'wb')\n",
      "fhand.write(img)\n",
      "fhand.close()"
     ],
     "language": "python",
     "metadata": {},
     "outputs": [],
     "prompt_number": 259
    },
    {
     "cell_type": "code",
     "collapsed": false,
     "input": [
      "!open cover.jpg"
     ],
     "language": "python",
     "metadata": {},
     "outputs": [],
     "prompt_number": 260
    },
    {
     "cell_type": "markdown",
     "metadata": {},
     "source": [
      "### \uba54\ubaa8\ub9ac \ubd80\uc871\uc744 \ud53c\ud558\uae30 \uc704\ud574 \ube14\ub85d \ub2e8\uc704 \uc4f0\uae30\n",
      "\n",
      "- 10\ub9cc \uae00\uc790\uc529 \uc77d\uc5b4\uc640\uc11c \ud30c\uc77c\uc5d0 \uc800\uc7a5"
     ]
    },
    {
     "cell_type": "code",
     "collapsed": false,
     "input": [
      "import urllib\n",
      "img = urllib.urlopen('http://www.py4inf.com/cover.jpg')\n",
      "fhand = open('cover.jpg', 'w')\n",
      "size = 0\n",
      "while True:\n",
      "    info = img.read(100000)\n",
      "    if len(info) < 1:\n",
      "        break\n",
      "    size += len(info)\n",
      "    fhand.write(info)\n",
      "    \n",
      "print size, 'chracters copied.'\n",
      "fhand.close()"
     ],
     "language": "python",
     "metadata": {},
     "outputs": [
      {
       "output_type": "stream",
       "stream": "stdout",
       "text": [
        "70057 chracters copied.\n"
       ]
      }
     ],
     "prompt_number": 416
    },
    {
     "cell_type": "code",
     "collapsed": false,
     "input": [
      "!open cover.jpg"
     ],
     "language": "python",
     "metadata": {},
     "outputs": [],
     "prompt_number": 263
    },
    {
     "cell_type": "code",
     "collapsed": false,
     "input": [
      "!curl -o cover.jpg http://www.py4inf.com/cover.jpg"
     ],
     "language": "python",
     "metadata": {},
     "outputs": [
      {
       "output_type": "stream",
       "stream": "stdout",
       "text": [
        "  % Total    % Received % Xferd  Average Speed   Time    Time     Time  Current\r\n",
        "                                 Dload  Upload   Total   Spent    Left  Speed\r\n",
        "\r",
        "  0     0    0     0    0     0      0      0 --:--:-- --:--:-- --:--:--     0"
       ]
      },
      {
       "output_type": "stream",
       "stream": "stdout",
       "text": [
        "\r",
        "  0     0    0     0    0     0      0      0 --:--:-- --:--:-- --:--:--     0"
       ]
      },
      {
       "output_type": "stream",
       "stream": "stdout",
       "text": [
        "\r",
        " 70 70057   70 49230    0     0  41496      0  0:00:01  0:00:01 --:--:-- 41544"
       ]
      },
      {
       "output_type": "stream",
       "stream": "stdout",
       "text": [
        "\r",
        "100 70057  100 70057    0     0  55357      0  0:00:0"
       ]
      },
      {
       "output_type": "stream",
       "stream": "stdout",
       "text": [
        "1  0:00:01 --:--:-- 55381\r\n"
       ]
      }
     ],
     "prompt_number": 265
    },
    {
     "cell_type": "code",
     "collapsed": false,
     "input": [
      "!open cover.jpg"
     ],
     "language": "python",
     "metadata": {},
     "outputs": [],
     "prompt_number": 266
    },
    {
     "cell_type": "markdown",
     "metadata": {},
     "source": [
      "## Chapter 13 \uc6f9\uc11c\ube44\uc2a4 \uc0ac\uc6a9\ud558\uae30\n",
      "\n",
      "- **\ub2e4\ub978 \ud504\ub85c\uadf8\ub7a8\uc5d0\uc11c \ud65c\uc6a9\ub418\ub3c4\ub85d \ud2b9\ubcc4\ud788 \uc124\uacc4\ub41c \ubb38\uc11c**(\uc989, \ube0c\ub77c\uc6b0\uc800\uc5d0\uc11c HTML\ub85c \ubcf4\uc5ec\uc9c0\uc9c0 \uc54a\ub294\uac83)\ub97c \uc0dd\uc131\ud558\ub294 \ubc29\ubc95\uc744 \uac1c\ubc1c\ud558\ub294 \uac83\uc740 \uc624\ub798 \uac78\ub9ac\uc9c0 \uc54a\uc74c\n",
      "\n",
      "### \uad50\ud658\ud560 \ub54c \uc790\uc8fc \uc4f0\uc774\ub294 2\uac00\uc9c0 \ud615\uc2dd\n",
      "\n",
      "1. XML(eXtensible Mardkup Language)\n",
      "  - \uc624\ub79c \uae30\uac04 \uc0ac\uc6a9\ub418\uc5b4\uc838 \uc654\uace0 \ubb38\uc11c\ud615\uc2dd \ub370\uc774\ud130\ub97c \uad50\ud658\ud558\ub294\ub370 \uc801\uc808\n",
      "2. [JSON(JavaScript Object Notation)](http://www.json.org)\n",
      "  - \ub515\uc154\ub108\ub9ac, \ub9ac\uc2a4\ud2b8 \ud639\uc740 \ub2e4\ub978 \ub0b4\ubd80 \uc815\ubcf4\ub97c \ud504\ub85c\uadf8\ub7a8\uc73c\ub85c \uc11c\ub85c \uad50\ud658\ud560 \ub54c\n",
      "  \n",
      "## 13.1 XML(eXtensible Markdup Language)"
     ]
    },
    {
     "cell_type": "markdown",
     "metadata": {},
     "source": [
      "    <person>\n",
      "        <name>Chuck</name>\n",
      "        <phone type=\"intl\">\n",
      "            +1 734 303 4456\n",
      "        </phone>\n",
      "        <email hide=\"yes\" />\n",
      "    </person>"
     ]
    },
    {
     "cell_type": "markdown",
     "metadata": {},
     "source": [
      "- \uc885\uc885 XMl\ubb38\uc11c\ub97c \ub098\ubb34 \uad6c\uc870\ub85c \uc0dd\uac01\ud558\ub294 \uac83\uc774 \ub3c4\uc6c0\n",
      "- \ucd5c\uc0c1\ub2e8 peson \ud0dc\uadf8\uac00 \uc788\uace0 phone \uac19\uc740 \ub2e4\ub978 \ud0dc\uadf8\ub294 \ubd80\ubaa8 \ub178\ub4dc\uc758 children \ub178\ub4dc\ub85c \uadf8\ub824\uc9d0\uc9d0\n",
      "\n",
      "## 13.2 XML \ud30c\uc2f1"
     ]
    },
    {
     "cell_type": "code",
     "collapsed": false,
     "input": [
      "import xml.etree.ElementTree as ET\n",
      "\n",
      "data = '''\n",
      "<person>\n",
      "    <name>Chuck</name>\n",
      "    <phone type=\"intl\">\n",
      "        +1 734 303 4456\n",
      "    </phone>\n",
      "    <email hide=\"yes\" />\n",
      "</person>'''\n",
      "\n",
      "tree = ET.fromstring(data)\n",
      "print 'Name:', tree.find('name').text\n",
      "print 'Attr:', tree.find('email').get('hide')"
     ],
     "language": "python",
     "metadata": {},
     "outputs": [
      {
       "output_type": "stream",
       "stream": "stdout",
       "text": [
        "Name: Chuck\n",
        "Attr: yes\n"
       ]
      }
     ],
     "prompt_number": 267
    },
    {
     "cell_type": "markdown",
     "metadata": {},
     "source": [
      "## 13.3 \ub178\ub4dc \ubc18\ubcf5\ud558\uae30"
     ]
    },
    {
     "cell_type": "code",
     "collapsed": false,
     "input": [
      "import xml.etree.ElementTree as ET\n",
      "\n",
      "input = '''\n",
      "<stuff>\n",
      "    <users>\n",
      "        <user x=\"2\">\n",
      "            <id>001</id>\n",
      "            <name>Chuck</name>\n",
      "        </user>\n",
      "        <user x=\"7\">\n",
      "            <id>009</id>\n",
      "            <name>Brent</name>\n",
      "        </user>\n",
      "    </users>\n",
      "</stuff>'''\n",
      "\n",
      "stuff = ET.fromstring(input)\n",
      "lst = stuff.findall('users/user')\n",
      "print 'User count:', len(lst)\n",
      "print ''\n",
      "\n",
      "for item in lst:\n",
      "    print 'Name', item.find('name').text\n",
      "    print 'Id', item.find('id').text\n",
      "    print 'Attribute', item.get('x')\n",
      "    print ''"
     ],
     "language": "python",
     "metadata": {},
     "outputs": [
      {
       "output_type": "stream",
       "stream": "stdout",
       "text": [
        "User count: 2\n",
        "\n",
        "Name Chuck\n",
        "Id 001\n",
        "Attribute 2\n",
        "\n",
        "Name Brent\n",
        "Id 009\n",
        "Attribute 7\n",
        "\n"
       ]
      }
     ],
     "prompt_number": 270
    },
    {
     "cell_type": "markdown",
     "metadata": {},
     "source": [
      "## 13.4 JSON(JavaScript Object Notation)\n",
      "\n",
      "- JSON \ud615\uc2dd\uc740 \uc790\ubc14\uc2a4\ud06c\ub9bd\ud2b8 \uc5b8\uc5b4\uc5d0\uc11c \uc0ac\uc6a9\ub418\ub294 \uac1c\uccb4\uc640 \ubc30\uc5f4 \ud615\uc2dd\uc5d0\uc11c \uc601\uac10\uc744 \uc5bb\uc74c\n",
      "- \ub515\uc154\ub108\ub9ac\uc640 \ub9ac\uc2a4\ud2b8\uc758 \ud30c\uc774\uc36c \uad6c\ubb38\uc774 JSON \uad6c\ubb38\uc5d0 \uc601\ud5a5\uc744 \uc90c\n",
      "- JSON \ud3ec\ub9f7\uc774 \uac70\uc758 \ud30c\uc774\uc36c\uc758 \ub9ac\uc2a4\ud2b8\uc640 \ub515\uc154\ub108\ub9ac\uc758 \uc870\ud569\uacfc \uc77c\uce58"
     ]
    },
    {
     "cell_type": "code",
     "collapsed": false,
     "input": [
      "{\n",
      "    \"name\" : \"Chuck\",\n",
      "    \"phone\" : {\n",
      "        \"type\" : \"int1\",\n",
      "        \"number\" : \"+1 734 303 4456\"\n",
      "    },\n",
      "    \"email\" : {\n",
      "        \"hide\" : \"yes\"\n",
      "    }\n",
      "}"
     ],
     "language": "python",
     "metadata": {},
     "outputs": [
      {
       "metadata": {},
       "output_type": "pyout",
       "prompt_number": 272,
       "text": [
        "{'email': {'hide': 'yes'},\n",
        " 'name': 'Chuck',\n",
        " 'phone': {'number': '+1 734 303 4456', 'type': 'int1'}}"
       ]
      }
     ],
     "prompt_number": 272
    },
    {
     "cell_type": "markdown",
     "metadata": {},
     "source": [
      "### XML VS JSON \uba87 \uac00\uc9c0 \ucc28\uc774\uc810\n",
      "\n",
      "- \uccab\uc9f8\ub85c XML\uc5d0\uc11c\ub294 \"phone\" \ud0dc\uadf8\uc5d0 \"int1\" \uac19\uc740 \uc18d\uc131\uc744 \ucd94\uac00\ud560 \uc218 \uc788\uc74c. JSON\uc5d0\uc11c\ub294 \ub2e8\uc9c0 key-value pair\ub2e4. \ub610\ud55c XML \"person\" \ud0dc\uadf8\ub294 \uc0ac\ub77c\uc9c0\uace0 \uc911\uad04\ud638 \uc138\ud2b8\ub85c \ub300\uccb4\ub428\n",
      "- \uc77c\ubc18\uc801\uc73c\ub85c JSON \uad6c\uc870\uac00 XML\ubcf4\ub2e4 \uac04\ub2e8\n",
      "- \uc65c\ub0d0\ud558\uba74, JSON\uc774 XML\ubcf4\ub2e4 \uc801\uc740 \uc5ed\ub7c9\uc744 \ubcf4\uc720\ud558\uae30 \ub54c\ubb38\n",
      "- \ud558\uc9c0\ub9cc **JSON\uc774 \ub515\uc154\ub108\ub9ac\uc640 \ub9ac\uc2a4\ud2b8\uc758 \uc870\ud569\uc5d0 \uc9c1\uc811 \ub9e4\ud551\ub41c\ub2e4\ub294 \uc7a5\uc810**\n",
      "- \uac70\uc758 \ubaa8\ub4e0 \ud504\ub85c\uadf8\ub798\ubc0d \uc5b8\uc5b4\uac00 \ud30c\uc774\uc36c \ub515\uc154\ub108\ub9ac\uc640 \ub9ac\uc2a4\ud2b8\uc5d0 \uc0c1\uc751\ud558\ub294 \uac83\uc744 \uac00\uc9c0\uace0 \uc788\uc5b4\uc11c, JSON\uc774 \ub450 \ud611\uc5c5 \ud504\ub85c\uadf8\ub7a8\uc774 \ub370\uc774\ud130\ub97c \uad50\ud658\ud558\ub294\ub370 \ub9e4\uc6b0 \uc790\uc5f0\uc2a4\ub7ec\uc6b4 \ud615\uc2dd\uc774 \ub428\n",
      "- XML\uc5d0 \ube44\ud574\uc11c \uc0c1\ub300\uc801\uc73c\ub85c \ub2e8\uc21c\ud568\uc73c\ub85c\uc368, JSON\uc740 \uc751\uc6a9\ud504\ub85c\uadf8\ub7a8 \uac04\uc758 \uac70\uc758 \ubaa8\ub4e0 \ub370\uc774\ud130\ub97c \uad50\ud658\ud558\ub294\ub370 \uc788\uc5b4 \ube60\ub974\uac8c \uc120\ud0dd\ub418\uace0 \uc788\uc74c"
     ]
    },
    {
     "cell_type": "markdown",
     "metadata": {},
     "source": [
      "## 13.5 JSON \ud30c\uc2f1\ud558\uae30\n",
      "\n",
      "- \ub515\uc154\ub108\ub9ac\uc640 \ub9ac\uc2a4\ud2b8\ub97c \uc911\ucca9\ud568\uc73c\ub85c\uc368 JSON\uc744 \uc0dd\uc131\n",
      "- \uac01 user\uac00 \ub515\uc154\ub108\ub9ac\ub85c key-value pair\uc778 user \ub9ac\uc2a4\ud2b8\ub97c \ud45c\ud604. \uadf8\ub798\uc11c \ub9ac\uc2a4\ud2b8 \ub515\uc154\ub108\ub9ac\uac00 \uc788\uc74c\n",
      "- XML\uacfc \uc0c1\uc751\ud558\ub294 \ub370\uc774\ud130, \ucf54\ub4dc\uc640 \ube44\uad50\ud574 \ubcf4\uc138\uc694.\n",
      "- JSON\uc740 \uc870\uae08 \ub35c \uc790\uc138\ud574\uc11c \uc0ac\uc804\uc5d0 \ubbf8\ub9ac \ub9ac\uc2a4\ud2b8\ub97c \uac00\uc838\uc62c \uac83\uc774\uace0, user \ub9ac\uc2a4\ud2b8\uac00 \uc788\uace0 \uac01 user\ub294 key-value pair \uc9d1\ud569\uc784\uc744 \uc54c \uc218 \uc788\uc74c\n",
      "- JSON\uc740 \uc880 \ub354 \uac04\ub7b5\ud558\uace0 \ud558\uc9c0\ub9cc \uc880 \ub354 \ub35c \uc11c\uc220\uc801"
     ]
    },
    {
     "cell_type": "code",
     "collapsed": false,
     "input": [
      "import json\n",
      "\n",
      "input = '''\n",
      "[\n",
      "    {\"id\" : \"001\",\n",
      "    \"x\" : \"2\",\n",
      "    \"name\" : \"Chuck\"\n",
      "    },\n",
      "    { \"id\" : \"009\",\n",
      "    \"x\": \"7\",\n",
      "    \"name\" : \"Chuck\"}\n",
      "]'''\n",
      "\n",
      "info = json.loads(input)\n",
      "print 'User count:', len(info)\n",
      "print ''\n",
      "\n",
      "for item in info:\n",
      "    print 'Name', item['name']\n",
      "    print 'Id', item['id']\n",
      "    print 'Attribute', item['x']\n",
      "    print ''"
     ],
     "language": "python",
     "metadata": {},
     "outputs": [
      {
       "output_type": "stream",
       "stream": "stdout",
       "text": [
        "User count: 2\n",
        "\n",
        "Name Chuck\n",
        "Id 001\n",
        "Attribute 2\n",
        "\n",
        "Name Chuck\n",
        "Id 009\n",
        "Attribute 7\n",
        "\n"
       ]
      }
     ],
     "prompt_number": 276
    },
    {
     "cell_type": "markdown",
     "metadata": {},
     "source": [
      "- \uc77c\ubc18\uc801\uc73c\ub85c **\uc6f9\uc11c\ube44\uc2a4**\uc5d0 \ub300\ud574\uc11c **XML\uc5d0\uc11c JSON**\uc73c\ub85c \uac00\ub294 \uc0b0\uc5c5 \uacbd\ud5a5\uc774 \ub69c\ub837\n",
      "- JSON \uc774 \uc880 \ub354 \uac04\ub2e8\ud558\uace0 \uc774\ubbf8 \ud504\ub85c\uadf8\ub798\ubc0d \uc5b8\uc5b4\uc5d0\uc11c \uac16\uace0 \uc788\ub294 \ub124\uc774\ud2f0\ube0c \uc790\ub8cc \uad6c\uc870\uc640 \uc9c1\uc811\uc801\uc73c\ub85c \ub9e4\ud551\ub418\uae30 \ub584\ubb38\uc5d0 \ud30c\uc2f1\ud558\uace0 \ub370\uc774\ud130 \ucd94\ucd9c\ud558\ub294 \ucf54\ub4dc\ub294 JSON\uc744 \uc0ac\uc6a9\ud560 \ub54c \uc880 \ub354 \uac04\ub2e8\ud558\uace0 \uc9c1\uc811\uc801\n",
      "- \ud558\uc9c0\ub9cc XML\uc774 JSON \ubcf4\ub2e4 \uc880 \ub354 \uc790\uae30 \uc11c\uc220\uc801\uc774\uace0 XML\uc774 \uac00\uc9c0\ub294 \uc7a5\uc810\uc744 \uac00\uc9c0\ub294 \uba87\uba87 \uc5b4\ud50c\ub9ac\ucf00\uc774\uc158\uc774 \uc788\ub2e4.\n",
      "- \ub300\ubd80\ubd84\uc758 \uc6cc\ub4dc \ud504\ub85c\uc138\uc11c\ub294 JSON\ubcf4\ub2e4\ub294 XML\uc744 \uc0ac\uc6a9\ud558\uc5ec \ub0b4\ubd80\uc801\uc73c\ub85c \ubb38\uc11c\ub97c \uc800\uc7a5\n",
      "\n",
      "## 13.6 API(Application Program Interface, \uc751\uc6a9 \ud504\ub85c\uadf8\ub7a8 \uc778\ud130\ud398\uc774\uc2a4)\n",
      "\n",
      "- HTTP\ub97c \uc0ac\uc6a9\ud558\uc5ec \uc751\uc6a9\ud504\ub85c\uadf8\ub7a8\uac04\ub370 \ub370\uc774\ud130\ub97c \uad50\ud658\n",
      "- XML\uacfc JSON\uc744 \uc0ac\uc6a9\ud558\uc5ec \uc751\uc6a9\ud504\ub85c\uadf8\ub7a8 \uac04\uc5d0\ub3c4 \ubcf5\uc7a1\ud55c \ub370\uc774\ud130\ub97c \uc8fc\uace0 \ubc1b\uc744 \uc218 \uc788\ub294 \ubc29\ubc95 \uc2b5\ub4dd\n",
      "- \ub2e4\uc74c \ub2e8\uacc4\ub294 \uc774\ub4e4 \uae30\ubc95\uc744 \uc0ac\uc6a9\ud558\uc5ec \uc751\uc6a9\ud504\ub85c\uadf8\ub7a8 \uac04\uc5d0 contract\uc744 \uc815\uc758\ud558\uace0 \ubb38\uc11c\ud654\ud558\ub294 \uac83\n",
      "- \uc751\uc6a9\ud504\ub85c\uadf8\ub7a8-\ub300-\uc751\uc6a9\ud504\ub85c\uadf8\ub7a8 \uacc4\uc57d\uc758 \uc77c\ubc18\uc801 \uba85\uce6d\uc740 API\n",
      "- API\ub97c \uc0ac\uc6a9\ud560 \ub54c, \uc77c\ubc18\uc801\uc73c\ub85c \ud558\ub098\uc758 \ud504\ub85c\uadf8\ub7a8\uc740 \ub2e4\ub978 \uc751\uc6a9 \ud504\ub85c\uadf8\ub7a8\uc5d0\uc11c \uc0ac\uc6a9\ub418\ub3c4\ub85d \uac00\ub2a5\ud55c \uc11c\ube44\uc2a4 \uc9d1\ud569\uc744 \uc0dd\uc131\ud558\uace0 \ud504\ub85c\uadf8\ub7a8\uc5d0\uc11c \uc81c\uacf5\ud558\ub294 \uc11c\ube44\uc2a4\uc5d0 \uc811\uadfc\ud558\ub3c4\ub85d API\ub97c \uac8c\uc2dc\ud568\n",
      "- \ud504\ub85c\uadf8\ub7a8\uc758 \uae30\ub2a5\uc774 \ub2e4\ub978 \ud504\ub85c\uadf8\ub7a8\uc5d0\uc11c \uc81c\uacf5\ub418\ub294 \uc11c\ube44\uc2a4\uc5d0 \uc811\uadfc\ub3c4 \ud3ec\ud568\ub418\ub3c4\ub85d \ud504\ub85c\uadf8\ub7a8\uc744 \uac1c\ubc1c\ud560 \ub54c, \uc774\ub7ec\ud55c \uac1c\ubc1c \uc811\uadfc\ubc95\uc744 **SOA(Service-Oriented Architecture, \uc11c\ube44\uc2a4 \uc9c0\ud5a5 \uc544\ud0a4\ud14d\uccd0)**\ub77c\uace0 \ubd80\ub984\n",
      "- SOA\uac00 \uc544\ub2cc \uc811\uadfc\ubc95\uc740 \uc751\uc6a9 \ud504\ub85c\uadf8\ub7a8\uc774 \ud558\ub098\uc758 \ub3c5\ub9bd \uc751\uc6a9 \ud504\ub85c\uadf8\ub7a8\uc73c\ub85c \uad6c\ud604\uc5d0 \ud544\uc694\ud55c \ubaa8\ub4e0 \ucf54\ub4dc\ub97c \ub2f4\uace0 \uc788\uc74c\n",
      "- \uc6f9\uc744 \uc0ac\uc6a9\ud560 \ub54c SOA\uc758 \ub9ce\uc740 \uc0ac\ub840\ub97c \ucc3e\uc544\ubcfc \uc218 \uc788\uc74c\n",
      "- \ud558\ub098\uc758 \uc6f9\uc0ac\uc774\ud2b8\ub97c \ubc29\ubb38\ud558\uc5ec \ube44\ud589\uae30\ud45c, \ud638\ud154, \uc790\ub3d9\ucc28\ub97c \ub2e8\uc77c \uc0ac\uc774\ud2b8\uc5d0\uc11c \uc608\uc57d\ud568\n",
      "- \ud638\ud154\uad00\ub828 \ub370\uc774\ud130\ub294 \ubb3c\ub860 \ud56d\uacf5\uc0ac \ucef4\ud4e8\ud130\uc5d0 \uc800\uc7a5\ub418\uc5b4 \uc788\uc9c0 \uc54a\ub2e4.\n",
      "- \ub300\uc2e0\uc5d0 \ucef4\ud4e8\ud130\ub294 \ud638\ud154\ucef4\ud4e8\ud130\uc640 \uacc4\uc57d\uc744 \ub9fa\uc5b4 \ud638\ud154 \ub370\uc774\ud130\ub97c \uac00\uc838\uc640\uc11c \uc0ac\uc6a9\uc790\uc5d0\uac8c \ubcf4\uc5ec\uc900\ub2e4. \uc0ac\uc6a9\uc790\uac00 \ud56d\uacf5\uc0ac \uc0ac\uc774\ud2b8\ub97c \ud1b5\ud574\uc11c \ud638\ud154 \uc608\uc57d\uc744 \ub3d9\uc758\ud560 \uacbd\uc6b0, \ud56d\uacf5\uc0ac \uc0ac\uc774\ud2b8\ub294 \uc2e4\uc81c \uc608\uc57d\uc744 \ud558\uae30 \uc704\ud574\uc11c \ud638\ud154 \uc2dc\uc2a4\ud15c\uc758 \ub610\ub2e4\ub978 \uc6f9\uc11c\ube44\uc2a4\ub97c \uc0ac\uc6a9\n",
      "- \uc804\uccb4 \ud2b8\ub79c\uc7ad\uc158\uc5d0 \ub300\ud574\uc11c \uce74\ub4dc \uacb0\uc81c\ub97c \ud560 \ub54c, \uc5ec\uc804\ud788 \ub2e4\ub978 \ucef4\ud4e8\ud130\uac00 \ud504\ub85c\uc138\uc2a4\uc5d0 \ubb3c\ub824\uc788\uc74c\n",
      "\n",
      "### \uc11c\ube44\uc2a4 \uc9c0\ud5a5 \uc544\ud0a4\ud14d\uccd0\uc758 \uc7a5\uc810\n",
      "\n",
      "1. \ud56d\uc0c1 \ub2e8 \ud558\ub098\uc758 \ub370\uc774\ud130\ub9cc \uc720\uc9c0\uad00\ub9ac\ud55c\ub2e4. \ub2a5\ub825 \uc774\uc0c1\uc73c\ub85c \uc608\uc57d\uc744 \uc6d0\uce58\uc54a\ub294 \ud638\ud154 \uac19\uc740 \uacbd\uc6b0\uc5d0 \ud2b9\ud788\ub098 \uc911\uc694\ud558\ub2e4.\n",
      "2. \ub370\uc774\ud130 \uc18c\uc720\uc790\uac00 \ub370\uc774\ud130\uc758 \uc0ac\uc6a9\uc5d0 \ub300\ud55c \uaddc\uce59\uc744 \uc815\ud55c\ub2e4. \uc774\ub7ec\ud55c \uc7a5\uc810\uc73c\ub85c, SOA \uc2dc\uc2a4\ud15c\uc740 \uc88b\uc740 \uc131\ub2a5\uacfc \uc0ac\uc6a9\uc790 \uc694\uad6c\ub97c \ub9cc\uc871\ud558\uae30 \uc704\ud574\uc11c \uc8fc\uc758\uae4a\uc774 \uc124\uacc4\ub418\uc5b4\uc57c \ud568\n",
      "\n",
      "\n",
      "- \uc751\uc6a9\ud504\ub85c\uadf8\ub7a8\uc774 \uc6f9\uc0c1\uc5d0\uc11c \uac00\ub2a5\ud55c API\ud615\uc2dd\uc758 \uc11c\ube44\uc2a4 \uc9d1\ud569\uc744 \ub9cc\ub4e4 \ub54c, **web service** \ub77c\uace0 \ubd80\ub984"
     ]
    },
    {
     "cell_type": "markdown",
     "metadata": {},
     "source": [
      "## 13.7 Google Geocoding Web Service\n",
      "\n",
      "- http://maps.googleapis.com/maps/api/geocode/json?sensor=false&address=Ann+Arbor%2C+MI"
     ]
    },
    {
     "cell_type": "code",
     "collapsed": false,
     "input": [
      "import urllib\n",
      "import json\n",
      "\n",
      "serviceurl = 'http://maps.googleapis.com/maps/api/geocode/json?'\n",
      "\n",
      "while True:\n",
      "    address = raw_input('Enter location: ')\n",
      "    if len(address) < 1:\n",
      "        break\n",
      "    \n",
      "    url = serviceurl + urllib.urlencode({'sensor':'false',\n",
      "                                         'address':address})\n",
      "    print 'Retrieving', url\n",
      "    uh = urllib.urlopen(url)\n",
      "    data = uh.read()\n",
      "    print 'Retrieved', len(data), 'characters'\n",
      "    \n",
      "    try:\n",
      "        js = json.loads(str(data))\n",
      "    except:\n",
      "        js = None\n",
      "    if 'status' not in js or js['status'] != 'OK':\n",
      "        print '==== Failure To Retrieve ===='\n",
      "        print data\n",
      "        continue\n",
      "        \n",
      "    print json.dumps(js, indent=4)\n",
      "    \n",
      "    lat = js['results'][0]['geometry']['location']['lat']\n",
      "    lng = js['results'][0]['geometry']['location']['lng']\n",
      "    print 'lat', lat, 'lng', lng\n",
      "    location = js['results'][0]['formatted_address']\n",
      "    print location"
     ],
     "language": "python",
     "metadata": {},
     "outputs": [
      {
       "name": "stdout",
       "output_type": "stream",
       "stream": "stdout",
       "text": [
        "Enter location: Ann Arbor,MI\n"
       ]
      },
      {
       "output_type": "stream",
       "stream": "stdout",
       "text": [
        "Retrieving http://maps.googleapis.com/maps/api/geocode/json?sensor=false&address=Ann+Arbor%2CMI\n",
        "Retrieved"
       ]
      },
      {
       "output_type": "stream",
       "stream": "stdout",
       "text": [
        " 1683 characters\n",
        "{\n",
        "    \"status\": \"OK\", \n",
        "    \"results\": [\n",
        "        {\n",
        "            \"geometry\": {\n",
        "                \"location_type\": \"APPROXIMATE\", \n",
        "                \"bounds\": {\n",
        "                    \"northeast\": {\n",
        "                        \"lat\": 42.3239728, \n",
        "                        \"lng\": -83.6758069\n",
        "                    }, \n",
        "                    \"southwest\": {\n",
        "                        \"lat\": 42.222668, \n",
        "                        \"lng\": -83.799572\n",
        "                    }\n",
        "                }, \n",
        "                \"viewport\": {\n",
        "                    \"northeast\": {\n",
        "                        \"lat\": 42.3239728, \n",
        "                        \"lng\": -83.6758069\n",
        "                    }, \n",
        "                    \"southwest\": {\n",
        "                        \"lat\": 42.222668, \n",
        "                        \"lng\": -83.799572\n",
        "                    }\n",
        "                }, \n",
        "                \"location\": {\n",
        "                    \"lat\": 42.2808256, \n",
        "                    \"lng\": -83.7430378\n",
        "                }\n",
        "            }, \n",
        "            \"address_components\": [\n",
        "                {\n",
        "                    \"long_name\": \"Ann Arbor\", \n",
        "                    \"types\": [\n",
        "                        \"locality\", \n",
        "                        \"political\"\n",
        "                    ], \n",
        "                    \"short_name\": \"Ann Arbor\"\n",
        "                }, \n",
        "                {\n",
        "                    \"long_name\": \"Washtenaw County\", \n",
        "                    \"types\": [\n",
        "                        \"administrative_area_level_2\", \n",
        "                        \"political\"\n",
        "                    ], \n",
        "                    \"short_name\": \"Washtenaw County\"\n",
        "                }, \n",
        "                {\n",
        "                    \"long_name\": \"Michigan\", \n",
        "                    \"types\": [\n",
        "                        \"administrative_area_level_1\", \n",
        "                        \"political\"\n",
        "                    ], \n",
        "                    \"short_name\": \"MI\"\n",
        "                }, \n",
        "                {\n",
        "                    \"long_name\": \"United States\", \n",
        "                    \"types\": [\n",
        "                        \"country\", \n",
        "                        \"political\"\n",
        "                    ], \n",
        "                    \"short_name\": \"US\"\n",
        "                }\n",
        "            ], \n",
        "            \"formatted_address\": \"Ann Arbor, MI, USA\", \n",
        "            \"types\": [\n",
        "                \"locality\", \n",
        "                \"political\"\n",
        "            ]\n",
        "        }\n",
        "    ]\n",
        "}\n",
        "lat 42.2808256 lng -83.7430378\n",
        "Ann Arbor, MI, USA\n"
       ]
      },
      {
       "name": "stdout",
       "output_type": "stream",
       "stream": "stdout",
       "text": [
        "Enter location: \n"
       ]
      }
     ],
     "prompt_number": 279
    },
    {
     "cell_type": "markdown",
     "metadata": {},
     "source": [
      "1. \uac80\uc0c9 \ubb38\uc790\uc5f4\uc744 \ubc1b\uc544\uc11c \uc801\uc808\ud558\uac8c \uc778\ucf54\ub529\ub41c \ub9e4\uac1c\ubcc0\uc218\ub85c \uac80\uc0c9 \ubb38\uc790\uc5f4\uc744 \uac00\uc9c4 URL\uc744 \ub9cc\ub4e6\n",
      "2. urllib\uc744 \uc0ac\uc6a9\ud558\uc5ec \uad6c\uae00 \uc9c0\uc624\ucf54\ub529 API\uc5d0\uc11c \ud14d\uc2a4\ud2b8\ub97c \uac00\uc838\uc634\n",
      "3. \uace0\uc815\ub41c \uc6f9\ud398\uc774\uc9c0\uc640 \ub2ec\ub9ac, \ubc18\ud658\ub418\ub294 \ub370\uc774\ud130\ub294 \uc804\uc1a1\ud558\ub294 \ub9e4\uac1c\ubcc0\uc218\uc640 \uad6c\uae00 \uc11c\ube44\uc2a4\uc5d0 \uc800\uc7a5\ub41c \uc9c0\ub9ac\uc815\ubcf4 \ub370\uc774\ud130\uc5d0 \uc758\uc874\ud558\uac8c \ub428\n",
      "4. json \ub77c\uc774\ube0c\ub7ec\ub9ac\ub85c \ud30c\uc2f1\ud558\uace0 \uc804\uc1a1\ubc1b\uc740 \ub370\uc774\ud130\uac00 \uc62c\ubc14\ub978\uc9c0 \ud655\uc778\ud558\ub294 \uba87 \uac00\uc9c0 \uc808\ucc28\ub97c \uac70\uce5c \ud6c4\uc5d0 \ucc3e\uace0\uc790 \ud558\ub294 \uc815\ubcf4\ub97c \ucd94\ucd9c\ud568"
     ]
    },
    {
     "cell_type": "markdown",
     "metadata": {},
     "source": [
      "## 13.8 \ubcf4\uc548\uacfc API \uc0ac\uc6a9\n",
      "\n",
      "- \uc0c1\uc6a9\uc5c5\uccb4\uc758 API\ub97c \uc0ac\uc6a9\ud558\uae30 \uc704\ud574\uc11c \uc77c\uc885\uc758 API\ud0a4\uac00 \ud544\uc694\ud55c \uac83\uc774 \uc77c\ubc18\uc801\n",
      "- \uc11c\ube44\uc2a4 \uc81c\uacf5\uc790 \uc785\uc7a5\uc5d0\uc11c\ub294 \ub204\uac00 \uc11c\ube44\uc2a4\ub97c \uc0ac\uc6a9\ud558\uace0 \uc788\uc73c\uba70 \uac01 \uc0ac\uc6a9\uc790\uac00 \uc5bc\ub9c8\ub098 \uc0ac\uc6a9\ud558\ub294\uc9c0\ub97c \uc54c\uace0\uc790 \ud568\n",
      "- \uc544\ub9c8\ub3c4 \uc11c\ube44\uc2a4\uc5d0 \ub300\ud55c \ubb34\ub8cc\uc640 \uc720\ub8cc \uc0ac\uc6a9\uc790\uc5d0 \ub300\ud55c \uad6c\ubd84\uc774 \uc788\uac70\ub098 \ud2b9\uc815 \uae30\uac04 \ub3d9\uc548 \ud55c \uac1c\uc778\uc774 \uc0ac\uc6a9\ud560 \uc218 \uc788\ub294 \uc694\uccad\uc218\uc5d0 \ub300\ud55c \uc81c\ud55c\uc744 \ub450\ub294 \uc815\ucc45\n",
      "- API \ud0a4\ub97c \uac00\uc9c0\uac8c \ub418\uba74, POST \ub370\uc774\ud130\uc758 \uc77c\ubd80\ub85c\uc11c \ud3ec\ud568\ud558\uac70\ub098 API\ub97c \ud638\ucd9c\ud560 \ub54c **URL\uc758 \ub9e4\uac1c\ubcc0\uc218\ub85c\uc11c \ub2e8\uc21c\ud558\uac8c \ud0a4\ub97c \ud3ec\ud568\uc2dc\ud0b4**\n",
      "- \ub610 \ub2e4\ub978 \uacbd\uc6b0\ub294 \uc5c5\uccb4\uac00 \uc11c\ube44\uc2a4 \uc694\uccad\uc5d0 \ub300\ud55c \ubcf4\uc99d\uc744 \uac15\ud654\ud574\uc11c **\uacf5\uc720\ud0a4\uc640 \ube44\ubc00\ubc88\ud638\ub97c \uc554\ud638\ud654\ub41c \uba54\uc2dc\uc9c0 \ud615\uc2dd\uc73c\ub85c \ubcf4\ub0b4\ub3c4\ub85d \uc694\uad6c**\n",
      "- \uc778\ud130\ub137\uc744 \uc11c\ube44\uc2a4 \uc694\uccad\uc744 \uc554\ud638\ud654\ud558\ub294 \uc77c\ubc18\uc801\uc778 \uae30\uc220\uc744 [OAuth](http://www.oauth.net)\n",
      "- \ud504\ub85c\uadf8\ub7a8\uc744 \uc0ac\uc6a9\ud558\uae30 \uc704\ud574\uc11c \ud2b8\uc704\ud130 \uacc4\uc815\uc774 \ud544\uc694\ud558\uace0, \uc751\uc6a9\ud504\ub85c\uadf8\ub7a8\uc73c\ub85c \ud30c\uc774\uc36c \ucf54\ub4dc\ub97c \uc778\uc99d\ud558\uace0, \ud0a4, \uc554\ud638, \ud1a0\ud070\uacfc \ud1a0\ud070 \uc554\ud638\ub97c \uc124\uc815\ud574\uc57c \ud568\n",
      "\n",
      "\n",
      "### twitter \ucc38\uace0 \uc790\ub8cc\n",
      "\n",
      "- [\\[\ub3c4\uc11c\\] Head First Programming, \ud3f4 \ubc30\ub9ac,\ub370\uc774\ube57 \uadf8\ub9ac\ud53c\uc2a4 \uacf5\uc800, 9788979148190 | YES24 \uc0c1\ud488\uc815\ubcf4](http://www.yes24.com/24/goods/4785949?scode=032&OzSrank=1): \uc81c\uc77c \ub4b7\ud3b8\uc5d0 \ubcf4\uba74 twitter API \ub4f1\ub85d\ud558\ub294 \ubd80\ubd84\uc774 \ub098\uc628\ub2e4.\n",
      "- [\uae30\ud68d\uc790\ub97c \uc704\ud55c OAuth](http://www.slideshare.net/tebica/oauth-api-13721761)\n",
      "- [OAuth2 - API \uc778\uc99d\uc744 \uc704\ud55c \ub9cc\ub2a5\ub3c4\uad6c\uc0c1\uc790](http://www.slideshare.net/tebica/oauth2-api)\n",
      "- [Getting started \u2014 tweepy 2.3.0 documentation](http://tweepy.readthedocs.org/en/v2.3.0/getting_started.html)"
     ]
    },
    {
     "cell_type": "code",
     "collapsed": false,
     "input": [
      "import tweepy\n",
      "\n",
      "API_KEY = '0JaiIzQe8KHxxxxozVx1p6b'\n",
      "API_SECRET = 'ajkDY43DsS9KKxtZRxxxxWWXnPejKShpweWXaLP'\n",
      "ACCESS_TOKEN = '294397003-LKtrrxxxxAKT6oIXe8xHKGyd3RzVQ5FpQ6pOr5I'\n",
      "ACCESS_TOKEN_SECRET = 'bHTutuWejd6VxxxxxFHPjjbZQsbixaC5qmgqZNq'\n",
      "\n",
      "auth = tweepy.OAuthHandler(API_KEY, API_SECRET)\n",
      "auth.set_access_token(ACCESS_TOKEN, ACCESS_TOKEN_SECRET)\n",
      "\n",
      "api = tweepy.API(auth)\n",
      "\n",
      "for friend in api.friends():\n",
      "    print friend.name\n",
      "    print friend.id\n",
      "    print friend.created_at\n",
      "    print ''"
     ],
     "language": "python",
     "metadata": {},
     "outputs": [],
     "prompt_number": 417
    },
    {
     "cell_type": "markdown",
     "metadata": {},
     "source": [
      "    xxxx\n",
      "    7282592\n",
      "    2007-07-06 04:30:54\n",
      "\n",
      "    xxxx\n",
      "    163171634\n",
      "    2010-07-05 18:44:25\n",
      "\n",
      "    xxxxx\n",
      "    53020420\n",
      "    2009-07-02 09:42:00\n",
      "\n",
      "    xxx\n",
      "    242119422\n",
      "    2011-01-24 00:33:22\n",
      "\n",
      "    xxx\n",
      "    110908987\n",
      "    2010-02-03 04:56:00"
     ]
    },
    {
     "cell_type": "markdown",
     "metadata": {},
     "source": [
      "## 14.1 \ub370\uc774\ud130\ubca0\uc774\uc2a4\uac00 \ubb54\uac00\uc694?\n",
      "\n",
      "- DB\ub294 \ub370\uc774\ud130\ub97c \uc800\uc7a5\ud558\uae30 \uc704\ud55c \ubaa9\uc801\uc73c\ub85c \uc870\uc9c1\ub41c \ud30c\uc77c\n",
      "- index: \ube60\ub974\uac8c \uc811\uadfc\ud558\uae30 \uc704\ud55c \uc0c9\uc778 \ubaa9\ub85d\uc744 \ub9cc\ub4e4\uc5b4\ub454\ub2e4.\n",
      "\n",
      "## 14.2 \ub370\uc774\ud130\ubca0\uc774\uc2a4 \uac1c\ub150\n",
      "\n",
      "- tables - relation\n",
      "- rows - tuple\n",
      "- columns - attribute\n",
      "\n",
      "## 14.4 \ub370\uc774\ud130\ubca0\uc774\uc2a4 \ud14c\uc774\ube14 \uc0dd\uc131\ud558\uae30\n",
      "\n",
      "- [SQLite](http://www.sqlite.org/datatypes.html)\n",
      "- [SQL - wiki](http://en.wikipedia.org/wiki/SQL)"
     ]
    },
    {
     "cell_type": "code",
     "collapsed": false,
     "input": [
      "import sqlite3\n",
      "\n",
      "conn = sqlite3.connect('music.sqlite3')\n",
      "cur = conn.cursor()\n",
      "\n",
      "cur.execute('DROP TABLE IF EXISTS Tracks')\n",
      "cur.execute('CREATE TABLE Tracks (title TEXT, plays INTEGER)')\n",
      "\n",
      "conn.close()"
     ],
     "language": "python",
     "metadata": {},
     "outputs": [],
     "prompt_number": 329
    },
    {
     "cell_type": "code",
     "collapsed": false,
     "input": [
      "!ls -l music.sqlite3"
     ],
     "language": "python",
     "metadata": {},
     "outputs": [
      {
       "output_type": "stream",
       "stream": "stdout",
       "text": [
        "-rw-r--r--  1 re4lfl0w  staff  2048 Sep 24 12:33 music.sqlite3\r\n"
       ]
      }
     ],
     "prompt_number": 331
    },
    {
     "cell_type": "code",
     "collapsed": false,
     "input": [
      "!file music.sqlite3"
     ],
     "language": "python",
     "metadata": {},
     "outputs": [
      {
       "output_type": "stream",
       "stream": "stdout",
       "text": [
        "music.sqlite3: SQLite 3.x database\r\n"
       ]
      }
     ],
     "prompt_number": 333
    },
    {
     "cell_type": "code",
     "collapsed": false,
     "input": [
      "import sqlite3\n",
      "\n",
      "conn = sqlite3.connect('music.sqlite3')\n",
      "cur = conn.cursor()\n",
      "\n",
      "cur.execute('INSERT INTO Tracks (title, plays) VALUES(?, ?)',\n",
      "            ('Thunderstruck', 20))\n",
      "cur.execute('INSERT INTO Tracks (title, plays) VALUES(?, ?)',\n",
      "            ('My Way', 15))\n",
      "conn.commit()\n",
      "\n",
      "print 'Tracks:'\n",
      "cur.execute('SELECT title, plays FROm Tracks')\n",
      "for row in cur:\n",
      "    print row\n",
      "    \n",
      "cur.execute('DELETE FROM Tracks WHERE plays < 100')\n",
      "conn.commit()\n",
      "\n",
      "conn.close()"
     ],
     "language": "python",
     "metadata": {},
     "outputs": [
      {
       "output_type": "stream",
       "stream": "stdout",
       "text": [
        "Tracks:\n",
        "(u'Thunderstruck', 20)\n",
        "(u'My Way', 15)\n"
       ]
      }
     ],
     "prompt_number": 336
    },
    {
     "cell_type": "markdown",
     "metadata": {},
     "source": [
      "## 14.6 \ub370\uc774\ud130\ubca0\uc774\uc2a4\ub97c \uc0ac\uc6a9\ud55c \ud2b8\uc704\ud130 Spidering\n",
      "\n",
      "- \uc9c1\uc811 \ud55c \ubc88 \ud574\ubcf4\uace0 \uc2f6\uc740\ub370 twurl\ub3c4 \uc5c6\ub124...\n",
      "- \ub17c\ub9ac\uc801\uc778 \ud750\ub984\uc740 \uc774\ud574\ub97c \ud588\ub294\ub370.. \uc9c1\uc811 \uc548\ud574\ubcf4\uba74 \uc78a\uc5b4\ubc84\ub9b4\uac83 \uac19\ub2e4..\n",
      "\n",
      "## 14.7 \ub370\uc774\ud130 \ubaa8\ub378\ub9c1 \uae30\ucd08\n",
      "\n",
      "- \uad00\uacc4\ud615 \ub370\uc774\ud130\ubca0\uc774\uc2a4\uc758 \uc9c4\uc815\ud55c \ud798: \ub2e4\uc911 \ud14c\uc774\ube14\uacfc \ud14c\uc774\ube14 \uc0ac\uc774\uc758 \uad00\uacc4\ub97c \uc0dd\uc131\ud560 \ub54c\ub2e4.\n",
      "- \uc751\uc6a9\ud504\ub85c\uadf8\ub7a8\uc758 \ub370\uc774\ud130\ub97c \ucabc\uac1c\uc11c \ub2e4\uc911 \ud14c\uc774\ube14\uacfc \ub450 \ud14c\uc774\ube14 \uc0ac\uc774\uc758 \uad00\uacc4\ub97c \uc124\uc815\ud558\ub294 \uacb0\uc815\uc744 data modeling \uc774\ub77c\uace0 \ud568\n",
      "- \ud14c\uc774\ube14\uacfc \ud14c\uc774\ube14 \uad00\uacc4\ub97c \ubcf4\uc5ec\uc8fc\ub294 \uc124\uacc4 \ubb38\uc11c\ub97c data model \uc774\ub77c\uace0 \ud568\n",
      "- [Relational model - wiki](http://en.wikipedia.org/wiki/Relational_model)\n",
      "\n",
      "\n",
      "### \uce5c\uad6c\ub97c \uc9dd\uc73c\ub85c \ucd94\uc801\ud560 \uc218 \uc788\ub294 \uc0c8\ub85c\uc6b4 \ud14c\uc774\ube14 \uc0dd\uc131\n",
      "\n",
      "    CREATE TABLE Pals (from_friend TEXT, to_friend TEXT)\n",
      "    \n",
      "    INSERT INTO Pals(from_freiend, to_friend) VALUES('druchuck', 'lhawhorn')\n",
      "    \n",
      "- drchuck \ud2b8\uc704\ud130 \ud53c\ub4dc\uc5d0\uc11c 20\uba85\uc758 \uce5c\uad6c\ub97c \ucc98\ub9ac\ud558\uba74\uc11c \"drchuck\"\uc744 \uccab \ub9e4\uac1c\ubcc0\uc218\ub85c \uac00\uc9c0\ub294 20\uac1c \ub808\ucf54\ub4dc\ub97c \uc0bd\uc785\ud574\uc11c \ub370\uc774\ud130\ubca0\uc774\uc2a4\uc5d0 \ub9ce\uc774 \uc911\ubcf5\ub418\ub294 \ubb38\uc790\uc5f4\uc744 \uac00\uc9c8 \uac83\n",
      "- \ub2f9\uc5f0\ud788 drchuck\uac00 20\uac1c\uac00 \uc313\uc5ec\uc788\uaca0\uc9c0\n",
      "  - drchuck, lhawhorn\n",
      "  - drchuck, aaaa1\n",
      "  - drchuck, aaaa2\n",
      "  - \u22ef\n",
      "  \n",
      "\n",
      "- database normalization: \n",
      "  - \ubb38\uc790\uc5f4 \ub370\uc774\ud130 \uc911\ubcf5\ub418\uc9c0 \uc54a\uac8c\ub054\n",
      "  - \uacb0\ucf54 \ud55c \ubc88 \uc774\uc0c1 \ub370\uc774\ud130\ubca0\uc774\uc2a4\uc5d0 \ub3d9\uc77c\ud55c \ubb38\uc790\uc5f4\uc744 \ub193\uc9c0 \uc54a\ub294\ub2e4. \n",
      "  - \ub9cc\uc57d \ud55c \ubc88 \uc774\uc0c1 \ub370\uc774\ud130\uac00 \ud544\uc694\ud558\ub2e4\uba74, \ub370\uc774\ud130\uc5d0 \ub300\ud55c \uc22b\uc790 \ud0a4\ub97c \uc0dd\uc131\ud558\uace0, \ud0a4\ub97c \uc0ac\uc6a9\ud558\uc5ec \uc2e4\uc81c \ub370\uc774\ud130\ub97c \ucc38\uc870\ud55c\ub2e4."
     ]
    },
    {
     "cell_type": "code",
     "collapsed": false,
     "input": [
      "CREATE TABLE People \n",
      "(id INTEGER PRIMARY KEY, name TEXT UNIQUE, retrieved INTEGER)\n",
      "\n",
      "CREATE TABLE Follows\n",
      "(from_id INTEGER, to_id INTEGER, UNIQUE(from_id, to_id))"
     ],
     "language": "python",
     "metadata": {},
     "outputs": []
    },
    {
     "cell_type": "markdown",
     "metadata": {},
     "source": [
      "- Unique: \ub808\ucf54\ub4dc\ub97c \uc0bd\uc785\ud560 \ub54c \ub370\uc774\ud130\ubca0\uc774\uc2a4\uc5d0\uc11c \uc9c0\ucf1c\uc57c\ud558\ub294 \uaddc\uce59\uc758 \uc9d1\ud569\uc744 \uc758\uc0ac\uc18c\ud1b5\ud558\ub294 \uac83\uc774\ub2e4. \uc7a0\uc2dc \ud6c4\uc5d0 \ubcf4\uaca0\uc9c0\ub9cc, \ud504\ub85c\uadf8\ub7a8\uc0c1\uc5d0 \ud3b8\ub9ac\ud558\uac8c \uc774\ub7ec\ud55c \uaddc\uce59\uc744 \uc0dd\uc131\ud55c\ub2e4. \uc774 \uaddc\uce59\uc740 \uc2e4\uc218\ub97c \ubc29\uc9c0\ud558\uac8c \ud558\uace0 \ucf54\ub4dc \uc791\uc131\uc744 \uac04\uacb0\ud558\uac8c \ud568"
     ]
    },
    {
     "cell_type": "markdown",
     "metadata": {},
     "source": [
      "## 14.11 \uc694\uc57d\n",
      "\n",
      "- \ud30c\uc774\uc36c \ub515\uc154\ub108\ub9ac\ub098 \uc77c\ubc18\uc801\uc778 \ud30c\uc77c\ubcf4\ub2e4 \ub370\uc774\ud130\ub97c \uc800\uc7a5\ud558\uae30 \uc704\ud574\uc11c \ub370\uc774\ud130\ubca0\uc774\uc2a4\ub97c \uc0ac\uc6a9\ud558\ub294 \ucf54\ub4dc\ub97c \uc791\uc131\ud558\ub294 \uac83\uc740 \ud6e8\uc52c \ubcf5\uc7a1\ud558\ub2e4.\n",
      "- \uadf8\ub798\uc11c, \ub9cc\uc57d \uc791\uc131\ud558\ub294 \uc751\uc6a9\ud504\ub85c\uadf8\ub7a8\uc774 \uc2e4\uc9c8\uc801\uc73c\ub85c \ub370\uc774\ud130\ubca0\uc774\uc2a4 \uc5ed\ub7c9\uc744 \ud544\uc694\ud558\uc9c0 \uc54a\ub294\ub2e4\uba74 \ub370\uc774\ud130\ubca0\uc774\uc2a4\ub97c \uc0ac\uc6a9\ud560 \uc774\uc720\ub294 \uc5c6\ub2e4.\n",
      "\n",
      "### \ub370\uc774\ud130\ubca0\uc774\uc2a4\uac00 \ud2b9\ud788 \uc720\uc6a9\ud55c \uc0c1\ud669\n",
      "\n",
      "1. \ud070 \ub370\uc774\ud130\uc138\ud2b8\uc5d0\uc11c \ub9ce\uc740 \uc791\uc740 \uc784\uc758\uc801\uc778 \uac31\uc2e0\uc774 \ud544\uc694\ud55c \uc751\uc6a9\ud504\ub85c\uadf8\ub7a8\uc744 \uc791\uc131\ud560 \ub54c\n",
      "2. \ub370\uc774\ud130\uac00 \ub108\ubb34 \ucee4\uc11c \ub515\uc154\ub108\ub9ac\uc5d0 \ub2f4\uc744 \uc218 \uc5c6\uace0 \ubc18\ubcf5\uc801\uc73c\ub85c \uc815\ubcf4\ub97c \ucc3e\uc744 \ub54c\n",
      "3. \ud55c \ubc88 \uc2e4\ud589\uc5d0\uc11c \ub2e4\uc74c \uc2e4\ud589\ub54c\uae4c\uc9c0 \ub370\uc774\ud130\ub97c \uac04\uc9c1\ud558\uace0, \uba48\ucd94\uace0, \uc7ac\uc2dc\uc791\ud560 \uc218 \uc788\ub294 \ub9e4\uc6b0 \uae34 \uc2e4\ud589 \ud504\ub85c\uc138\uc2a4\ub97c \uac00\uc9c8 \uacbd\uc6b0\n",
      "\n",
      "\n",
      "- \ub9ce\uc740 \uc751\uc6a9\ud504\ub85c\uadf8\ub7a8\uc758 \ud544\uc694\ub97c \ub9de\ucd94\uae30 \uc704\ud574\uc11c \ud558\ub098\uc758 \ud14c\uc774\ube14\uc744 \uac00\uc9c4 \uac04\ub2e8\ud55c \ub370\uc774\ud130\ubca0\uc774\uc2a4\ub97c \uad6c\ucd95\ud560 \uc218 \uc788\ub2e4.\n",
      "- \ud558\uc9c0\ub9cc, \ub300\ubd80\ubd84\uc758 \ubb38\uc81c\ub294 \uba87 \uac1c\uc758 \ud14c\uc774\ube14\uacfc \uc11c\ub85c \ub2e4\ub978 \ud14c\uc774\ube14\uac04\uc5d0 \ud589\uc774 \uc5f0\uacb0\ub41c \uad00\uacc4\ub97c \uc694\uad6c\ud55c\ub2e4.\n",
      "- \ud14c\uc774\ube14 \uc0ac\uc774\uc758 \uc5f0\uacb0\uc744 \ub9cc\ub4e4 \ub54c, \uc880\ub354 \uc0ac\ub824\uae4a\uc740 \uc124\uacc4\uc640 \ub370\uc774\ud130\ubca0\uc774\uc2a4\uc758 \uc5ed\ub7c9\uc744 \uac00\uc7a5 \uc798 \uc0ac\uc6a9\ud560 \uc218 \uc788\ub294 \ub370\uc774\ud130\ubca0\uc774\uc2a4 \uc815\uaddc\ud654 \uaddc\uce59\uc744 \ub530\ub974\ub294 \uac83\uc774 \uc911\uc694\ud558\ub2e4.\n",
      "- \ub370\uc774\ud130\ubca0\uc774\uc2a4\ub97c \uc0ac\uc6a9\ud558\ub294 \uc8fc\uc694 \ub3d9\uae30\ub294 \ucc98\ub9ac\ud560 \ub370\uc774\ud130\uc758 \uc591\uc774 \ub9ce\uae30 \ub54c\ubb38\uc5d0, \ub370\uc774\ud130\ub97c \ud6a8\uacfc\uc801\uc73c\ub85c \ubaa8\ub378\ub9c1\ud574\uc11c \ud504\ub85c\uadf8\ub7a8\uc774 \uac00\ub2a5\ud558\ub2e4\uba74 \ube60\ub974\uac8c \uc2e4\ud589\ub418\uac8c \ub9cc\ub4dc\ub294 \uac83\uc774 \uc911\uc694\ud558\ub2e4"
     ]
    },
    {
     "cell_type": "markdown",
     "metadata": {},
     "source": [
      "## 15.1 \uc9c0\ub9ac\uc815\ubcf4 \ub370\uc774\ud130\ub85c \uad6c\uae00\ub9f5 \uc0dd\uc131\ud558\uae30\n",
      "\n",
      "### \ud574\uacb0\ud560 \uccab\ubc88\uc9f8 \ubb38\uc81c\n",
      "\n",
      "- \ubb34\ub8cc \uad6c\uae00 \uc9c0\uc624\ucf54\ub529 API\uac00 \ud558\ub8e8\uc5d0 \uc694\uccad\ud69f\uc218\uc5d0 \uc81c\ud55c\uc774 \uc788\ub2e4\ub294 \uac83\n",
      "\n",
      "\n",
      "- where.data \ud30c\uc77c\uc5d0 survey \ub370\uc774\ud130\ub97c \ubc1b\uc544\uc11c, \ud55c \ubc88\uc5d0 \ud55c\uc904\uc529 \uc77d\uace0 \uad6c\uae00\uc5d0\uc11c \uc9c0\ub9ac\uc815\ubcf4\ub97c \uac00\uc838\uc624\uace0 geodata.sqlite \ub370\uc774\ud130\ubca0\uc774\uc2a4\uc5d0 \uc800\uc7a5\ud55c\ub2e4. \n",
      "- \uac01 \uc0ac\uc6a9\uc790\uac00 \uc785\ub825\ud55c \uc704\uce58\uc5d0 \ub300\ud55c \uc9c0\uc624\ucf54\ub529 API\ub97c \uc0ac\uc6a9\ud558\uae30 \uc804\uc5d0, \ud2b9\uc815 \uc785\ub825 \ub77c\uc778\uc5d0 \ub370\uc774\ud130\uac00 \uc788\ub294\uc9c0\ub97c \uc54c\uae30 \uc704\ud574\uc11c \uac04\ub2e8\ud558\uac8c \ud655\uc778\ud55c\ub2e4. \n",
      "- \ub370\uc774\ud130\ubca0\uc774\uc2a4\ub294 \uc9c0\uc624 \ucf54\ub529 \ub370\uc774\ud130\uc758 \ub85c\uceec \uce90\uc26c\ucc98\ub7fc \ub3d9\uc791\ud574\uc11c \ub450\ubc88 \ub3d9\uc77c\ud55c \ub370\uc774\ud130\uc5d0 \ub300\ud574\uc11c\ub294 \uad6c\uae00\uc5d0 \uc694\uccad\ud558\uc9c0 \uc54a\ub3c4\ub85d \ud55c\ub2e4.\n",
      "- \ub3d9\uc77c\ud55c \ub370\uc774\ud130\ub97c \ub2e4\uc2dc \ud55c \ubc88 \ubc1b\uc544\uc624\uc9c0 \uc54a\ub294 \uce90\uc26c \uc5ed\ud560\uc774 \uc911\uc694\ud558\uc9c0.\n",
      "- geodata.sqlite \ud30c\uc77c\uc744 \uc81c\uac70\ud568\uc73c\ub85c\uc368 \uc5b8\uc81c\ub77c\ub3c4 \ud504\ub85c\uc138\uc2a4\ub97c \ub2e4\uc2dc \uc2dc\uc791\ud560 \uc218 \uc788\ub2e4.\n",
      "- geoload.py \ud504\ub85c\uadf8\ub7a8\uc744 \uc2e4\ud589\ud55c\ub2e4. where.data\uc5d0 \uc785\ub825 \ub77c\uc778\uc744 \uc77d\uace0, \uac01 \ub77c\uc778\uc5d0 \ub300\ud574\uc11c \ub370\uc774\ud130\ubca0\uc774\uc2a4\uc5d0 \uc774\ubbf8 \uc874\uc7ac\ud558\ub294\uc9c0\ub97c \ud655\uc778\ud55c\ub2e4. \ub9cc\uc57d \uc704\uce58\uc5d0 \ub300\ud55c \ub370\uc774\ud130\uac00 \uc5c6\ub2e4\uba74, \uc9c0\uc624\ucf54\ub529 API\ub97c \ud638\ucd9c\ud574\uc11c \ub370\uc774\ud130\ub97c \uac00\uc838\uc624\uace0 \ub370\uc774\ud130\ubca0\uc774\uc2a4\uc5d0 \uc800\uc7a5\ud55c\ub2e4.\n",
      "- geoload.py\ub294 \uc5b8\uc81c\ub77c\ub3c4 \uba48\ucd9c \uc218 \uc788\ub2e4. \ub9e4\ubc88 \uc2e4\ud589\uc5d0 \ub300\ud574\uc11c \uc9c0\uc624\ucf54\ub529 API \ud638\ucd9c\uc758 \ud69f\uc218\ub97c \uc81c\ud55c\ud558\uae30 \uc704\ud55c \uce74\uc6b4\ud130\uac00 \uc788\ub2e4. where.data\uac00 \uc218\ubc31\uac1c\uc758 \ub370\uc774\ud130 \ud56d\ubaa9\ub9cc \uc788\ub2e4\u314f\uba74, \ud558\ub8e8 \uc0ac\uc6a9\ub7c9 \ud55c\uacc4\uc5d0 \ubd80\ub52a\uce58\uc9c0 \uc54a\uc744 \uac83\uc774\uc9c0\ub9cc, \ub9cc\uc57d \ub354 \ub9ce\uc740 \ub370\uc774\ud130\uac00 \uc788\ub2e4\uba74, \uc785\ub825 \ub370\uc774\ud130\uc5d0 \ub300\ud55c \ubaa8\ub4e0 \uc9c0\ub9ac\uc815\ubcf4 \ub370\uc774\ud130\ub97c \uac00\uc9c4 \ub370\uc774\ud130\ubca0\uc774\uc2a4\ub97c \ub9cc\ub4e4\uae30 \uc704\ud574\uc11c \uba87\uc77c\uc5d0 \uac78\uccd0\uc11c \uc5ec\ub7ec\ubc88 \uc2e4\ud589\ud560\uc9c0\ub3c4 \ubaa8\ub978\ub2e4.\n",
      "- \ub370\uc774\ud130\ub97c geodata.sqlite\uc5d0 \uc801\uc7ac\ud558\uba74, geodump.py \ud504\ub85c\uadf8\ub7a8\uc744 \uc0ac\uc6a9\ud558\uc5ec \ub370\uc774\ud130\ub97c \uc2dc\uac01\ud654 \ud560 \uc218 \uc788\ub2e4. \ud504\ub85c\uadf8\ub7a8\uc774 \ub370\uc774\ud130\ubca0\uc774\uc2a4\ub97c \uc77d\uace0 \uc704\uce58, \uc704\ub3c4, \uacbd\ub3c4\ub97c \uc2e4\ud589\uac00\ub2a5\ud55c \uc790\ubc14\uc2a4\ud06c\ub9bd\ud2b8 \ucf54\ub4dc\ub85c where.js\uc5d0 \uc4f4\ub2e4.\n",
      "\n",
      "\n",
      "- **\ud574\ubcf4\uace0 \uc2f6\uc740 db, \uc2dc\uac01\ud654 \uc8fc\uc81c\ub4e4\uc778\ub370 \uc9c1\uc811 \uc2e4\ud5d8\ud574\ubcf4\uae30\uc5d0\ub294 \uc5b4\ub824\uc6b4\uac83 \uac19\ub2e4. \uc18c\uc2a4\ub4e4\ub3c4 \ucda9\ubd84\ud558\uc9c0 \uc54a\uace0..**\n",
      "\n",
      "## Chapter 16 \ucef4\ud4e8\ud130\uc758 \uc77c\ubc18\uc801\uc778 \uc791\uc5c5 \uc790\ub3d9\ud654\n",
      "\n",
      "## 16.1 \ud30c\uc77c \uc774\ub984\uacfc \uacbd\ub85c\n"
     ]
    },
    {
     "cell_type": "code",
     "collapsed": false,
     "input": [
      "import os\n",
      "cwd = os.getcwd()\n",
      "print cwd"
     ],
     "language": "python",
     "metadata": {},
     "outputs": [
      {
       "output_type": "stream",
       "stream": "stdout",
       "text": [
        "/Users/re4lfl0w/Documents/ipython/books/python_for_informatics_exploring_information\n"
       ]
      }
     ],
     "prompt_number": 338
    },
    {
     "cell_type": "code",
     "collapsed": false,
     "input": [
      "os.path.abspath('./cover.jpg')"
     ],
     "language": "python",
     "metadata": {},
     "outputs": [
      {
       "metadata": {},
       "output_type": "pyout",
       "prompt_number": 339,
       "text": [
        "'/Users/re4lfl0w/Documents/ipython/books/python_for_informatics_exploring_information/cover.jpg'"
       ]
      }
     ],
     "prompt_number": 339
    },
    {
     "cell_type": "code",
     "collapsed": false,
     "input": [
      "os.path.exists('./cover.jpg')"
     ],
     "language": "python",
     "metadata": {},
     "outputs": [
      {
       "metadata": {},
       "output_type": "pyout",
       "prompt_number": 340,
       "text": [
        "True"
       ]
      }
     ],
     "prompt_number": 340
    },
    {
     "cell_type": "code",
     "collapsed": false,
     "input": [
      "os.path.isdir('./cover.jpg')"
     ],
     "language": "python",
     "metadata": {},
     "outputs": [
      {
       "metadata": {},
       "output_type": "pyout",
       "prompt_number": 341,
       "text": [
        "False"
       ]
      }
     ],
     "prompt_number": 341
    },
    {
     "cell_type": "code",
     "collapsed": false,
     "input": [
      "os.path.isfile('./cover.jpg')"
     ],
     "language": "python",
     "metadata": {},
     "outputs": [
      {
       "metadata": {},
       "output_type": "pyout",
       "prompt_number": 342,
       "text": [
        "True"
       ]
      }
     ],
     "prompt_number": 342
    },
    {
     "cell_type": "code",
     "collapsed": false,
     "input": [
      "os.listdir(cwd)"
     ],
     "language": "python",
     "metadata": {},
     "outputs": [
      {
       "metadata": {},
       "output_type": "pyout",
       "prompt_number": 343,
       "text": [
        "['.ipynb_checkpoints',\n",
        " 'ch01_why_we_are_learning_programming.ipynb',\n",
        " 'code',\n",
        " 'cover.jpg',\n",
        " 'example',\n",
        " 'ghostdriver.log',\n",
        " 'mbox.txt',\n",
        " 'music.sqlite3',\n",
        " 'stuff.jpg']"
       ]
      }
     ],
     "prompt_number": 343
    },
    {
     "cell_type": "markdown",
     "metadata": {},
     "source": [
      "### \ud3f4\ub354\uc5d0 \uc5bc\ub9c8\ub098 \ub9ce\uc740 \ud14d\uc2a4\ud2b8 \ud30c\uc77c\uc774 \uc788\ub294\uc9c0 \ubaa9\ub85d\uc744 \uc5bb\ub294 \uac83"
     ]
    },
    {
     "cell_type": "code",
     "collapsed": false,
     "input": [
      "import os\n",
      "count = 0\n",
      "\n",
      "for (dirname, dirs, files) in os.walk('.'):\n",
      "    for filename in files:\n",
      "        if filename.endswith('.txt'):\n",
      "            print filename\n",
      "            count = count + 1\n",
      "print 'Files:', count"
     ],
     "language": "python",
     "metadata": {},
     "outputs": [
      {
       "output_type": "stream",
       "stream": "stdout",
       "text": [
        "mbox.txt\n",
        "mbox-short.txt\n",
        "mbox.txt\n",
        "romeo-full.txt\n",
        "romeo.txt\n",
        "words.txt\n",
        "README.txt\n",
        "README.txt\n",
        "README.txt\n",
        "test1.txt\n",
        "test2.txt\n",
        "Files: 11\n"
       ]
      }
     ],
     "prompt_number": 349
    },
    {
     "cell_type": "markdown",
     "metadata": {},
     "source": [
      "- \uc774\uac83\uc744 \uac00\ub2a5\ud558\uac8c \ud558\ub294 \uac00\uc7a5 \uc911\uc694\ud55c \ucf54\ub4dc\ub294 \ud30c\uc774\uc36c os.walk \ub77c\uc774\ube0c\ub7ec\ub9ac\n",
      "- os.walk\uc744 \ud638\ucd9c\ud558\uace0 \uc2dc\uc791 \ub514\ub809\ud1a0\ub9ac\ub97c \uc8fc\uba74, \uc7ac\uadc0\uc801\uc73c\ub85c \ubaa8\ub4e0 \ub514\ub809\ud1a0\ub9ac\uc640 \ud558\uc704 \ub514\ub809\ud1a0\ub9ac\ub97c \ud6d1\ub294\ub2e4.\n",
      "- '.' \ubb38\uc790\uc5f4\uc740 \ud604\uc7ac \ub514\ub809\ud1a0\ub9ac\uc5d0\uc11c \uc2dc\uc791\ud574\uc11c \ud558\uc704 \ub514\ub809\ud1a0\ub9ac\ub85c \ud6d1\ub294 \uac83\uc744 \ud45c\uc2dc\ud55c\ub2e4.\n",
      "- \ub9e4\ubc88 \ub514\ub809\ud1a0\ub9ac\uc5d0 \ub3c4\ucc29\ud558\uba74, for\ubb38 \ubcf8\ubb38\uc758 \ud29c\ud50c\uc5d0\uc11c 3\uac1c\uc758 \uac12\uc744 \uc5bb\ub294\ub2e4.\n",
      "- \uccab\ubc88\uc9f8 \uac12\uc740 \ud604\uc7ac \ub514\ub809\ud1a0\ub9ac \uc774\ub984, \ub450\ubc88\uc9f8 \uac12\uc740 \ud604\uc7ac \ub514\ub809\ud1a0\ub9ac\uc758 \ud558\uc704 \ub514\ub809\ud1a0\ub9ac \ub9ac\uc2a4\ud2b8, \uadf8\ub9ac\uace0 \uc138\ubc88\uc9f8 \uac12\uc740 \ud604\uc7ac \ub514\ub809\ud1a0\ub9ac \ud30c\uc77c \ub9ac\uc2a4\ud2b8\ub2e4.\n",
      "- \uba85\uc2dc\uc801\uc73c\ub85c \ud558\uc704 \ub514\ub809\ud1a0\ub9ac \uac01\uac01\uc744 \uc0b4\ud3b4\ubcf4\uc9c0 \uc54a\ub294\ub2e4.\n",
      "- \uc65c\ub0d0\ud558\uba74 os.walk\uac00 \uc790\ub3d9\uc73c\ub85c \ubaa8\ub4e0 \ud3f4\ub354\ub97c \ubc29\ubb38\ud560 \uac83\uc774\uae30 \ub54c\ubb38\n",
      "- \ud558\uc9c0\ub9cc, \uac01 \ud30c\uc77c\uc744 \uc0b4\ud3b4\ubcf4\uace0 \uc2f6\uae30 \ub54c\ubb38\uc5d0, \uac04\ub2e8\ud55c for \ub8e8\ud504\ub97c \uc791\uc131\ud574\uc11c \ud604\uc7ac \ub514\ub809\ud1a0\ub9ac\uc5d0 \ud30c\uc77c \uac01\uac01\uc744 \uc870\uc0ac\ud55c\ub2e4.\n",
      "- '.txt'\ub85c \ub05d\ub098\ub290 \ud30c\uc77c\uc774 \uc788\ub294\uc9c0 \ud655\uc778\ud55c\ub2e4.\n",
      "- \uc811\ubbf8\uc0ac '.txt'\ub85c \ub05d\ub098\ub294 \uc804\uccb4 \ub514\ub809\ud1a0\ub9ac \ud2b8\ub9ac\ub97c \ud6d1\uc5b4\uc11c \ud30c\uc77c\uc758 \uc22b\uc790\ub97c \uce74\uc6b4\ud2b8\ud55c\ub2e4.\n",
      "- \uc5bc\ub9c8\ub098 \ub9ce\uc740 \ud30c\uc77c\uc774 '.txt' \ud655\uc7a5\uc790\ub85c \ub05d\ub098\ub294\uc9c0 \uac10\uc744 \uc7a1\uc558\uc73c\uba70, \ub2e4\uc74c \uc77c\uc740 \uc790\ub3d9\uc801\uc73c\ub85c \uc5b4\ub290 \ud30c\uc77c\uc774 \uc815\uc0c1\uc774\uace0, \uc5b4\ub290 \ud30c\uc77c\uc774 \ubb38\uc81c\uac00 \uc788\ub294\uc9c0\ub97c \ud30c\uc774\uc36c\uc5d0\uc11c \uacb0\uc815\ud558\ub294 \uac83\uc774\ub2e4.\n",
      "- \uac04\ub2e8\ud55c \ud504\ub85c\uadf8\ub7a8\uc744 \uc791\uc131\ud574\uc11c \ud30c\uc77c\uacfc \ud30c\uc77c\uc758 \ud06c\uae30\ub97c \ucd9c\ub825\ud55c\ub2e4."
     ]
    },
    {
     "cell_type": "code",
     "collapsed": false,
     "input": [
      "import os\n",
      "count = 0\n",
      "\n",
      "for (dirname, dirs, files) in os.walk('.'):\n",
      "    for filename in files:\n",
      "        if filename.endswith('.txt'):\n",
      "            thefile = os.path.join(dirname, filename)\n",
      "            print os.path.getsize(thefile), thefile"
     ],
     "language": "python",
     "metadata": {},
     "outputs": [
      {
       "output_type": "stream",
       "stream": "stdout",
       "text": [
        "0 ./mbox.txt\n",
        "94626 ./code/mbox-short.txt\n",
        "6687002 ./code/mbox.txt\n",
        "8864 ./code/romeo-full.txt\n",
        "167 ./code/romeo.txt\n",
        "1170 ./code/words.txt\n",
        "4307 ./code/geodata/README.txt\n",
        "8376 ./code/gmane/README.txt\n",
        "5043 ./code/pagerank/README.txt\n",
        "2 ./example/test1.txt\n",
        "4 ./example/test2.txt\n"
       ]
      }
     ],
     "prompt_number": 350
    },
    {
     "cell_type": "markdown",
     "metadata": {},
     "source": [
      "### \ud30c\uc77c \ub0b4\uc6a9 \ud544\ud130\ub9c1\n",
      "\n",
      "- 2578 \ud639\uc740 2565 \ubb38\uc790\uae38\uc774\ub97c \uac00\uc9c4 \ud30c\uc77c\uc744 \ubcf4\uc5ec\uc8fc\uc9c0 \uc54a\ub294\ub2e4.\n",
      "- \uc774\uac83\ub3c4 \uc8fc\uc758\ud574\uc57c \ud558\ub294 \uac83\uc774 \uc720\uc6a9\ud55c \ud30c\uc77c\uc778\ub370 \ub531 2578 \uc774\ub77c\uba74 \uc5b4\ub5bb\uac8c \ud560 \uac83\uc778\uac00?"
     ]
    },
    {
     "cell_type": "markdown",
     "metadata": {},
     "source": [
      "### \ud2b9\uc815 \ud06c\uae30\uac12 \uc81c\uc678"
     ]
    },
    {
     "cell_type": "code",
     "collapsed": false,
     "input": [
      "import os\n",
      "count = 0\n",
      "\n",
      "for (dirname, dirs, files) in os.walk('./code/'):\n",
      "    for filename in files:\n",
      "        if filename.endswith('.txt'):\n",
      "            thefile = os.path.join(dirname, filename)\n",
      "            size = os.path.getsize(thefile)\n",
      "            if size == 2578 or size == 2565:\n",
      "                continue\n",
      "            lines = list()\n",
      "            with open(thefile, 'r') as f:\n",
      "                for line in f:\n",
      "                    lines.append(line)\n",
      "            # \ud56d\uc0c1 \uc774\ub807\uac8c \ud06c\uae30\ub97c \ud655\uc778\ud558\ub294 \ucf54\ub4dc\ub97c \ub123\uc5b4\uc8fc\ub124.\n",
      "            # \uc774\uac8c \ubc14\ub85c \uc785\ub825\uac12 \uac80\uc99d\uc774\ub77c\ub294 \uac83\uc778\uac00?\n",
      "            # \uc218\ud559\uc5d0\uc11c\ub3c4 \ub9ce\uc774 \ub098\uc624\uc796\uc544.\n",
      "            if len(lines) > 1:\n",
      "                print len(lines), thefile\n",
      "                print lines[:4]"
     ],
     "language": "python",
     "metadata": {},
     "outputs": [
      {
       "output_type": "stream",
       "stream": "stdout",
       "text": [
        "1910 ./code/mbox-short.txt\n",
        "['From stephen.marquard@uct.ac.za Sat Jan  5 09:14:16 2008\\n', 'Return-Path: <postmaster@collab.sakaiproject.org>\\n', 'Received: from murder (mail.umich.edu [141.211.14.90])\\n', '\\t by frankenstein.mail.umich.edu (Cyrus v2.3.8) with LMTPA;\\n']\n",
        "132045 ./code/mbox.txt\n",
        "['From stephen.marquard@uct.ac.za Sat Jan  5 09:14:16 2008\\n', 'Return-Path: <postmaster@collab.sakaiproject.org>\\n', 'Received: from murder (mail.umich.edu [141.211.14.90])\\n', '\\t by frankenstein.mail.umich.edu (Cyrus v2.3.8) with LMTPA;\\n']\n",
        "390 ./code/romeo-full.txt\n",
        "['Romeo and Juliet\\n', 'Act 2, Scene 2 \\n', '\\n', \"SCENE II. Capulet's orchard.\\n\"]\n",
        "4 ./code/romeo.txt\n",
        "['But soft what light through yonder window breaks\\n', 'It is the east and Juliet is the sun\\n', 'Arise fair sun and kill the envious moon\\n', 'Who is already sick and pale with grief\\n']\n",
        "24 ./code/words.txt\n",
        "['Writing programs or programming is a very creative\\n', 'and rewarding activity  You can write programs for\\n', 'many reasons ranging from making your living to solving\\n', 'a difficult data analysis problem to having fun to helping\\n']\n",
        "112 ./code/geodata/README.txt\n",
        "['Using the Google Geocoding API with a Database and \\n', 'Visualizing data on Google Map\\n', '\\n', 'In this project, we are using the Google geocoding API\\n']\n",
        "214 ./code/gmane/README.txt\n",
        "['Analyzing an EMAIL Archive from gmane and vizualizing the data\\n', 'using the D3 JavaScript library\\n', '\\n', 'This is a set of tools that allow you to pull down an archive\\n']\n",
        "154 ./code/pagerank/README.txt\n",
        "['Simple Python Search Spider, Page Ranker, and Visualizer\\n', '\\n', 'This is a set of programs that emulate some of the functions of a \\n', 'search engine.  They store their data in a SQLITE3 database named\\n']\n"
       ]
      }
     ],
     "prompt_number": 353
    },
    {
     "cell_type": "markdown",
     "metadata": {},
     "source": [
      "### Send from my iPhone \uc81c\uc678"
     ]
    },
    {
     "cell_type": "code",
     "collapsed": false,
     "input": [
      "import os\n",
      "count = 0\n",
      "\n",
      "for (dirname, dirs, files) in os.walk('./code'):\n",
      "    for filename in files:\n",
      "        if filename.endswith('.txt'):\n",
      "            thefile = os.path.join(dirname, filename)\n",
      "            size = os.path.getsize(thefile)\n",
      "            if size == 2578 or size == 2565:\n",
      "                continue\n",
      "            lines = list()\n",
      "            with open(thefile, 'r') as f:\n",
      "                for line in f:\n",
      "                    lines.append(line)\n",
      "            \n",
      "            # 1. \ud30c\uc77c\uc758 \uae38\uc774\ub97c \uba3c\uc800 \ud655\uc778\n",
      "            # 2. \ud2b9\uc815 \ubb38\uc790\uc5f4 \ud655\uc778\n",
      "            if len(lines) == 3 and lines[2].startwith('Send from my iPhone'):\n",
      "                continue\n",
      "            # \ud56d\uc0c1 \uc774\ub807\uac8c \ud06c\uae30\ub97c \ud655\uc778\ud558\ub294 \ucf54\ub4dc\ub97c \ub123\uc5b4\uc8fc\ub124.\n",
      "            # \uc774\uac8c \ubc14\ub85c \uc785\ub825\uac12 \uac80\uc99d\uc774\ub77c\ub294 \uac83\uc778\uac00?\n",
      "            # \uc218\ud559\uc5d0\uc11c\ub3c4 \ub9ce\uc774 \ub098\uc624\uc796\uc544.\n",
      "            if len(lines) > 1:\n",
      "                print len(lines), thefile\n",
      "                print lines[:4]"
     ],
     "language": "python",
     "metadata": {},
     "outputs": [
      {
       "output_type": "stream",
       "stream": "stdout",
       "text": [
        "1910 ./code/mbox-short.txt\n",
        "['From stephen.marquard@uct.ac.za Sat Jan  5 09:14:16 2008\\n', 'Return-Path: <postmaster@collab.sakaiproject.org>\\n', 'Received: from murder (mail.umich.edu [141.211.14.90])\\n', '\\t by frankenstein.mail.umich.edu (Cyrus v2.3.8) with LMTPA;\\n']\n",
        "132045 ./code/mbox.txt\n",
        "['From stephen.marquard@uct.ac.za Sat Jan  5 09:14:16 2008\\n', 'Return-Path: <postmaster@collab.sakaiproject.org>\\n', 'Received: from murder (mail.umich.edu [141.211.14.90])\\n', '\\t by frankenstein.mail.umich.edu (Cyrus v2.3.8) with LMTPA;\\n']\n",
        "390 ./code/romeo-full.txt\n",
        "['Romeo and Juliet\\n', 'Act 2, Scene 2 \\n', '\\n', \"SCENE II. Capulet's orchard.\\n\"]\n",
        "4 ./code/romeo.txt\n",
        "['But soft what light through yonder window breaks\\n', 'It is the east and Juliet is the sun\\n', 'Arise fair sun and kill the envious moon\\n', 'Who is already sick and pale with grief\\n']\n",
        "24 ./code/words.txt\n",
        "['Writing programs or programming is a very creative\\n', 'and rewarding activity  You can write programs for\\n', 'many reasons ranging from making your living to solving\\n', 'a difficult data analysis problem to having fun to helping\\n']\n",
        "112 ./code/geodata/README.txt\n",
        "['Using the Google Geocoding API with a Database and \\n', 'Visualizing data on Google Map\\n', '\\n', 'In this project, we are using the Google geocoding API\\n']\n",
        "214 ./code/gmane/README.txt\n",
        "['Analyzing an EMAIL Archive from gmane and vizualizing the data\\n', 'using the D3 JavaScript library\\n', '\\n', 'This is a set of tools that allow you to pull down an archive\\n']\n",
        "154 ./code/pagerank/README.txt\n",
        "['Simple Python Search Spider, Page Ranker, and Visualizer\\n', '\\n', 'This is a set of programs that emulate some of the functions of a \\n', 'search engine.  They store their data in a SQLITE3 database named\\n']\n"
       ]
      }
     ],
     "prompt_number": 354
    },
    {
     "cell_type": "markdown",
     "metadata": {},
     "source": [
      "### \uc0ad\uc81c\ud560 \uc798\ubabb\ub41c \ud30c\uc77c\ub9cc\uc744 \ucd9c\ub825"
     ]
    },
    {
     "cell_type": "code",
     "collapsed": false,
     "input": [
      "import os\n",
      "count = 0\n",
      "\n",
      "for (dirname, dirs, files) in os.walk('.'):\n",
      "    for filename in files:\n",
      "        if filename.endswith('.txt'):\n",
      "            thefile = os.path.join(dirname, filename)\n",
      "            size = os.path.getsize(thefile)\n",
      "            if size == 2578 or size == 2565:\n",
      "                print 'T-Mobile:', thefile\n",
      "                continue\n",
      "            lines = list()\n",
      "            with open(thefile, 'r') as f:\n",
      "                for line in f:\n",
      "                    lines.append(line)\n",
      "            \n",
      "            # lines\uac00 \ubc11\uc5d0 \uc788\ub294 \uac83\uc740 \ud30c\uc77c\uc744 \uc77d\uc740 \ub2e4\uc74c\uc5d0 \ud310\ub2e8\ud560 \uc218 \uc788\uae30 \ub54c\ubb38\uc774\ub2e4.\n",
      "            # \uadf8\ub807\uae30 \ub584\ubb38\uc5d0 size\uc640 \uac19\uc774 \uc874\uc7ac\ud560 \uc218\uac00 \uc5c6\ub2e4.\n",
      "            # size\ub294 \ud321\ub9ac\uc744 \uc77d\uae30 \uc804\uc5d0 \ud655\uc778\ud560 \uc218 \uc788\ub2e4.\n",
      "            if len(lines) == 3 and lines[2].startwith('Send from my iPhone'):\n",
      "                print 'iPhone:', thefile\n",
      "                continue\n",
      "                \n",
      "            # \ud56d\uc0c1 \uc774\ub807\uac8c \ud06c\uae30\ub97c \ud655\uc778\ud558\ub294 \ucf54\ub4dc\ub97c \ub123\uc5b4\uc8fc\ub124.\n",
      "            # \uc774\uac8c \ubc14\ub85c \uc785\ub825\uac12 \uac80\uc99d\uc774\ub77c\ub294 \uac83\uc778\uac00?\n",
      "            # \uc218\ud559\uc5d0\uc11c\ub3c4 \ub9ce\uc774 \ub098\uc624\uc796\uc544.\n",
      "            if len(lines) > 1:\n",
      "                print len(lines), thefile\n",
      "                print lines[:4]"
     ],
     "language": "python",
     "metadata": {},
     "outputs": [
      {
       "output_type": "stream",
       "stream": "stdout",
       "text": [
        "1910 ./code/mbox-short.txt\n",
        "['From stephen.marquard@uct.ac.za Sat Jan  5 09:14:16 2008\\n', 'Return-Path: <postmaster@collab.sakaiproject.org>\\n', 'Received: from murder (mail.umich.edu [141.211.14.90])\\n', '\\t by frankenstein.mail.umich.edu (Cyrus v2.3.8) with LMTPA;\\n']\n",
        "132045 ./code/mbox.txt\n",
        "['From stephen.marquard@uct.ac.za Sat Jan  5 09:14:16 2008\\n', 'Return-Path: <postmaster@collab.sakaiproject.org>\\n', 'Received: from murder (mail.umich.edu [141.211.14.90])\\n', '\\t by frankenstein.mail.umich.edu (Cyrus v2.3.8) with LMTPA;\\n']\n",
        "390 ./code/romeo-full.txt\n",
        "['Romeo and Juliet\\n', 'Act 2, Scene 2 \\n', '\\n', \"SCENE II. Capulet's orchard.\\n\"]\n",
        "4 ./code/romeo.txt\n",
        "['But soft what light through yonder window breaks\\n', 'It is the east and Juliet is the sun\\n', 'Arise fair sun and kill the envious moon\\n', 'Who is already sick and pale with grief\\n']\n",
        "24 ./code/words.txt\n",
        "['Writing programs or programming is a very creative\\n', 'and rewarding activity  You can write programs for\\n', 'many reasons ranging from making your living to solving\\n', 'a difficult data analysis problem to having fun to helping\\n']\n",
        "112 ./code/geodata/README.txt\n",
        "['Using the Google Geocoding API with a Database and \\n', 'Visualizing data on Google Map\\n', '\\n', 'In this project, we are using the Google geocoding API\\n']\n",
        "214 ./code/gmane/README.txt\n",
        "['Analyzing an EMAIL Archive from gmane and vizualizing the data\\n', 'using the D3 JavaScript library\\n', '\\n', 'This is a set of tools that allow you to pull down an archive\\n']\n",
        "154 ./code/pagerank/README.txt\n",
        "['Simple Python Search Spider, Page Ranker, and Visualizer\\n', '\\n', 'This is a set of programs that emulate some of the functions of a \\n', 'search engine.  They store their data in a SQLITE3 database named\\n']\n"
       ]
      }
     ],
     "prompt_number": 355
    },
    {
     "cell_type": "code",
     "collapsed": false,
     "input": [
      "# if size == 2578 or size == 2565:\n",
      "#     print 'T-Mobile:', thefile\n",
      "#     os.remove(thefile)\n",
      "#     continue\n",
      "\n",
      "# if len(lines) == 3 and lines[2].startwith('Send from my iPhone'):\n",
      "#     print 'iPhone:', thefile\n",
      "#     os.remove(thefile)\n",
      "#     continue"
     ],
     "language": "python",
     "metadata": {},
     "outputs": [],
     "prompt_number": 356
    },
    {
     "cell_type": "markdown",
     "metadata": {},
     "source": [
      "## 16.3 \uba85\ub839\uc904 \uc778\uc218\n",
      "\n",
      "- \ud30c\uc77c\uba85\uc744 \uc0ac\uc6a9\uc790\ub85c\ubd80\ud130 \uc785\ub825\ubc1b\uace0, \ud30c\uc77c\uc5d0\uc11c \ub370\uc774\ud130\ub97c \uc77d\uc5b4 \ub2e4\uc74c\uacfc \uac19\uc774 \ucc98\ub9ac"
     ]
    },
    {
     "cell_type": "code",
     "collapsed": false,
     "input": [
      "name = raw_input('Enter the file: ')\n",
      "handle = open(name, 'r')\n",
      "text = handle.read()"
     ],
     "language": "python",
     "metadata": {},
     "outputs": [
      {
       "name": "stdout",
       "output_type": "stream",
       "stream": "stdout",
       "text": [
        "Enter the file: 1.txt\n"
       ]
      },
      {
       "ename": "IOError",
       "evalue": "[Errno 2] No such file or directory: '1.txt'",
       "output_type": "pyerr",
       "traceback": [
        "\u001b[0;31m---------------------------------------------------------------------------\u001b[0m\n\u001b[0;31mIOError\u001b[0m                                   Traceback (most recent call last)",
        "\u001b[0;32m<ipython-input-357-a49fd1851dd1>\u001b[0m in \u001b[0;36m<module>\u001b[0;34m()\u001b[0m\n\u001b[1;32m      1\u001b[0m \u001b[0mname\u001b[0m \u001b[0;34m=\u001b[0m \u001b[0mraw_input\u001b[0m\u001b[0;34m(\u001b[0m\u001b[0;34m'Enter the file: '\u001b[0m\u001b[0;34m)\u001b[0m\u001b[0;34m\u001b[0m\u001b[0m\n\u001b[0;32m----> 2\u001b[0;31m \u001b[0mhandle\u001b[0m \u001b[0;34m=\u001b[0m \u001b[0mopen\u001b[0m\u001b[0;34m(\u001b[0m\u001b[0mname\u001b[0m\u001b[0;34m,\u001b[0m \u001b[0;34m'r'\u001b[0m\u001b[0;34m)\u001b[0m\u001b[0;34m\u001b[0m\u001b[0m\n\u001b[0m\u001b[1;32m      3\u001b[0m \u001b[0mtext\u001b[0m \u001b[0;34m=\u001b[0m \u001b[0mhandle\u001b[0m\u001b[0;34m.\u001b[0m\u001b[0mread\u001b[0m\u001b[0;34m(\u001b[0m\u001b[0;34m)\u001b[0m\u001b[0;34m\u001b[0m\u001b[0m\n",
        "\u001b[0;31mIOError\u001b[0m: [Errno 2] No such file or directory: '1.txt'"
       ]
      }
     ],
     "prompt_number": 357
    },
    {
     "cell_type": "code",
     "collapsed": false,
     "input": [
      "%%writefile ./example/sys_test.py\n",
      "import sys\n",
      "print 'Count:', len(sys.argv)\n",
      "print 'Type:', type(sys.argv)\n",
      "for i, arg in enumerate(sys.argv):\n",
      "    print 'Argument:', i,  arg"
     ],
     "language": "python",
     "metadata": {},
     "outputs": [
      {
       "output_type": "stream",
       "stream": "stdout",
       "text": [
        "Overwriting ./example/sys_test.py\n"
       ]
      }
     ],
     "prompt_number": 362
    },
    {
     "cell_type": "code",
     "collapsed": false,
     "input": [
      "%run example/sys_test.py a b c"
     ],
     "language": "python",
     "metadata": {},
     "outputs": [
      {
       "output_type": "stream",
       "stream": "stdout",
       "text": [
        "Count: 4\n",
        "Type: <type 'list'>\n",
        "Argument: 0 example/sys_test.py\n",
        "Argument: 1 a\n",
        "Argument: 2 b\n",
        "Argument: 3 c\n"
       ]
      }
     ],
     "prompt_number": 363
    },
    {
     "cell_type": "code",
     "collapsed": false,
     "input": [
      "%%writefile example/sys_test2.py\n",
      "import sys\n",
      "name = sys.argv[1]\n",
      "handle = open(name, 'r')\n",
      "text = handle.read()\n",
      "# print name, 'is', len(text), 'bytes'\n",
      "print '{name}, is {len_text} bytes'.format(name=name, len_text=len(text))"
     ],
     "language": "python",
     "metadata": {},
     "outputs": [
      {
       "output_type": "stream",
       "stream": "stdout",
       "text": [
        "Overwriting example/sys_test2.py\n"
       ]
      }
     ],
     "prompt_number": 368
    },
    {
     "cell_type": "code",
     "collapsed": false,
     "input": [
      "%run example/sys_test2.py ./code/argfile.py"
     ],
     "language": "python",
     "metadata": {},
     "outputs": [
      {
       "output_type": "stream",
       "stream": "stdout",
       "text": [
        "./code/argfile.py, is 114 bytes\n"
       ]
      }
     ],
     "prompt_number": 372
    },
    {
     "cell_type": "code",
     "collapsed": false,
     "input": [
      "!cat code/argfile.py"
     ],
     "language": "python",
     "metadata": {},
     "outputs": [
      {
       "output_type": "stream",
       "stream": "stdout",
       "text": [
        "import sys\r\n",
        "\r\n",
        "name = sys.argv[1]\r\n",
        "handle = open(name, 'r')\r\n",
        "text = handle.read()\r\n",
        "print name, 'is', len(text), 'bytes'\r\n"
       ]
      }
     ],
     "prompt_number": 373
    },
    {
     "cell_type": "markdown",
     "metadata": {},
     "source": [
      "- \uc785\ub825\uac12\uc73c\ub85c \uba85\ub839\ubb38 \uc778\uc218\ub97c \uc0ac\uc6a9\ud558\ub294 \uac83\uc740 \ud30c\uc774\uc36c \ud504\ub85c\uadf8\ub7a8\uc744 \uc7ac\uc0ac\uc6a9\ud558\uae30 \uc27d\uac8c \ud558\uace0, \ud2b9\ud788 \ud558\ub098 \ud639\uc740 \ub450\uac1c\uc758 \ubb38\uc790\uc5f4\uc744 \uc785\ub825\ubc1b\uc744 \ub54c \uc720\uc6a9\ud558\ub2e4."
     ]
    },
    {
     "cell_type": "markdown",
     "metadata": {},
     "source": [
      "## 16.4 \ud30c\uc774\ud504(Pipes)\n",
      "\n",
      "- \ub300\ubd80\ubd84\uc758 \uc6b4\uc601 \uc2dc\uc2a4\ud15c\uc740 Shell \ub85c \uc54c\ub824\uc9c4 \uba85\ub839\uc5b4 \uae30\ubc18 \uc778\ud130\ud398\uc774\uc2a4\ub97c \uc9c0\uc6d0\ud55c\ub2e4.\n",
      "- \uc258\uc5d0\uc11c \uc2e4\ud589\uc2dc\ud0ac \uc218 \uc788\ub294 \uc5b4\ub5a4 \ud504\ub85c\uadf8\ub7a8\uc774\ub098 pipe\ub97c \uc0ac\uc6a9\ud558\uc5ec \ud30c\uc774\uc36c\uc5d0\uc11c\ub3c4 \uc2e4\ud589\uc2dc\ud0ac \uc218 \uc788\ub2e4. \ud30c\uc774\ud504\ub294 \uc791\ub3d9\uc911\uc778 \ud504\ub85c\uc138\uc2a4\ub97c \ud45c\ud604\ud558\ub294 \uac1c\uccb4\ub2e4."
     ]
    },
    {
     "cell_type": "code",
     "collapsed": false,
     "input": [
      "cmd = 'ls -l'\n",
      "fp = os.popen(cmd)\n",
      "print fp\n",
      "print ''\n",
      "print fp.read()\n",
      "\n",
      "stat = fp.close()\n",
      "print stat"
     ],
     "language": "python",
     "metadata": {},
     "outputs": [
      {
       "output_type": "stream",
       "stream": "stdout",
       "text": [
        "<open file 'ls -l', mode 'r' at 0x10f368d20>\n",
        "\n",
        "total 696\n",
        "-rw-r--r--    1 re4lfl0w  staff  172329 Sep 26 09:52 ch01_why_we_are_learning_programming.ipynb\n",
        "drwxr-xr-x  106 re4lfl0w  staff    3604 Sep 24 05:59 code\n",
        "-rw-r--r--    1 re4lfl0w  staff   70057 Sep 24 00:04 cover.jpg\n",
        "drwxr-xr-x    8 re4lfl0w  staff     272 Sep 26 09:47 example\n",
        "-rw-r--r--    1 re4lfl0w  staff   25424 Sep 26 09:52 ghostdriver.log\n",
        "-rw-r--r--    1 re4lfl0w  staff       0 Sep 22 14:56 mbox.txt\n",
        "-rw-r--r--    1 re4lfl0w  staff    2048 Sep 24 12:39 music.sqlite3\n",
        "-rw-r--r--    1 re4lfl0w  staff   70057 Sep 23 12:39 stuff.jpg\n",
        "\n",
        "None\n"
       ]
      }
     ],
     "prompt_number": 380
    },
    {
     "cell_type": "markdown",
     "metadata": {},
     "source": [
      "- \uc778\uc218\ub294 \uc258 \uba85\ub839\uc5b4\ub97c \ud3ec\ud568\ud558\ub294 \ubb38\uc790\uc5f4(ls -l)\n",
      "- \ubc18\ud658\uac12\uc740 \ud30c\uc77c \ud3ec\uc778\ud130\ub85c \uc5f4\ub9b0 \ud30c\uc77c\ucc98\ub7fc \ub3d9\uc791\ud55c\ub2e4(open file 'ls -l', mode 'r' at ~~)\n",
      "- \ud30c\uc77c \ud3ec\uc778\ud130\ucc98\ub7fc \ub3d9\uc791\ud558\ub2c8 \uadf8\ub0e5 \ubaa8\ub450 \uc77d\uc5b4\uc11c print \ud574\ubcf4\uba74 ls -l \uc2e4\ud589\uacb0\uacfc\uc778 \uac83\uc744 \uc54c \uc218 \uc788\ub2e4."
     ]
    },
    {
     "cell_type": "markdown",
     "metadata": {},
     "source": [
      "## 16.6 \uc5f0\uc2b5\ubb38\uc81c\n",
      "\n",
      "- MP3 \ud30c\uc77c\uc774 \ub300\uaddc\ubaa8\ub85c \uc218\uc9d1\ub418\uc5b4 \uc788\ub294 \uacf3\uc5d0\ub294 \uac19\uc740 \ub178\ub798\uc758 \ubcf5\uc0ac\ubcf8\uc774 \ud558\ub098 \uc774\uc0c1\uc774 \ub2e4\ub978 \ub514\ub809\ud1a0\ub9ac \ud639\uc740 \ub2e4\ub978 \ud30c\uc77c \uc774\ub984\uc73c\ub85c \uc800\uc7a5\ub418\uc5b4 \uc788\uc744 \uc218 \uc788\ub2e4.\n",
      "- \uc774\ubc88 \uc5f0\uc2b5\ubb38\uc81c\uc758 \ubaa9\ud45c\ub294 \uc774\ub7f0 \uc911\ubcf5 \ud30c\uc77c\uc744 \ucc3e\ub294 \uac83\n",
      "\n",
      "### 1. \ub3d9\uc77c\ud55c \ud06c\uae30\ub97c \uac00\uc9c4 \ud30c\uc77c\uc9dd\uc744 \ubaa9\ub85d\uc73c\ub85c \ubcf4\uc5ec\uc8fc\ub294 \ud504\ub85c\uadf8\ub7a8 \uc791\uc131\n",
      "\n",
      "- .mp3\uac19\uc740 \ud655\uc7a5\uc790\ub97c \uac00\uc9c4 \ud30c\uc77c\uc744 \ubaa8\ub4e0 \ub514\ub809\ud1a0\ub9ac\uc640 \ud558\uc704 \ub514\ub809\ud1a0\ub9ac\ub97c \uac80\uc0c9\ud574\uc11c \ub3d9\uc77c\ud55c \ud06c\uae30\ub97c \uac00\uc9c4 \ud30c\uc77c\uc9dd\uc744 \ubaa9\ub85d\uc73c\ub85c \ubcf4\uc5ec\uc8fc\ub294 \ud504\ub85c\uadf8\ub7a8\uc744 \uc791\uc131\ud558\uc138\uc694.\n",
      "- \ud78c\ud2b8: \ub515\uc154\ub108\ub9ac\ub97c \uc0ac\uc6a9\ud558\uc138\uc694.\n",
      "- \ub515\uc154\ub108\ub9ac\uc758 \ud0a4\ub294 os.path.getsize\uc5d0\uc11c \ud30c\uc77c\uc758 \ud06c\uae30\uac00 \ub418\uace0\n",
      "- \ub515\uc154\ub108\ub9ac\uc758 \uac12\uc740 \ud30c\uc77c\uc774\ub984\uacfc \uacb0\ud569\ub41c \uacbd\ub85c\uba85\uc774 \ub41c\ub2e4.\n",
      "- \ud30c\uc77c\uc744 \ub9e4\ubc88 \ub9c8\uc8fc\uce60 \ub54c\ub9c8\ub2e4 \ud604\uc7ac \ud30c\uc77c\uacfc \ub3d9\uc77c\ud55c \ud06c\uae30\ub97c \uac00\uc9c4 \ud30c\uc77c\uc774 \uc774\ubbf8 \uc874\uc7ac\ud558\ub294\uc9c0\ub97c \uac80\uc0ac\n",
      "- \ub9cc\uc57d \uadf8\ub807\ub2e4\uba74, \uc911\ubcf5\ub41c \ud06c\uae30 \ud30c\uc77c\uc774 \uc788\uace0 \ud30c\uc77c \ud06c\uae30\uc640 \ub450 \ud30c\uc77c \uc774\ub984\uc744 \ucd9c\ub825\ud55c\ub2e4.(\ud574\uc26c\uc5d0\uc11c \ud55c \ud30c\uc77c, \ucc3e\uace0\uc788\ub294 \ub2e4\ub978 \ud30c\uc77c)"
     ]
    },
    {
     "cell_type": "code",
     "collapsed": false,
     "input": [
      "import os\n",
      "\n",
      "def check_duplicate_file(path):\n",
      "    d = {}\n",
      "    for (dirname, dirs, files) in os.walk(path):\n",
      "        for filename in files:\n",
      "            thefile = os.path.join(dirname, filename)\n",
      "            size = os.path.getsize(thefile)\n",
      "            if not size in d.keys():\n",
      "                d[size] = thefile\n",
      "            else:\n",
      "                print d[size], thefile\n",
      "\n",
      "check_duplicate_file('./example/')"
     ],
     "language": "python",
     "metadata": {},
     "outputs": [
      {
       "output_type": "stream",
       "stream": "stdout",
       "text": [
        "./example/nose_average.py ./example/nose_average_content_upgrade.py\n",
        "./example/nose_average.py ./example/nose_average_copy.py\n",
        "./example/parsing.py ./example/parsing_copy.py\n"
       ]
      }
     ],
     "prompt_number": 386
    },
    {
     "cell_type": "markdown",
     "metadata": {},
     "source": [
      "- average_copy: copy\ubcf8\n",
      "- content_upgrade: content \ub0b4\uc6a9\uc740 \ub2ec\ub77c\uc84c\uc9c0\ub9cc \ud30c\uc77c \ud06c\uae30\ub294 \ub3d9\uc77c\n",
      "- \ud30c\uc77c \ud06c\uae30\ub9cc \ub3d9\uc77c\ud55c \uac83\uc744 \ucc3e\uac8c \ub418\uba74 \ub0b4\uc6a9\uc774 \uc804\ud600 \ub2ec\ub77c\ub3c4 \ub3d9\uc77c\ud55c \ud06c\uae30\uc774\ubbc0\ub85c \ub3d9\uc77c\ud558\ub2e4\uace0 \uc54c\ub824\uc900\ub2e4. \ubb38\uc81c\ub2e4!"
     ]
    },
    {
     "cell_type": "markdown",
     "metadata": {},
     "source": [
      "### 2. Checksum\n",
      "\n",
      "- \uc54c\uace0\ub9ac\uc998\uc774\ub098 \ud574\uc2f1\uc744 \uc0ac\uc6a9\ud558\uc5ec \uc911\ubcf5 \ucf58\ud150\uce20\ub97c \uac00\uc9c4 \ud30c\uc77c\uc744 \ucc3e\ub294 \uc774\uc804\uc758 \ud504\ub85c\uadf8\ub7a8\uc744 \uac1c\uc791\ud558\uc138\uc694.\n",
      "- \uc608\ub97c \ub4e4\uc5b4 MD5(Message-Digest algorithm 5)\ub294 \uc784\uc758\uc801\uc73c\ub85c \uae34 '\uba54\uc2dc\uc9c0'\ub97c \uac00\uc9c0\uace0 128\ube44\ud2b8 '\uccb4\ud06c\uc378'\uc744 \ubc18\ud658\ud55c\ub2e4.\n",
      "- \ub2e4\ub978 \ucf58\ud150\uce20\ub97c \uac00\uc9c4 \ub450 \ud30c\uc77c\uc774 \uac19\uc740 \uccb4\ud06c\uc378\uc744 \ubc18\ud658\ud560 \ud655\ub960\uc740 \ub9e4\uc6b0 \uc801\ub2e4.\n",
      "- [MD5 - wiki](http://en.wkipedia.org/wiki/Md5)"
     ]
    },
    {
     "cell_type": "code",
     "collapsed": false,
     "input": [
      "import os\n",
      "import hashlib\n",
      "\n",
      "def check_duplicate_file_md5(path):\n",
      "    d = {}\n",
      "    for (dirname, dirs, files) in os.walk(path):\n",
      "        for filename in files:\n",
      "            thefile = os.path.join(dirname, filename)            \n",
      "            with open(thefile, 'r') as f:\n",
      "                data = f.read()\n",
      "            md5 = hashlib.md5(data).hexdigest()\n",
      "            if not md5 in d.keys():\n",
      "                d[md5] = thefile\n",
      "            else:\n",
      "                print d[md5], thefile\n",
      "\n",
      "check_duplicate_file_md5('./example/')"
     ],
     "language": "python",
     "metadata": {},
     "outputs": [
      {
       "output_type": "stream",
       "stream": "stdout",
       "text": [
        "./example/nose_average.py ./example/nose_average_copy.py\n",
        "./example/parsing.py ./example/parsing_copy.py\n"
       ]
      }
     ],
     "prompt_number": 402
    },
    {
     "cell_type": "code",
     "collapsed": false,
     "input": [
      "# \ubcc0\uc218\uc774\ub984\uc744 \uac19\uc774 \ubcc0\uacbd\ud574\uc8fc\uc9c0 \uc54a\ub294 \uc2e4\uc218\ud558\ub294 \uacbd\uc6b0\n",
      "import os\n",
      "import hashlib\n",
      "\n",
      "def check_duplicate_file_md5(path):\n",
      "    d = {}\n",
      "    for (dirname, dirs, files) in os.walk(path):\n",
      "        for filename in files:\n",
      "            thefile = os.path.join(dirname, filename)     \n",
      "            fhand = open(thefile, 'r')\n",
      "            data = fhand.read()\n",
      "            fhand.close()\n",
      "            md5 = hashlib.md5(data).hexdigest()\n",
      "            print thefile, md5\n",
      "            # \ubcc0\uc218 \uc774\ub984\uc744 md5\ub85c \ubc14\uafe8\ub294\ub370 \ubc11\uc758 d[size] \ubd80\ubd84\uc740 \ubcc0\uacbd\ud558\uc9c0 \uc54a\uc544\uc11c \ucd9c\ub825\uc774 \uc548\ub428\n",
      "            # \uc774\ub7f0 \uacbd\uc6b0\uac00 \uaf64 \ub9ce\uc73c\ub2c8\uae4c \uc870\uc2ec\ud558\uc790.\n",
      "            # \ubcc0\uc218\ub97c \ucd94\uac00\ud558\uac70\ub098 \ubcc0\uacbd\ud55c \ud6c4\uc5d0\ub294 \ubcc0\uc218\uac00 \uc0ac\uc6a9\ub420 \uacf3\ub3c4 \uac19\uc774 \ubcc0\uacbd\ud574\uc8fc\uc790.\n",
      "            # \uc544\ub2c8\ub77c\uba74 PyCharm\uc758 \ubcc0\uc218\ub97c \ud55c \ubc88\uc5d0 \ubcc0\uacbd\ud574\uc8fc\ub294 \uae30\ub2a5\uc744 \uc0ac\uc6a9\ud574\uc11c \ubcc0\uacbd\ud558\uba74 \ub41c\ub2e4.\n",
      "            if not md5 in d.keys():\n",
      "                d[size] = thefile\n",
      "            else:\n",
      "                print d[size], thefile\n",
      "\n",
      "check_duplicate_file_md5('./example/')"
     ],
     "language": "python",
     "metadata": {},
     "outputs": [
      {
       "output_type": "stream",
       "stream": "stdout",
       "text": [
        "./example/nose_average.py 4ec7f228f007c7c429096a6c1a50de9b\n",
        "./example/nose_average_content_upgrade.py 2a2c2c1fc44f50e8c050e75bab0a95df\n",
        "./example/nose_average_copy.py 4ec7f228f007c7c429096a6c1a50de9b\n",
        "./example/parsing.py 12a35bf50f9dd3b30b6c218095c06dc1\n",
        "./example/parsing_copy.py 12a35bf50f9dd3b30b6c218095c06dc1\n",
        "./example/sys_test.py 5e46a4f7cd973137c62da406c8028668\n",
        "./example/sys_test2.py ee33257e9c2a4619f122e73de12c97e8\n",
        "./example/test1.txt 444bcb3a3fcf8389296c49467f27e1d6\n",
        "./example/test2.txt 54d59168d4a042aa6a4abd3a1bf7503a\n"
       ]
      }
     ],
     "prompt_number": 400
    },
    {
     "cell_type": "markdown",
     "metadata": {},
     "source": [
      "## \ub290\ub080 \uc810\n",
      "\n",
      "- \uc608\uc804 \ucc45\uc774\ub77c \uc2e4\uc2b5\ud560 \uc218 \uc788\ub294 \uc608\uc81c\uac00 \ubd80\uc871\ud574\uc11c \uc544\uc26c\uc6c0\n",
      "- \uc2e4\uc9c8\uc801\uc73c\ub85c \ud14c\uc2a4\ud2b8 \ud574\ubcfc \uc218 \uc788\ub294 \uc608\uc81c \ub370\uc774\ud130\uac00 \uc5c6\ub2e4.(\uc18c\uc2a4\ub294 \uc788\ub294\ub370 \ud14c\uc2a4\ud2b8 \ud560 \ub370\uc774\ud130\ub97c \uac19\uc774 \uc81c\uacf5\ud574\uc8fc\uc9c0 \uc54a\uc74c. \ub0b4\uac00 \uc798 \uc548\ubd10\uc11c \uadf8\ub7f0\uac00..?)\n",
      "- \ubc88\uc5ed\ubcf8\uc778\ub370 \uc624\ud0c0\ub4e4\uc774 \uaf64 \ubcf4\uc600\uc9c0\ub9cc \uace0\uc0dd\ud558\uc154\uc11c \ubb34\ub8cc\ub85c \ubca0\ud480\uc5b4\uc8fc\uc2dc\ub294\ub370 \ub300\ud55c \uc608\uc758\uac00 \uc544\ub2cc\uac83 \uac19\ub2e4. \ubb34\ub8cc\ub85c \ubc88\uc5ed\ud574 \uc8fc\uc154\uc11c \uac10\uc0ac\ud569\ub2c8\ub2e4. \ub355\ubd84\uc5d0 \ud55c\uae00\ub85c \uc27d\uac8c \ubc30\uc6e0\uc2b5\ub2c8\ub2e4.\n",
      "- \uc774\uc81c \uae30\ucd08\ub294 \uadf8\ub9cc \ub5bc\ub3c4 \ub420\ub4ef\ud558\ub2e4. \uc774\uc81c \uc815\ub9d0 \uc911\uae09\ucc45\uc73c\ub85c \uc9c4\uc785\uc744 \uc694\ud558\ub294 \uc2dc\uc810\uc774 \uc628\ub4ef.."
     ]
    }
   ],
   "metadata": {}
  }
 ]
}